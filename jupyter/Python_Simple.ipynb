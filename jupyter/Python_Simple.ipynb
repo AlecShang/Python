{
 "cells": [
  {
   "cell_type": "code",
   "execution_count": 89,
   "metadata": {},
   "outputs": [
    {
     "name": "stdout",
     "output_type": "stream",
     "text": [
      "200\n",
      "{'__name__': '__main__', '__doc__': 'Automatically created module for IPython interactive environment', '__package__': None, '__loader__': None, '__spec__': None, '__builtin__': <module 'builtins' (built-in)>, '__builtins__': <module 'builtins' (built-in)>, '_ih': ['', 'for i in range(1,11):\\n    print(i)', 'student_score = input(\"please input your score:\")\\nif studnet_score > 0:\\n    if studnet_score > 90:\\n        print(\"your score is A\")\\n    elif studnet_score > 80 and studnet_score <= 90\\n        print(\"your score is B\")\\n    elif studnet_score > 70 and studnet_score <= 80\\n        print(\"your score is C\")\\n    elif studnet_score > 60 and studnet_score <= 70\\n        print(\"your score is D\")\\n    else\\n        print(\"your score not pass!\")', 'student_score = input(\"please input your score:\")\\nif studnet_score > 0:\\n    if studnet_score > 90:\\n        print(\"your score is A\")\\n    elif studnet_score > 80 and studnet_score < 90\\n        print(\"your score is B\")\\n    elif studnet_score > 70 and studnet_score < 80\\n        print(\"your score is C\")\\n    elif studnet_score > 60 and studnet_score < 70\\n        print(\"your score is D\")\\n    else\\n        print(\"your score not pass!\")', 'student_score = input(\"please input your score:\")\\nif studnet_score > 0:\\n    if studnet_score > 90:\\n        print(\"your score is A\")\\n    elif studnet_score > 80 and studnet_score <= 90:\\n        print(\"your score is B\")\\n    elif studnet_score > 70 and studnet_score <= 80:\\n        print(\"your score is C\")\\n    elif studnet_score > 60 and studnet_score <= 70:\\n        print(\"your score is D\")\\n    else:\\n        print(\"your score not pass!\")', 'student_score = input(\"please input your score:\")\\nif studnet_score > 0:\\n    if student_score > 90:\\n        print(\"your score is A\")\\n    elif student_score > 80 and student_score <= 90:\\n        print(\"your score is B\")\\n    elif student_score > 70 and student_score <= 80:\\n        print(\"your score is C\")\\n    elif student_score > 60 and student_score <= 70:\\n        print(\"your score is D\")\\n    else:\\n        print(\"your score not pass!\")', 'student_score = input(\"please input your score:\")\\nif student_score > 0:\\n    if student_score > 90:\\n        print(\"your score is A\")\\n    elif student_score > 80 and student_score <= 90:\\n        print(\"your score is B\")\\n    elif student_score > 70 and student_score <= 80:\\n        print(\"your score is C\")\\n    elif student_score > 60 and student_score <= 70:\\n        print(\"your score is D\")\\n    else:\\n        print(\"your score not pass!\")', 'student_score = int(input(\"please input your score:\"))\\nif student_score > 0:\\n    if student_score > 90:\\n        print(\"your score is A\")\\n    elif student_score > 80 and student_score <= 90:\\n        print(\"your score is B\")\\n    elif student_score > 70 and student_score <= 80:\\n        print(\"your score is C\")\\n    elif student_score > 60 and student_score <= 70:\\n        print(\"your score is D\")\\n    else:\\n        print(\"your score not pass!\")', 'student_score = int(input(\"please input your score:\"))\\nif student_score > 0:\\n    if student_score > 90:\\n        print(\"your score is A\")\\n    elif student_score > 80 and student_score <= 90:\\n        print(\"your score is B\")\\n    elif student_score > 70 and student_score <= 80:\\n        print(\"your score is C\")\\n    elif student_score > 60 and student_score <= 70:\\n        print(\"your score is D\")\\n    else:\\n        print(\"your score not pass!\")', 'student_score = int(input(\"please input your score:\"))\\nif student_score > 0:\\n    if student_score > 90:\\n        print(\"your score is A\")\\n    elif student_score > 80 and student_score <= 90:\\n        print(\"your score is B\")\\n    elif student_score > 70 and student_score <= 80:\\n        print(\"your score is C\")\\n    elif student_score > 60 and student_score <= 70:\\n        print(\"your score is D\")\\n    else:\\n        print(\"your score not pass!\")', 'student_score = int(input(\"please input your score:\"))\\nif student_score > 0:\\n    if student_score > 90:\\n        print(\"your score is A\")\\n    elif student_score > 80 and student_score <= 90:\\n        print(\"your score is B\")\\n    elif student_score > 70 and student_score <= 80:\\n        print(\"your score is C\")\\n    elif student_score >= 60 and student_score <= 70:\\n        print(\"your score is D\")\\n    else:\\n        print(\"your score not pass!\")', 'student_score = int(input(\"please input your score:\"))\\nif student_score > 0:\\n    if student_score > 90:\\n        print(\"your score is A\")\\n    elif student_score > 80 and student_score <= 90:\\n        print(\"your score is B\")\\n    elif student_score > 70 and student_score <= 80:\\n        print(\"your score is C\")\\n    elif student_score >= 60 and student_score <= 70:\\n        print(\"your score is D\")\\n    else:\\n        print(\"your score not pass!\")', \"person_list = ['zhangsan','lisi','wangwu','zhaoliu']\\nfor _ in person_list:\\n    print('1')\", \"person_list = ['zhangsan','lisi','wangwu','zhaoliu']\\nfor i in person_list:\\n    print(i)\", \"person_list = ['zhangsan','lisi','wangwu','zhaoliu']\\nfor i in person_list:\\n    if i != 'lisi':\\n        print('this is not lisi')\\n    else:\\n        print('yes, this is lisi!')\", \"person_list = ['zhangsan','lisi','wangwu','zhaoliu']\\nfor i in person_list:\\n    if i != 'lisi':\\n        print('this is not lisi')\\n    else:\\n        print('yes, this is lisi!')\\n        break\", \"person_list = ['zhangsan','lisi','wangwu','zhaoliu']\\nfor i in person_list:\\n    if i != 'lisi':\\n        continue\\n    else:\\n        print('yes, this is lisi!')\\n        break\", \"person_list = ['zhangsan','lisi','wangwu','zhaoliu']\\nfor i in person_list:\\n    pass\\n    if i != 'lisi':\\n        continue\\n    else:\\n        print('yes, this is lisi!')\\n        break\", '# make a 9 * 9 \\n\\nfor i in range(1,10)', \"# make a 9 * 9 \\n\\nfor i in range(1,10):\\n    print('----')\", \"# make a 9 * 9 \\n\\nfor i in range(1,10):\\n    print('i')\", '# make a 9 * 9 \\n\\nfor i in range(1,10):\\n    print(i)', '# make a 9 * 9 \\n\\nfor i in range(1,10):\\n    for j in range(1,i):\\n        print(i)', '# make a 9 * 9 \\n\\nfor i in range(1,10):\\n    for j in range(1,i):\\n        print(\"i\")', '# make a 9 * 9 \\n\\nfor i in range(1,10):\\n    for j in range(1,i):\\n        print(j)', \"# make a 9 * 9 \\n\\nfor i in range(1,10):\\n    for j in range(1,i):\\n        print(j,end='')\", '# make a 9 * 9 \\n\\nfor i in range(1,10):\\n    for j in range(1,i):\\n        print(j)', '# make a 9 * 9 \\n\\nfor i in range(1,10):\\n    print(i)\\n    for j in range(1,i):\\n        print(j)', '# make a 9 * 9 \\n\\nfor i in range(1,10):\\n    print(i)\\n    for j in range(1,i):\\n        pass', '# make a 9 * 9 \\n\\nfor i in range(1,10):\\n    for j in range(1,i):\\n        pass', \"# make a 9 * 9 \\n\\nfor i in range(1,10):\\n    for j in range(1,i):\\n        print('i')\", '# make a 9 * 9 \\n\\nfor i in range(1,10):\\n    for j in range(1,i):\\n        print(i * j)', '# make a 9 * 9 \\n\\nfor i in range(1,10):\\n    for j in range(1,i+1):\\n        print(i * j)', \"# make a 9 * 9 \\n\\nfor i in range(1,10):\\n    for j in range(1,i+1):\\n        print(i * j)\\n    print('')\", \"# make a 9 * 9 \\n\\nfor i in range(1,10):\\n    for j in range(1,i+1):\\n        print(i * j)\\n    print('---')\", \"# make a 9 * 9 \\n\\nfor i in range(1,10):\\n    for j in range(1,i+1):\\n        print(i * j)\\n    print('',end = '')\", \"# make a 9 * 9 \\n\\nfor i in range(1,10):\\n    for j in range(1,i+1):\\n        print(i * j)\\n    print('')\", \"# make a 9 * 9 \\n\\nfor i in range(1,10):\\n    for j in range(1,i+1):\\n        print(i * j,end = '')\\n    print('')\", \"# make a 9 * 9 \\n\\nfor i in range(1,10):\\n    for j in range(1,i+1):\\n        print(i * j,end = '')\\n    print(' ')\", \"# make a 9 * 9 \\n\\nfor i in range(1,10):\\n    for j in range(1,i+1):\\n        print(i * j,end = '')\\n    print(' ')\", \"# make a 9 * 9 \\n\\nfor i in range(1,10):\\n    for j in range(1,i+1):\\n        print(i * j,end = ' ')\\n    print(' ')\", \"# make a 9 * 9 \\n\\nfor i in range(1,10):\\n    for j in range(1,i+1):\\n        print(i * j,end = ' ')\\n    print('')\", \"# make a 9 * 9 \\ndef calculate9(i):\\n    for j in range(1,i+1):\\n        print(i * j,end = ' ')\\n    print('')\\nfor i in range(1,10):\\n    calculate9(i)\", \"# make a 9 * 9 \\ndef calculate9(i):\\n    for j in range(1,i+1):\\n        print(i * j,end = ' ')\\n    print('')\\nfor i in range(1,10):\\n    calculate9(i)\", 'help(numpy)', 'help(sys)', 'help(input)', 'def testfunction(name,age = 18, *args):\\n    print(\"this is a self-introduction\")\\n    print(\"i am {0} , i {1} years old\".format(name,age))\\n\\n\\ntestfunction(\\'shangjingwei\\')', 'def testfunction(name,age = 18, *args):\\n    print(\"this is a self-introduction\")\\n    print(\"i am {0} , i {1} years old\".format(name,age))\\n\\n\\ntestfunction(\\'shangjingwei\\',\\'i come from henan\\')', 'def testfunction(name, *args,age = 18):\\n    print(\"this is a self-introduction\")\\n    print(\"i am {0} , i {1} years old\".format(name,age))\\n\\n\\ntestfunction(\\'shangjingwei\\',\\'i come from henan\\')', 'def testfunction(name, *args,age = 18):\\n    print(\"this is a self-introduction\")\\n    print(\"i am {0} , i {1} years old\".format(name,age))\\n    for i in args:\\n        print(i)\\n\\n\\ntestfunction(\\'shangjingwei\\',\\'i come from henan\\')', 'def testfunction(name, *args,age = 18):\\n    print(\"this is a self-introduction\")\\n    print(\"i am {0} , i {1} years old\".format(name,age))\\n    for i in args:\\n        print(i)\\n\\n\\ntestfunction(\\'shangjingwei\\',\\'i come from henan\\',\\'my hobby is swimming\\')', 'def testfunction(name, *args,age = 18,**args):\\n    print(\"this is a self-introduction\")\\n    print(\"i am {0} , i {1} years old\".format(name,age))\\n    for i in args:\\n        type(agrs)\\n        print(i)\\n\\n\\ntestfunction(\\'shangjingwei\\',\\'i come from henan\\',\\'my hobby is swimming\\')', 'def testfunction(name, *args,age = 18,**args):\\n    print(\"this is a self-introduction\")\\n    print(\"i am {0} , i {1} years old\".format(name,age))\\n    for i in args:\\n        type(args)\\n        print(i)\\n\\n\\ntestfunction(\\'shangjingwei\\',\\'i come from henan\\',\\'my hobby is swimming\\')', 'def testfunction(name, *args,age = 18,**args):\\n    print(\"this is a self-introduction\")\\n    print(\"i am {0} , i {1} years old\".format(name,age))\\n    for i in args:\\n        type(i)\\n        print(i)\\n\\n\\ntestfunction(\\'shangjingwei\\',\\'i come from henan\\',\\'my hobby is swimming\\')', 'def testfunction(name, *args,age = 18,**args):\\n    print(\"this is a self-introduction\")\\n    print(\"i am {0} , i {1} years old\".format(name,age))\\n    for i in args:\\n        type(args())\\n        print(i)\\n\\n\\ntestfunction(\\'shangjingwei\\',\\'i come from henan\\',\\'my hobby is swimming\\')', 'def testfunction(name, *args,age = 18,**args):\\n    print(\"this is a self-introduction\")\\n    print(\"i am {0} , i {1} years old\".format(name,age))\\n    for i in args:\\n        args.type()\\n        print(i)\\n\\n\\ntestfunction(\\'shangjingwei\\',\\'i come from henan\\',\\'my hobby is swimming\\')', 'def testfunction(name, *args,age = 18,**args):\\n    print(\"this is a self-introduction\")\\n    print(\"i am {0} , i {1} years old\".format(name,age))\\n    for i in args:\\n        type(*args)\\n        print(i)\\n\\n\\ntestfunction(\\'shangjingwei\\',\\'i come from henan\\',\\'my hobby is swimming\\')', 'def testfunction(name, *args,age = 18,**args):\\n    print(\"this is a self-introduction\")\\n    print(\"i am {0} , i {1} years old\".format(name,age))\\n    type(args)\\n    for i in args:\\n        print(i)\\n\\n\\ntestfunction(\\'shangjingwei\\',\\'i come from henan\\',\\'my hobby is swimming\\')', 'def testfunction(name, *args,age = 18,**args):\\n    print(\"this is a self-introduction\")\\n    print(\"i am {0} , i {1} years old\".format(name,age))\\n    for i in args:\\n        print(i)\\n\\n\\ntestfunction(\\'shangjingwei\\',\\'i come from henan\\',\\'my hobby is swimming\\')', 'def testfunction(name, *args,age = 18,**kwargs):\\n    print(\"this is a self-introduction\")\\n    print(\"i am {0} , i {1} years old\".format(name,age))\\n    for i in args:\\n        type(args)\\n        print(i)\\n\\n\\ntestfunction(\\'shangjingwei\\',\\'i come from henan\\',\\'my hobby is swimming\\')', 'def testfunction(name, *args,age = 18,**kwargs):\\n    print(\"this is a self-introduction\")\\n    print(\"i am {0} , i {1} years old\".format(name,age))\\n    for i in args:\\n        type(*args)\\n        print(i)\\n\\n\\ntestfunction(\\'shangjingwei\\',\\'i come from henan\\',\\'my hobby is swimming\\')', 'def testfunction(name, *args,age = 18,**kwargs):\\n    print(\"this is a self-introduction\")\\n    print(\"i am {0} , i {1} years old\".format(name,age))\\n    for i in args:\\n        type(args)\\n        print(i)\\n\\n\\ntestfunction(\\'shangjingwei\\',\\'i come from henan\\',\\'my hobby is swimming\\')', 'def testfunction(name, *args,age = 18,**kwargs):\\n    print(\"this is a self-introduction\")\\n    print(\"i am {0} , i {1} years old\".format(name,age))\\n    type(args)\\n    for i in args:\\n\\n        print(i)\\n\\n\\ntestfunction(\\'shangjingwei\\',\\'i come from henan\\',\\'my hobby is swimming\\')', 'def testfunction(name, *args,age = 18,**kwargs):\\n    print(\"this is a self-introduction\")\\n    print(\"i am {0} , i {1} years old\".format(name,age))\\n    type(args())\\n    for i in args:\\n\\n        print(i)\\n\\n\\ntestfunction(\\'shangjingwei\\',\\'i come from henan\\',\\'my hobby is swimming\\')', 'def testfunction(name, *args,age = 18,**kwargs):\\n    print(\"this is a self-introduction\")\\n    print(\"i am {0} , i {1} years old\".format(name,age))\\n    type(args\\n    for i in args:\\n\\n        print(i)\\n\\n\\ntestfunction(\\'shangjingwei\\',\\'i come from henan\\',\\'my hobby is swimming\\')', 'def testfunction(name, *args,age = 18,**kwargs):\\n    print(\"this is a self-introduction\")\\n    print(\"i am {0} , i {1} years old\".format(name,age))\\n    type(args)\\n    for i in args:\\n\\n        print(i)\\n\\n\\ntestfunction(\\'shangjingwei\\',\\'i come from henan\\',\\'my hobby is swimming\\')', 'def testfunction(name, *args,age = 18,**kwargs):\\n    print(\"this is a self-introduction\")\\n    print(\"i am {0} , i {1} years old\".format(name,age))\\n    print(type(args))\\n    for i in args:\\n        print(i)\\n\\n\\ntestfunction(\\'shangjingwei\\',\\'i come from henan\\',\\'my hobby is swimming\\')', 'def testfunction(name, *args,age = 18,**kwargs):\\n    print(\"this is a self-introduction\")\\n    print(\"i am {0} , i {1} years old\".format(name,age))\\n    print(type(args))\\n    for i in args:\\n        print(i)\\n    print(type(kwargs))\\n    for j in kwargs.items:\\n        print(j)\\n\\n\\ntestfunction(\\'shangjingwei\\',\\'i come from henan\\',\\'my hobby is swimming\\')', 'def testfunction(name, *args,age = 18,**kwargs):\\n    print(\"this is a self-introduction\")\\n    print(\"i am {0} , i {1} years old\".format(name,age))\\n    print(type(args))\\n    for i in args:\\n        print(i)\\n    print(type(kwargs))\\n    for j in kwargs.item:\\n        print(j)\\n\\n\\ntestfunction(\\'shangjingwei\\',\\'i come from henan\\',\\'my hobby is swimming\\')', 'def testfunction(name, *args,age = 18,**kwargs):\\n    print(\"this is a self-introduction\")\\n    print(\"i am {0} , i {1} years old\".format(name,age))\\n    print(type(args))\\n    for i in args:\\n        print(i)\\n    print(type(kwargs))\\n    for j in kwargs:\\n        print(j)\\n\\n\\ntestfunction(\\'shangjingwei\\',\\'i come from henan\\',\\'my hobby is swimming\\')', 'def testfunction(name, *args,age = 18,**kwargs):\\n    print(\"this is a self-introduction\")\\n    print(\"i am {0} , i {1} years old\".format(name,age))\\n    print(type(args))\\n    for i in args:\\n        print(i)\\n    print(type(kwargs))\\n    for j in kwargs:\\n        print(j)\\n\\n\\ntestfunction(\\'shangjingwei\\',\\'i come from henan\\',\\'my hobby is swimming\\',hobby2=\\'eat\\')', 'def testfunction(name, *args,age = 18,**kwargs):\\n    print(\"this is a self-introduction\")\\n    print(\"i am {0} , i {1} years old\".format(name,age))\\n    print(type(args))\\n    for i in args:\\n        print(i)\\n    print(type(kwargs))\\n    for k,v in kwargs.items:\\n        print(j)\\n\\n\\ntestfunction(\\'shangjingwei\\',\\'i come from henan\\',\\'my hobby is swimming\\',hobby2=\\'eat\\')', 'def testfunction(name, *args,age = 18,**kwargs):\\n    print(\"this is a self-introduction\")\\n    print(\"i am {0} , i {1} years old\".format(name,age))\\n    print(type(args))\\n    for i in args:\\n        print(i)\\n    print(type(kwargs))\\n    for k,v in kwargs.item:\\n        print(j)\\n\\n\\ntestfunction(\\'shangjingwei\\',\\'i come from henan\\',\\'my hobby is swimming\\',hobby2=\\'eat\\')', 'def testfunction(name, *args,age = 18,**kwargs):\\n    print(\"this is a self-introduction\")\\n    print(\"i am {0} , i {1} years old\".format(name,age))\\n    print(type(args))\\n    for i in args:\\n        print(i)\\n    print(type(kwargs))\\n    for k,v in kwargs.items:\\n        print(j)\\n\\n\\ntestfunction(\\'shangjingwei\\',\\'i come from henan\\',\\'my hobby is swimming\\',hobby2=\\'eat\\')', 'def testfunction(name, *args,age = 18,**kwargs):\\n    print(\"this is a self-introduction\")\\n    print(\"i am {0} , i {1} years old\".format(name,age))\\n    print(type(args))\\n    for i in args:\\n        print(i)\\n    print(type(kwargs))\\n    for k,v in kwargs,items:\\n        print(j)\\n\\n\\ntestfunction(\\'shangjingwei\\',\\'i come from henan\\',\\'my hobby is swimming\\',hobby2=\\'eat\\')', 'def testfunction(name, *args,age = 18,**kwargs):\\n    print(\"this is a self-introduction\")\\n    print(\"i am {0} , i {1} years old\".format(name,age))\\n    print(type(args))\\n    for i in args:\\n        print(i)\\n    print(type(kwargs))\\n    for k,v in kwargs.items():\\n        print(j)\\n\\n\\ntestfunction(\\'shangjingwei\\',\\'i come from henan\\',\\'my hobby is swimming\\',hobby2=\\'eat\\')', 'def testfunction(name, *args,age = 18,**kwargs):\\n    print(\"this is a self-introduction\")\\n    print(\"i am {0} , i {1} years old\".format(name,age))\\n    print(type(args))\\n    for i in args:\\n        print(i)\\n    print(type(kwargs))\\n    for k,v in kwargs.items():\\n        print(k,v)\\n\\n\\ntestfunction(\\'shangjingwei\\',\\'i come from henan\\',\\'my hobby is swimming\\',hobby2=\\'eat\\')', 'def testfunction(name, *args,age = 18,**kwargs):\\n    print(\"this is a self-introduction\")\\n    print(\"i am {0} , i {1} years old\".format(name,age))\\n    print(type(args))\\n    for i in args:\\n        print(i)\\n    print(type(kwargs))\\n    for k,v in kwargs.items():\\n        print(k,\\'-\\' * 10,v)\\n\\n\\ntestfunction(\\'shangjingwei\\',\\'i come from henan\\',\\'my hobby is swimming\\',hobby2=\\'eat\\')', 'def dispack( *args):\\n    for i in args:\\n        print(i)', \"def dispack( *args):\\n    for i in args:\\n        print(i)\\n        \\n\\nl = ['zhangsan','lisi','wangwu','zhaoliu']\\n\\ndispack(l)\", \"def dispack( *args):\\n    for i in args:\\n        print(type(args))\\n        print(i)\\n        \\n\\nl = ['zhangsan','lisi','wangwu','zhaoliu']\\n\\ndispack(l)\", \"def dispack( *args):\\n    for i in args:\\n        print(type(args))\\n        print(i)\\n        \\n\\nl = ['zhangsan','lisi','wangwu','zhaoliu']\\n\\ndispack(*l)\", 'def defineGlobal( *args):\\n    global a\\n    a = 100\\n    \\n\\n    \\ndefineGlobal()\\nprint(a)', 'def defineGlobal( *args):\\n    global a\\n    a = 100\\n    \\n\\n    \\n#defineGlobal()\\nprint(a)', 'b = 200\\ndef defineGlobal( *args):\\n    global a\\n    a = 100\\n    print(b)\\n    \\n\\n    \\n#defineGlobal()\\nprint(a)', 'b = 200\\ndef defineGlobal( *args):\\n    global a\\n    a = 100\\n    print(b)\\n    \\n\\n    \\ndefineGlobal()\\nprint(a)', 'b = 200\\ndef defineGlobal( *args):\\n    global a\\n    a = 100\\n    print(b)\\n    \\n\\n    \\ndefineGlobal()\\nprint(globals())\\nprint(locals())', 'b = 200\\ndef defineGlobal( *args):\\n    global a\\n    a = 100\\n    print(b)\\n    \\n\\n    \\ndefineGlobal()\\n#print(globals())\\nprint(locals())', 'b = 200\\ndef defineGlobal( *args):\\n    global a\\n    a = 100\\n    print(b)\\n    \\n\\n    \\ndefineGlobal()\\n#print(globals())\\nprint(locals())'], '_oh': {}, '_dh': ['/Users/shangjingwei/Desktop/Python/Lesson'], 'In': ['', 'for i in range(1,11):\\n    print(i)', 'student_score = input(\"please input your score:\")\\nif studnet_score > 0:\\n    if studnet_score > 90:\\n        print(\"your score is A\")\\n    elif studnet_score > 80 and studnet_score <= 90\\n        print(\"your score is B\")\\n    elif studnet_score > 70 and studnet_score <= 80\\n        print(\"your score is C\")\\n    elif studnet_score > 60 and studnet_score <= 70\\n        print(\"your score is D\")\\n    else\\n        print(\"your score not pass!\")', 'student_score = input(\"please input your score:\")\\nif studnet_score > 0:\\n    if studnet_score > 90:\\n        print(\"your score is A\")\\n    elif studnet_score > 80 and studnet_score < 90\\n        print(\"your score is B\")\\n    elif studnet_score > 70 and studnet_score < 80\\n        print(\"your score is C\")\\n    elif studnet_score > 60 and studnet_score < 70\\n        print(\"your score is D\")\\n    else\\n        print(\"your score not pass!\")', 'student_score = input(\"please input your score:\")\\nif studnet_score > 0:\\n    if studnet_score > 90:\\n        print(\"your score is A\")\\n    elif studnet_score > 80 and studnet_score <= 90:\\n        print(\"your score is B\")\\n    elif studnet_score > 70 and studnet_score <= 80:\\n        print(\"your score is C\")\\n    elif studnet_score > 60 and studnet_score <= 70:\\n        print(\"your score is D\")\\n    else:\\n        print(\"your score not pass!\")', 'student_score = input(\"please input your score:\")\\nif studnet_score > 0:\\n    if student_score > 90:\\n        print(\"your score is A\")\\n    elif student_score > 80 and student_score <= 90:\\n        print(\"your score is B\")\\n    elif student_score > 70 and student_score <= 80:\\n        print(\"your score is C\")\\n    elif student_score > 60 and student_score <= 70:\\n        print(\"your score is D\")\\n    else:\\n        print(\"your score not pass!\")', 'student_score = input(\"please input your score:\")\\nif student_score > 0:\\n    if student_score > 90:\\n        print(\"your score is A\")\\n    elif student_score > 80 and student_score <= 90:\\n        print(\"your score is B\")\\n    elif student_score > 70 and student_score <= 80:\\n        print(\"your score is C\")\\n    elif student_score > 60 and student_score <= 70:\\n        print(\"your score is D\")\\n    else:\\n        print(\"your score not pass!\")', 'student_score = int(input(\"please input your score:\"))\\nif student_score > 0:\\n    if student_score > 90:\\n        print(\"your score is A\")\\n    elif student_score > 80 and student_score <= 90:\\n        print(\"your score is B\")\\n    elif student_score > 70 and student_score <= 80:\\n        print(\"your score is C\")\\n    elif student_score > 60 and student_score <= 70:\\n        print(\"your score is D\")\\n    else:\\n        print(\"your score not pass!\")', 'student_score = int(input(\"please input your score:\"))\\nif student_score > 0:\\n    if student_score > 90:\\n        print(\"your score is A\")\\n    elif student_score > 80 and student_score <= 90:\\n        print(\"your score is B\")\\n    elif student_score > 70 and student_score <= 80:\\n        print(\"your score is C\")\\n    elif student_score > 60 and student_score <= 70:\\n        print(\"your score is D\")\\n    else:\\n        print(\"your score not pass!\")', 'student_score = int(input(\"please input your score:\"))\\nif student_score > 0:\\n    if student_score > 90:\\n        print(\"your score is A\")\\n    elif student_score > 80 and student_score <= 90:\\n        print(\"your score is B\")\\n    elif student_score > 70 and student_score <= 80:\\n        print(\"your score is C\")\\n    elif student_score > 60 and student_score <= 70:\\n        print(\"your score is D\")\\n    else:\\n        print(\"your score not pass!\")', 'student_score = int(input(\"please input your score:\"))\\nif student_score > 0:\\n    if student_score > 90:\\n        print(\"your score is A\")\\n    elif student_score > 80 and student_score <= 90:\\n        print(\"your score is B\")\\n    elif student_score > 70 and student_score <= 80:\\n        print(\"your score is C\")\\n    elif student_score >= 60 and student_score <= 70:\\n        print(\"your score is D\")\\n    else:\\n        print(\"your score not pass!\")', 'student_score = int(input(\"please input your score:\"))\\nif student_score > 0:\\n    if student_score > 90:\\n        print(\"your score is A\")\\n    elif student_score > 80 and student_score <= 90:\\n        print(\"your score is B\")\\n    elif student_score > 70 and student_score <= 80:\\n        print(\"your score is C\")\\n    elif student_score >= 60 and student_score <= 70:\\n        print(\"your score is D\")\\n    else:\\n        print(\"your score not pass!\")', \"person_list = ['zhangsan','lisi','wangwu','zhaoliu']\\nfor _ in person_list:\\n    print('1')\", \"person_list = ['zhangsan','lisi','wangwu','zhaoliu']\\nfor i in person_list:\\n    print(i)\", \"person_list = ['zhangsan','lisi','wangwu','zhaoliu']\\nfor i in person_list:\\n    if i != 'lisi':\\n        print('this is not lisi')\\n    else:\\n        print('yes, this is lisi!')\", \"person_list = ['zhangsan','lisi','wangwu','zhaoliu']\\nfor i in person_list:\\n    if i != 'lisi':\\n        print('this is not lisi')\\n    else:\\n        print('yes, this is lisi!')\\n        break\", \"person_list = ['zhangsan','lisi','wangwu','zhaoliu']\\nfor i in person_list:\\n    if i != 'lisi':\\n        continue\\n    else:\\n        print('yes, this is lisi!')\\n        break\", \"person_list = ['zhangsan','lisi','wangwu','zhaoliu']\\nfor i in person_list:\\n    pass\\n    if i != 'lisi':\\n        continue\\n    else:\\n        print('yes, this is lisi!')\\n        break\", '# make a 9 * 9 \\n\\nfor i in range(1,10)', \"# make a 9 * 9 \\n\\nfor i in range(1,10):\\n    print('----')\", \"# make a 9 * 9 \\n\\nfor i in range(1,10):\\n    print('i')\", '# make a 9 * 9 \\n\\nfor i in range(1,10):\\n    print(i)', '# make a 9 * 9 \\n\\nfor i in range(1,10):\\n    for j in range(1,i):\\n        print(i)', '# make a 9 * 9 \\n\\nfor i in range(1,10):\\n    for j in range(1,i):\\n        print(\"i\")', '# make a 9 * 9 \\n\\nfor i in range(1,10):\\n    for j in range(1,i):\\n        print(j)', \"# make a 9 * 9 \\n\\nfor i in range(1,10):\\n    for j in range(1,i):\\n        print(j,end='')\", '# make a 9 * 9 \\n\\nfor i in range(1,10):\\n    for j in range(1,i):\\n        print(j)', '# make a 9 * 9 \\n\\nfor i in range(1,10):\\n    print(i)\\n    for j in range(1,i):\\n        print(j)', '# make a 9 * 9 \\n\\nfor i in range(1,10):\\n    print(i)\\n    for j in range(1,i):\\n        pass', '# make a 9 * 9 \\n\\nfor i in range(1,10):\\n    for j in range(1,i):\\n        pass', \"# make a 9 * 9 \\n\\nfor i in range(1,10):\\n    for j in range(1,i):\\n        print('i')\", '# make a 9 * 9 \\n\\nfor i in range(1,10):\\n    for j in range(1,i):\\n        print(i * j)', '# make a 9 * 9 \\n\\nfor i in range(1,10):\\n    for j in range(1,i+1):\\n        print(i * j)', \"# make a 9 * 9 \\n\\nfor i in range(1,10):\\n    for j in range(1,i+1):\\n        print(i * j)\\n    print('')\", \"# make a 9 * 9 \\n\\nfor i in range(1,10):\\n    for j in range(1,i+1):\\n        print(i * j)\\n    print('---')\", \"# make a 9 * 9 \\n\\nfor i in range(1,10):\\n    for j in range(1,i+1):\\n        print(i * j)\\n    print('',end = '')\", \"# make a 9 * 9 \\n\\nfor i in range(1,10):\\n    for j in range(1,i+1):\\n        print(i * j)\\n    print('')\", \"# make a 9 * 9 \\n\\nfor i in range(1,10):\\n    for j in range(1,i+1):\\n        print(i * j,end = '')\\n    print('')\", \"# make a 9 * 9 \\n\\nfor i in range(1,10):\\n    for j in range(1,i+1):\\n        print(i * j,end = '')\\n    print(' ')\", \"# make a 9 * 9 \\n\\nfor i in range(1,10):\\n    for j in range(1,i+1):\\n        print(i * j,end = '')\\n    print(' ')\", \"# make a 9 * 9 \\n\\nfor i in range(1,10):\\n    for j in range(1,i+1):\\n        print(i * j,end = ' ')\\n    print(' ')\", \"# make a 9 * 9 \\n\\nfor i in range(1,10):\\n    for j in range(1,i+1):\\n        print(i * j,end = ' ')\\n    print('')\", \"# make a 9 * 9 \\ndef calculate9(i):\\n    for j in range(1,i+1):\\n        print(i * j,end = ' ')\\n    print('')\\nfor i in range(1,10):\\n    calculate9(i)\", \"# make a 9 * 9 \\ndef calculate9(i):\\n    for j in range(1,i+1):\\n        print(i * j,end = ' ')\\n    print('')\\nfor i in range(1,10):\\n    calculate9(i)\", 'help(numpy)', 'help(sys)', 'help(input)', 'def testfunction(name,age = 18, *args):\\n    print(\"this is a self-introduction\")\\n    print(\"i am {0} , i {1} years old\".format(name,age))\\n\\n\\ntestfunction(\\'shangjingwei\\')', 'def testfunction(name,age = 18, *args):\\n    print(\"this is a self-introduction\")\\n    print(\"i am {0} , i {1} years old\".format(name,age))\\n\\n\\ntestfunction(\\'shangjingwei\\',\\'i come from henan\\')', 'def testfunction(name, *args,age = 18):\\n    print(\"this is a self-introduction\")\\n    print(\"i am {0} , i {1} years old\".format(name,age))\\n\\n\\ntestfunction(\\'shangjingwei\\',\\'i come from henan\\')', 'def testfunction(name, *args,age = 18):\\n    print(\"this is a self-introduction\")\\n    print(\"i am {0} , i {1} years old\".format(name,age))\\n    for i in args:\\n        print(i)\\n\\n\\ntestfunction(\\'shangjingwei\\',\\'i come from henan\\')', 'def testfunction(name, *args,age = 18):\\n    print(\"this is a self-introduction\")\\n    print(\"i am {0} , i {1} years old\".format(name,age))\\n    for i in args:\\n        print(i)\\n\\n\\ntestfunction(\\'shangjingwei\\',\\'i come from henan\\',\\'my hobby is swimming\\')', 'def testfunction(name, *args,age = 18,**args):\\n    print(\"this is a self-introduction\")\\n    print(\"i am {0} , i {1} years old\".format(name,age))\\n    for i in args:\\n        type(agrs)\\n        print(i)\\n\\n\\ntestfunction(\\'shangjingwei\\',\\'i come from henan\\',\\'my hobby is swimming\\')', 'def testfunction(name, *args,age = 18,**args):\\n    print(\"this is a self-introduction\")\\n    print(\"i am {0} , i {1} years old\".format(name,age))\\n    for i in args:\\n        type(args)\\n        print(i)\\n\\n\\ntestfunction(\\'shangjingwei\\',\\'i come from henan\\',\\'my hobby is swimming\\')', 'def testfunction(name, *args,age = 18,**args):\\n    print(\"this is a self-introduction\")\\n    print(\"i am {0} , i {1} years old\".format(name,age))\\n    for i in args:\\n        type(i)\\n        print(i)\\n\\n\\ntestfunction(\\'shangjingwei\\',\\'i come from henan\\',\\'my hobby is swimming\\')', 'def testfunction(name, *args,age = 18,**args):\\n    print(\"this is a self-introduction\")\\n    print(\"i am {0} , i {1} years old\".format(name,age))\\n    for i in args:\\n        type(args())\\n        print(i)\\n\\n\\ntestfunction(\\'shangjingwei\\',\\'i come from henan\\',\\'my hobby is swimming\\')', 'def testfunction(name, *args,age = 18,**args):\\n    print(\"this is a self-introduction\")\\n    print(\"i am {0} , i {1} years old\".format(name,age))\\n    for i in args:\\n        args.type()\\n        print(i)\\n\\n\\ntestfunction(\\'shangjingwei\\',\\'i come from henan\\',\\'my hobby is swimming\\')', 'def testfunction(name, *args,age = 18,**args):\\n    print(\"this is a self-introduction\")\\n    print(\"i am {0} , i {1} years old\".format(name,age))\\n    for i in args:\\n        type(*args)\\n        print(i)\\n\\n\\ntestfunction(\\'shangjingwei\\',\\'i come from henan\\',\\'my hobby is swimming\\')', 'def testfunction(name, *args,age = 18,**args):\\n    print(\"this is a self-introduction\")\\n    print(\"i am {0} , i {1} years old\".format(name,age))\\n    type(args)\\n    for i in args:\\n        print(i)\\n\\n\\ntestfunction(\\'shangjingwei\\',\\'i come from henan\\',\\'my hobby is swimming\\')', 'def testfunction(name, *args,age = 18,**args):\\n    print(\"this is a self-introduction\")\\n    print(\"i am {0} , i {1} years old\".format(name,age))\\n    for i in args:\\n        print(i)\\n\\n\\ntestfunction(\\'shangjingwei\\',\\'i come from henan\\',\\'my hobby is swimming\\')', 'def testfunction(name, *args,age = 18,**kwargs):\\n    print(\"this is a self-introduction\")\\n    print(\"i am {0} , i {1} years old\".format(name,age))\\n    for i in args:\\n        type(args)\\n        print(i)\\n\\n\\ntestfunction(\\'shangjingwei\\',\\'i come from henan\\',\\'my hobby is swimming\\')', 'def testfunction(name, *args,age = 18,**kwargs):\\n    print(\"this is a self-introduction\")\\n    print(\"i am {0} , i {1} years old\".format(name,age))\\n    for i in args:\\n        type(*args)\\n        print(i)\\n\\n\\ntestfunction(\\'shangjingwei\\',\\'i come from henan\\',\\'my hobby is swimming\\')', 'def testfunction(name, *args,age = 18,**kwargs):\\n    print(\"this is a self-introduction\")\\n    print(\"i am {0} , i {1} years old\".format(name,age))\\n    for i in args:\\n        type(args)\\n        print(i)\\n\\n\\ntestfunction(\\'shangjingwei\\',\\'i come from henan\\',\\'my hobby is swimming\\')', 'def testfunction(name, *args,age = 18,**kwargs):\\n    print(\"this is a self-introduction\")\\n    print(\"i am {0} , i {1} years old\".format(name,age))\\n    type(args)\\n    for i in args:\\n\\n        print(i)\\n\\n\\ntestfunction(\\'shangjingwei\\',\\'i come from henan\\',\\'my hobby is swimming\\')', 'def testfunction(name, *args,age = 18,**kwargs):\\n    print(\"this is a self-introduction\")\\n    print(\"i am {0} , i {1} years old\".format(name,age))\\n    type(args())\\n    for i in args:\\n\\n        print(i)\\n\\n\\ntestfunction(\\'shangjingwei\\',\\'i come from henan\\',\\'my hobby is swimming\\')', 'def testfunction(name, *args,age = 18,**kwargs):\\n    print(\"this is a self-introduction\")\\n    print(\"i am {0} , i {1} years old\".format(name,age))\\n    type(args\\n    for i in args:\\n\\n        print(i)\\n\\n\\ntestfunction(\\'shangjingwei\\',\\'i come from henan\\',\\'my hobby is swimming\\')', 'def testfunction(name, *args,age = 18,**kwargs):\\n    print(\"this is a self-introduction\")\\n    print(\"i am {0} , i {1} years old\".format(name,age))\\n    type(args)\\n    for i in args:\\n\\n        print(i)\\n\\n\\ntestfunction(\\'shangjingwei\\',\\'i come from henan\\',\\'my hobby is swimming\\')', 'def testfunction(name, *args,age = 18,**kwargs):\\n    print(\"this is a self-introduction\")\\n    print(\"i am {0} , i {1} years old\".format(name,age))\\n    print(type(args))\\n    for i in args:\\n        print(i)\\n\\n\\ntestfunction(\\'shangjingwei\\',\\'i come from henan\\',\\'my hobby is swimming\\')', 'def testfunction(name, *args,age = 18,**kwargs):\\n    print(\"this is a self-introduction\")\\n    print(\"i am {0} , i {1} years old\".format(name,age))\\n    print(type(args))\\n    for i in args:\\n        print(i)\\n    print(type(kwargs))\\n    for j in kwargs.items:\\n        print(j)\\n\\n\\ntestfunction(\\'shangjingwei\\',\\'i come from henan\\',\\'my hobby is swimming\\')', 'def testfunction(name, *args,age = 18,**kwargs):\\n    print(\"this is a self-introduction\")\\n    print(\"i am {0} , i {1} years old\".format(name,age))\\n    print(type(args))\\n    for i in args:\\n        print(i)\\n    print(type(kwargs))\\n    for j in kwargs.item:\\n        print(j)\\n\\n\\ntestfunction(\\'shangjingwei\\',\\'i come from henan\\',\\'my hobby is swimming\\')', 'def testfunction(name, *args,age = 18,**kwargs):\\n    print(\"this is a self-introduction\")\\n    print(\"i am {0} , i {1} years old\".format(name,age))\\n    print(type(args))\\n    for i in args:\\n        print(i)\\n    print(type(kwargs))\\n    for j in kwargs:\\n        print(j)\\n\\n\\ntestfunction(\\'shangjingwei\\',\\'i come from henan\\',\\'my hobby is swimming\\')', 'def testfunction(name, *args,age = 18,**kwargs):\\n    print(\"this is a self-introduction\")\\n    print(\"i am {0} , i {1} years old\".format(name,age))\\n    print(type(args))\\n    for i in args:\\n        print(i)\\n    print(type(kwargs))\\n    for j in kwargs:\\n        print(j)\\n\\n\\ntestfunction(\\'shangjingwei\\',\\'i come from henan\\',\\'my hobby is swimming\\',hobby2=\\'eat\\')', 'def testfunction(name, *args,age = 18,**kwargs):\\n    print(\"this is a self-introduction\")\\n    print(\"i am {0} , i {1} years old\".format(name,age))\\n    print(type(args))\\n    for i in args:\\n        print(i)\\n    print(type(kwargs))\\n    for k,v in kwargs.items:\\n        print(j)\\n\\n\\ntestfunction(\\'shangjingwei\\',\\'i come from henan\\',\\'my hobby is swimming\\',hobby2=\\'eat\\')', 'def testfunction(name, *args,age = 18,**kwargs):\\n    print(\"this is a self-introduction\")\\n    print(\"i am {0} , i {1} years old\".format(name,age))\\n    print(type(args))\\n    for i in args:\\n        print(i)\\n    print(type(kwargs))\\n    for k,v in kwargs.item:\\n        print(j)\\n\\n\\ntestfunction(\\'shangjingwei\\',\\'i come from henan\\',\\'my hobby is swimming\\',hobby2=\\'eat\\')', 'def testfunction(name, *args,age = 18,**kwargs):\\n    print(\"this is a self-introduction\")\\n    print(\"i am {0} , i {1} years old\".format(name,age))\\n    print(type(args))\\n    for i in args:\\n        print(i)\\n    print(type(kwargs))\\n    for k,v in kwargs.items:\\n        print(j)\\n\\n\\ntestfunction(\\'shangjingwei\\',\\'i come from henan\\',\\'my hobby is swimming\\',hobby2=\\'eat\\')', 'def testfunction(name, *args,age = 18,**kwargs):\\n    print(\"this is a self-introduction\")\\n    print(\"i am {0} , i {1} years old\".format(name,age))\\n    print(type(args))\\n    for i in args:\\n        print(i)\\n    print(type(kwargs))\\n    for k,v in kwargs,items:\\n        print(j)\\n\\n\\ntestfunction(\\'shangjingwei\\',\\'i come from henan\\',\\'my hobby is swimming\\',hobby2=\\'eat\\')', 'def testfunction(name, *args,age = 18,**kwargs):\\n    print(\"this is a self-introduction\")\\n    print(\"i am {0} , i {1} years old\".format(name,age))\\n    print(type(args))\\n    for i in args:\\n        print(i)\\n    print(type(kwargs))\\n    for k,v in kwargs.items():\\n        print(j)\\n\\n\\ntestfunction(\\'shangjingwei\\',\\'i come from henan\\',\\'my hobby is swimming\\',hobby2=\\'eat\\')', 'def testfunction(name, *args,age = 18,**kwargs):\\n    print(\"this is a self-introduction\")\\n    print(\"i am {0} , i {1} years old\".format(name,age))\\n    print(type(args))\\n    for i in args:\\n        print(i)\\n    print(type(kwargs))\\n    for k,v in kwargs.items():\\n        print(k,v)\\n\\n\\ntestfunction(\\'shangjingwei\\',\\'i come from henan\\',\\'my hobby is swimming\\',hobby2=\\'eat\\')', 'def testfunction(name, *args,age = 18,**kwargs):\\n    print(\"this is a self-introduction\")\\n    print(\"i am {0} , i {1} years old\".format(name,age))\\n    print(type(args))\\n    for i in args:\\n        print(i)\\n    print(type(kwargs))\\n    for k,v in kwargs.items():\\n        print(k,\\'-\\' * 10,v)\\n\\n\\ntestfunction(\\'shangjingwei\\',\\'i come from henan\\',\\'my hobby is swimming\\',hobby2=\\'eat\\')', 'def dispack( *args):\\n    for i in args:\\n        print(i)', \"def dispack( *args):\\n    for i in args:\\n        print(i)\\n        \\n\\nl = ['zhangsan','lisi','wangwu','zhaoliu']\\n\\ndispack(l)\", \"def dispack( *args):\\n    for i in args:\\n        print(type(args))\\n        print(i)\\n        \\n\\nl = ['zhangsan','lisi','wangwu','zhaoliu']\\n\\ndispack(l)\", \"def dispack( *args):\\n    for i in args:\\n        print(type(args))\\n        print(i)\\n        \\n\\nl = ['zhangsan','lisi','wangwu','zhaoliu']\\n\\ndispack(*l)\", 'def defineGlobal( *args):\\n    global a\\n    a = 100\\n    \\n\\n    \\ndefineGlobal()\\nprint(a)', 'def defineGlobal( *args):\\n    global a\\n    a = 100\\n    \\n\\n    \\n#defineGlobal()\\nprint(a)', 'b = 200\\ndef defineGlobal( *args):\\n    global a\\n    a = 100\\n    print(b)\\n    \\n\\n    \\n#defineGlobal()\\nprint(a)', 'b = 200\\ndef defineGlobal( *args):\\n    global a\\n    a = 100\\n    print(b)\\n    \\n\\n    \\ndefineGlobal()\\nprint(a)', 'b = 200\\ndef defineGlobal( *args):\\n    global a\\n    a = 100\\n    print(b)\\n    \\n\\n    \\ndefineGlobal()\\nprint(globals())\\nprint(locals())', 'b = 200\\ndef defineGlobal( *args):\\n    global a\\n    a = 100\\n    print(b)\\n    \\n\\n    \\ndefineGlobal()\\n#print(globals())\\nprint(locals())', 'b = 200\\ndef defineGlobal( *args):\\n    global a\\n    a = 100\\n    print(b)\\n    \\n\\n    \\ndefineGlobal()\\n#print(globals())\\nprint(locals())'], 'Out': {}, 'get_ipython': <bound method InteractiveShell.get_ipython of <ipykernel.zmqshell.ZMQInteractiveShell object at 0x10813fe10>>, 'exit': <IPython.core.autocall.ZMQExitAutocall object at 0x108c07898>, 'quit': <IPython.core.autocall.ZMQExitAutocall object at 0x108c07898>, '_': 'zhaoliu', '__': '', '___': '', '_i': 'b = 200\\ndef defineGlobal( *args):\\n    global a\\n    a = 100\\n    print(b)\\n    \\n\\n    \\ndefineGlobal()\\n#print(globals())\\nprint(locals())', '_ii': 'b = 200\\ndef defineGlobal( *args):\\n    global a\\n    a = 100\\n    print(b)\\n    \\n\\n    \\ndefineGlobal()\\nprint(globals())\\nprint(locals())', '_iii': 'b = 200\\ndef defineGlobal( *args):\\n    global a\\n    a = 100\\n    print(b)\\n    \\n\\n    \\ndefineGlobal()\\nprint(a)', '_i1': 'for i in range(1,11):\\n    print(i)', 'i': 9, '_i2': 'student_score = input(\"please input your score:\")\\nif studnet_score > 0:\\n    if studnet_score > 90:\\n        print(\"your score is A\")\\n    elif studnet_score > 80 and studnet_score <= 90\\n        print(\"your score is B\")\\n    elif studnet_score > 70 and studnet_score <= 80\\n        print(\"your score is C\")\\n    elif studnet_score > 60 and studnet_score <= 70\\n        print(\"your score is D\")\\n    else\\n        print(\"your score not pass!\")', '_i3': 'student_score = input(\"please input your score:\")\\nif studnet_score > 0:\\n    if studnet_score > 90:\\n        print(\"your score is A\")\\n    elif studnet_score > 80 and studnet_score < 90\\n        print(\"your score is B\")\\n    elif studnet_score > 70 and studnet_score < 80\\n        print(\"your score is C\")\\n    elif studnet_score > 60 and studnet_score < 70\\n        print(\"your score is D\")\\n    else\\n        print(\"your score not pass!\")', '_i4': 'student_score = input(\"please input your score:\")\\nif studnet_score > 0:\\n    if studnet_score > 90:\\n        print(\"your score is A\")\\n    elif studnet_score > 80 and studnet_score <= 90:\\n        print(\"your score is B\")\\n    elif studnet_score > 70 and studnet_score <= 80:\\n        print(\"your score is C\")\\n    elif studnet_score > 60 and studnet_score <= 70:\\n        print(\"your score is D\")\\n    else:\\n        print(\"your score not pass!\")', 'student_score': 70, '_i5': 'student_score = input(\"please input your score:\")\\nif studnet_score > 0:\\n    if student_score > 90:\\n        print(\"your score is A\")\\n    elif student_score > 80 and student_score <= 90:\\n        print(\"your score is B\")\\n    elif student_score > 70 and student_score <= 80:\\n        print(\"your score is C\")\\n    elif student_score > 60 and student_score <= 70:\\n        print(\"your score is D\")\\n    else:\\n        print(\"your score not pass!\")', '_i6': 'student_score = input(\"please input your score:\")\\nif student_score > 0:\\n    if student_score > 90:\\n        print(\"your score is A\")\\n    elif student_score > 80 and student_score <= 90:\\n        print(\"your score is B\")\\n    elif student_score > 70 and student_score <= 80:\\n        print(\"your score is C\")\\n    elif student_score > 60 and student_score <= 70:\\n        print(\"your score is D\")\\n    else:\\n        print(\"your score not pass!\")', '_i7': 'student_score = int(input(\"please input your score:\"))\\nif student_score > 0:\\n    if student_score > 90:\\n        print(\"your score is A\")\\n    elif student_score > 80 and student_score <= 90:\\n        print(\"your score is B\")\\n    elif student_score > 70 and student_score <= 80:\\n        print(\"your score is C\")\\n    elif student_score > 60 and student_score <= 70:\\n        print(\"your score is D\")\\n    else:\\n        print(\"your score not pass!\")', '_i8': 'student_score = int(input(\"please input your score:\"))\\nif student_score > 0:\\n    if student_score > 90:\\n        print(\"your score is A\")\\n    elif student_score > 80 and student_score <= 90:\\n        print(\"your score is B\")\\n    elif student_score > 70 and student_score <= 80:\\n        print(\"your score is C\")\\n    elif student_score > 60 and student_score <= 70:\\n        print(\"your score is D\")\\n    else:\\n        print(\"your score not pass!\")', '_i9': 'student_score = int(input(\"please input your score:\"))\\nif student_score > 0:\\n    if student_score > 90:\\n        print(\"your score is A\")\\n    elif student_score > 80 and student_score <= 90:\\n        print(\"your score is B\")\\n    elif student_score > 70 and student_score <= 80:\\n        print(\"your score is C\")\\n    elif student_score > 60 and student_score <= 70:\\n        print(\"your score is D\")\\n    else:\\n        print(\"your score not pass!\")', '_i10': 'student_score = int(input(\"please input your score:\"))\\nif student_score > 0:\\n    if student_score > 90:\\n        print(\"your score is A\")\\n    elif student_score > 80 and student_score <= 90:\\n        print(\"your score is B\")\\n    elif student_score > 70 and student_score <= 80:\\n        print(\"your score is C\")\\n    elif student_score >= 60 and student_score <= 70:\\n        print(\"your score is D\")\\n    else:\\n        print(\"your score not pass!\")', '_i11': 'student_score = int(input(\"please input your score:\"))\\nif student_score > 0:\\n    if student_score > 90:\\n        print(\"your score is A\")\\n    elif student_score > 80 and student_score <= 90:\\n        print(\"your score is B\")\\n    elif student_score > 70 and student_score <= 80:\\n        print(\"your score is C\")\\n    elif student_score >= 60 and student_score <= 70:\\n        print(\"your score is D\")\\n    else:\\n        print(\"your score not pass!\")', '_i12': \"person_list = ['zhangsan','lisi','wangwu','zhaoliu']\\nfor _ in person_list:\\n    print('1')\", 'person_list': ['zhangsan', 'lisi', 'wangwu', 'zhaoliu'], '_i13': \"person_list = ['zhangsan','lisi','wangwu','zhaoliu']\\nfor i in person_list:\\n    print(i)\", '_i14': \"person_list = ['zhangsan','lisi','wangwu','zhaoliu']\\nfor i in person_list:\\n    if i != 'lisi':\\n        print('this is not lisi')\\n    else:\\n        print('yes, this is lisi!')\", '_i15': \"person_list = ['zhangsan','lisi','wangwu','zhaoliu']\\nfor i in person_list:\\n    if i != 'lisi':\\n        print('this is not lisi')\\n    else:\\n        print('yes, this is lisi!')\\n        break\", '_i16': \"person_list = ['zhangsan','lisi','wangwu','zhaoliu']\\nfor i in person_list:\\n    if i != 'lisi':\\n        continue\\n    else:\\n        print('yes, this is lisi!')\\n        break\", '_i17': \"person_list = ['zhangsan','lisi','wangwu','zhaoliu']\\nfor i in person_list:\\n    pass\\n    if i != 'lisi':\\n        continue\\n    else:\\n        print('yes, this is lisi!')\\n        break\", '_i18': '# make a 9 * 9 \\n\\nfor i in range(1,10)', '_i19': \"# make a 9 * 9 \\n\\nfor i in range(1,10):\\n    print('----')\", '_i20': \"# make a 9 * 9 \\n\\nfor i in range(1,10):\\n    print('i')\", '_i21': '# make a 9 * 9 \\n\\nfor i in range(1,10):\\n    print(i)', '_i22': '# make a 9 * 9 \\n\\nfor i in range(1,10):\\n    for j in range(1,i):\\n        print(i)', 'j': 9, '_i23': '# make a 9 * 9 \\n\\nfor i in range(1,10):\\n    for j in range(1,i):\\n        print(\"i\")', '_i24': '# make a 9 * 9 \\n\\nfor i in range(1,10):\\n    for j in range(1,i):\\n        print(j)', '_i25': \"# make a 9 * 9 \\n\\nfor i in range(1,10):\\n    for j in range(1,i):\\n        print(j,end='')\", '_i26': '# make a 9 * 9 \\n\\nfor i in range(1,10):\\n    for j in range(1,i):\\n        print(j)', '_i27': '# make a 9 * 9 \\n\\nfor i in range(1,10):\\n    print(i)\\n    for j in range(1,i):\\n        print(j)', '_i28': '# make a 9 * 9 \\n\\nfor i in range(1,10):\\n    print(i)\\n    for j in range(1,i):\\n        pass', '_i29': '# make a 9 * 9 \\n\\nfor i in range(1,10):\\n    for j in range(1,i):\\n        pass', '_i30': \"# make a 9 * 9 \\n\\nfor i in range(1,10):\\n    for j in range(1,i):\\n        print('i')\", '_i31': '# make a 9 * 9 \\n\\nfor i in range(1,10):\\n    for j in range(1,i):\\n        print(i * j)', '_i32': '# make a 9 * 9 \\n\\nfor i in range(1,10):\\n    for j in range(1,i+1):\\n        print(i * j)', '_i33': \"# make a 9 * 9 \\n\\nfor i in range(1,10):\\n    for j in range(1,i+1):\\n        print(i * j)\\n    print('')\", '_i34': \"# make a 9 * 9 \\n\\nfor i in range(1,10):\\n    for j in range(1,i+1):\\n        print(i * j)\\n    print('---')\", '_i35': \"# make a 9 * 9 \\n\\nfor i in range(1,10):\\n    for j in range(1,i+1):\\n        print(i * j)\\n    print('',end = '')\", '_i36': \"# make a 9 * 9 \\n\\nfor i in range(1,10):\\n    for j in range(1,i+1):\\n        print(i * j)\\n    print('')\", '_i37': \"# make a 9 * 9 \\n\\nfor i in range(1,10):\\n    for j in range(1,i+1):\\n        print(i * j,end = '')\\n    print('')\", '_i38': \"# make a 9 * 9 \\n\\nfor i in range(1,10):\\n    for j in range(1,i+1):\\n        print(i * j,end = '')\\n    print(' ')\", '_i39': \"# make a 9 * 9 \\n\\nfor i in range(1,10):\\n    for j in range(1,i+1):\\n        print(i * j,end = '')\\n    print(' ')\", '_i40': \"# make a 9 * 9 \\n\\nfor i in range(1,10):\\n    for j in range(1,i+1):\\n        print(i * j,end = ' ')\\n    print(' ')\", '_i41': \"# make a 9 * 9 \\n\\nfor i in range(1,10):\\n    for j in range(1,i+1):\\n        print(i * j,end = ' ')\\n    print('')\", '_i42': \"# make a 9 * 9 \\ndef calculate9(i):\\n    for j in range(1,i+1):\\n        print(i * j,end = ' ')\\n    print('')\\nfor i in range(1,10):\\n    calculate9(i)\", 'calculate9': <function calculate9 at 0x1091b1378>, '_i43': \"# make a 9 * 9 \\ndef calculate9(i):\\n    for j in range(1,i+1):\\n        print(i * j,end = ' ')\\n    print('')\\nfor i in range(1,10):\\n    calculate9(i)\", '_i44': 'help(numpy)', '_i45': 'help(sys)', '_i46': 'help(input)', '_i47': 'def testfunction(name,age = 18, *args):\\n    print(\"this is a self-introduction\")\\n    print(\"i am {0} , i {1} years old\".format(name,age))\\n\\n\\ntestfunction(\\'shangjingwei\\')', 'testfunction': <function testfunction at 0x1091b1510>, '_i48': 'def testfunction(name,age = 18, *args):\\n    print(\"this is a self-introduction\")\\n    print(\"i am {0} , i {1} years old\".format(name,age))\\n\\n\\ntestfunction(\\'shangjingwei\\',\\'i come from henan\\')', '_i49': 'def testfunction(name, *args,age = 18):\\n    print(\"this is a self-introduction\")\\n    print(\"i am {0} , i {1} years old\".format(name,age))\\n\\n\\ntestfunction(\\'shangjingwei\\',\\'i come from henan\\')', '_i50': 'def testfunction(name, *args,age = 18):\\n    print(\"this is a self-introduction\")\\n    print(\"i am {0} , i {1} years old\".format(name,age))\\n    for i in args:\\n        print(i)\\n\\n\\ntestfunction(\\'shangjingwei\\',\\'i come from henan\\')', '_i51': 'def testfunction(name, *args,age = 18):\\n    print(\"this is a self-introduction\")\\n    print(\"i am {0} , i {1} years old\".format(name,age))\\n    for i in args:\\n        print(i)\\n\\n\\ntestfunction(\\'shangjingwei\\',\\'i come from henan\\',\\'my hobby is swimming\\')', '_i52': 'def testfunction(name, *args,age = 18,**args):\\n    print(\"this is a self-introduction\")\\n    print(\"i am {0} , i {1} years old\".format(name,age))\\n    for i in args:\\n        type(agrs)\\n        print(i)\\n\\n\\ntestfunction(\\'shangjingwei\\',\\'i come from henan\\',\\'my hobby is swimming\\')', '_i53': 'def testfunction(name, *args,age = 18,**args):\\n    print(\"this is a self-introduction\")\\n    print(\"i am {0} , i {1} years old\".format(name,age))\\n    for i in args:\\n        type(args)\\n        print(i)\\n\\n\\ntestfunction(\\'shangjingwei\\',\\'i come from henan\\',\\'my hobby is swimming\\')', '_i54': 'def testfunction(name, *args,age = 18,**args):\\n    print(\"this is a self-introduction\")\\n    print(\"i am {0} , i {1} years old\".format(name,age))\\n    for i in args:\\n        type(i)\\n        print(i)\\n\\n\\ntestfunction(\\'shangjingwei\\',\\'i come from henan\\',\\'my hobby is swimming\\')', '_i55': 'def testfunction(name, *args,age = 18,**args):\\n    print(\"this is a self-introduction\")\\n    print(\"i am {0} , i {1} years old\".format(name,age))\\n    for i in args:\\n        type(args())\\n        print(i)\\n\\n\\ntestfunction(\\'shangjingwei\\',\\'i come from henan\\',\\'my hobby is swimming\\')', '_i56': 'def testfunction(name, *args,age = 18,**args):\\n    print(\"this is a self-introduction\")\\n    print(\"i am {0} , i {1} years old\".format(name,age))\\n    for i in args:\\n        args.type()\\n        print(i)\\n\\n\\ntestfunction(\\'shangjingwei\\',\\'i come from henan\\',\\'my hobby is swimming\\')', '_i57': 'def testfunction(name, *args,age = 18,**args):\\n    print(\"this is a self-introduction\")\\n    print(\"i am {0} , i {1} years old\".format(name,age))\\n    for i in args:\\n        type(*args)\\n        print(i)\\n\\n\\ntestfunction(\\'shangjingwei\\',\\'i come from henan\\',\\'my hobby is swimming\\')', '_i58': 'def testfunction(name, *args,age = 18,**args):\\n    print(\"this is a self-introduction\")\\n    print(\"i am {0} , i {1} years old\".format(name,age))\\n    type(args)\\n    for i in args:\\n        print(i)\\n\\n\\ntestfunction(\\'shangjingwei\\',\\'i come from henan\\',\\'my hobby is swimming\\')', '_i59': 'def testfunction(name, *args,age = 18,**args):\\n    print(\"this is a self-introduction\")\\n    print(\"i am {0} , i {1} years old\".format(name,age))\\n    for i in args:\\n        print(i)\\n\\n\\ntestfunction(\\'shangjingwei\\',\\'i come from henan\\',\\'my hobby is swimming\\')', '_i60': 'def testfunction(name, *args,age = 18,**kwargs):\\n    print(\"this is a self-introduction\")\\n    print(\"i am {0} , i {1} years old\".format(name,age))\\n    for i in args:\\n        type(args)\\n        print(i)\\n\\n\\ntestfunction(\\'shangjingwei\\',\\'i come from henan\\',\\'my hobby is swimming\\')', '_i61': 'def testfunction(name, *args,age = 18,**kwargs):\\n    print(\"this is a self-introduction\")\\n    print(\"i am {0} , i {1} years old\".format(name,age))\\n    for i in args:\\n        type(*args)\\n        print(i)\\n\\n\\ntestfunction(\\'shangjingwei\\',\\'i come from henan\\',\\'my hobby is swimming\\')', '_i62': 'def testfunction(name, *args,age = 18,**kwargs):\\n    print(\"this is a self-introduction\")\\n    print(\"i am {0} , i {1} years old\".format(name,age))\\n    for i in args:\\n        type(args)\\n        print(i)\\n\\n\\ntestfunction(\\'shangjingwei\\',\\'i come from henan\\',\\'my hobby is swimming\\')', '_i63': 'def testfunction(name, *args,age = 18,**kwargs):\\n    print(\"this is a self-introduction\")\\n    print(\"i am {0} , i {1} years old\".format(name,age))\\n    type(args)\\n    for i in args:\\n\\n        print(i)\\n\\n\\ntestfunction(\\'shangjingwei\\',\\'i come from henan\\',\\'my hobby is swimming\\')', '_i64': 'def testfunction(name, *args,age = 18,**kwargs):\\n    print(\"this is a self-introduction\")\\n    print(\"i am {0} , i {1} years old\".format(name,age))\\n    type(args())\\n    for i in args:\\n\\n        print(i)\\n\\n\\ntestfunction(\\'shangjingwei\\',\\'i come from henan\\',\\'my hobby is swimming\\')', '_i65': 'def testfunction(name, *args,age = 18,**kwargs):\\n    print(\"this is a self-introduction\")\\n    print(\"i am {0} , i {1} years old\".format(name,age))\\n    type(args\\n    for i in args:\\n\\n        print(i)\\n\\n\\ntestfunction(\\'shangjingwei\\',\\'i come from henan\\',\\'my hobby is swimming\\')', '_i66': 'def testfunction(name, *args,age = 18,**kwargs):\\n    print(\"this is a self-introduction\")\\n    print(\"i am {0} , i {1} years old\".format(name,age))\\n    type(args)\\n    for i in args:\\n\\n        print(i)\\n\\n\\ntestfunction(\\'shangjingwei\\',\\'i come from henan\\',\\'my hobby is swimming\\')', '_i67': 'def testfunction(name, *args,age = 18,**kwargs):\\n    print(\"this is a self-introduction\")\\n    print(\"i am {0} , i {1} years old\".format(name,age))\\n    print(type(args))\\n    for i in args:\\n        print(i)\\n\\n\\ntestfunction(\\'shangjingwei\\',\\'i come from henan\\',\\'my hobby is swimming\\')', '_i68': 'def testfunction(name, *args,age = 18,**kwargs):\\n    print(\"this is a self-introduction\")\\n    print(\"i am {0} , i {1} years old\".format(name,age))\\n    print(type(args))\\n    for i in args:\\n        print(i)\\n    print(type(kwargs))\\n    for j in kwargs.items:\\n        print(j)\\n\\n\\ntestfunction(\\'shangjingwei\\',\\'i come from henan\\',\\'my hobby is swimming\\')', '_i69': 'def testfunction(name, *args,age = 18,**kwargs):\\n    print(\"this is a self-introduction\")\\n    print(\"i am {0} , i {1} years old\".format(name,age))\\n    print(type(args))\\n    for i in args:\\n        print(i)\\n    print(type(kwargs))\\n    for j in kwargs.item:\\n        print(j)\\n\\n\\ntestfunction(\\'shangjingwei\\',\\'i come from henan\\',\\'my hobby is swimming\\')', '_i70': 'def testfunction(name, *args,age = 18,**kwargs):\\n    print(\"this is a self-introduction\")\\n    print(\"i am {0} , i {1} years old\".format(name,age))\\n    print(type(args))\\n    for i in args:\\n        print(i)\\n    print(type(kwargs))\\n    for j in kwargs:\\n        print(j)\\n\\n\\ntestfunction(\\'shangjingwei\\',\\'i come from henan\\',\\'my hobby is swimming\\')', '_i71': 'def testfunction(name, *args,age = 18,**kwargs):\\n    print(\"this is a self-introduction\")\\n    print(\"i am {0} , i {1} years old\".format(name,age))\\n    print(type(args))\\n    for i in args:\\n        print(i)\\n    print(type(kwargs))\\n    for j in kwargs:\\n        print(j)\\n\\n\\ntestfunction(\\'shangjingwei\\',\\'i come from henan\\',\\'my hobby is swimming\\',hobby2=\\'eat\\')', '_i72': 'def testfunction(name, *args,age = 18,**kwargs):\\n    print(\"this is a self-introduction\")\\n    print(\"i am {0} , i {1} years old\".format(name,age))\\n    print(type(args))\\n    for i in args:\\n        print(i)\\n    print(type(kwargs))\\n    for k,v in kwargs.items:\\n        print(j)\\n\\n\\ntestfunction(\\'shangjingwei\\',\\'i come from henan\\',\\'my hobby is swimming\\',hobby2=\\'eat\\')', '_i73': 'def testfunction(name, *args,age = 18,**kwargs):\\n    print(\"this is a self-introduction\")\\n    print(\"i am {0} , i {1} years old\".format(name,age))\\n    print(type(args))\\n    for i in args:\\n        print(i)\\n    print(type(kwargs))\\n    for k,v in kwargs.item:\\n        print(j)\\n\\n\\ntestfunction(\\'shangjingwei\\',\\'i come from henan\\',\\'my hobby is swimming\\',hobby2=\\'eat\\')', '_i74': 'def testfunction(name, *args,age = 18,**kwargs):\\n    print(\"this is a self-introduction\")\\n    print(\"i am {0} , i {1} years old\".format(name,age))\\n    print(type(args))\\n    for i in args:\\n        print(i)\\n    print(type(kwargs))\\n    for k,v in kwargs.items:\\n        print(j)\\n\\n\\ntestfunction(\\'shangjingwei\\',\\'i come from henan\\',\\'my hobby is swimming\\',hobby2=\\'eat\\')', '_i75': 'def testfunction(name, *args,age = 18,**kwargs):\\n    print(\"this is a self-introduction\")\\n    print(\"i am {0} , i {1} years old\".format(name,age))\\n    print(type(args))\\n    for i in args:\\n        print(i)\\n    print(type(kwargs))\\n    for k,v in kwargs,items:\\n        print(j)\\n\\n\\ntestfunction(\\'shangjingwei\\',\\'i come from henan\\',\\'my hobby is swimming\\',hobby2=\\'eat\\')', '_i76': 'def testfunction(name, *args,age = 18,**kwargs):\\n    print(\"this is a self-introduction\")\\n    print(\"i am {0} , i {1} years old\".format(name,age))\\n    print(type(args))\\n    for i in args:\\n        print(i)\\n    print(type(kwargs))\\n    for k,v in kwargs.items():\\n        print(j)\\n\\n\\ntestfunction(\\'shangjingwei\\',\\'i come from henan\\',\\'my hobby is swimming\\',hobby2=\\'eat\\')', '_i77': 'def testfunction(name, *args,age = 18,**kwargs):\\n    print(\"this is a self-introduction\")\\n    print(\"i am {0} , i {1} years old\".format(name,age))\\n    print(type(args))\\n    for i in args:\\n        print(i)\\n    print(type(kwargs))\\n    for k,v in kwargs.items():\\n        print(k,v)\\n\\n\\ntestfunction(\\'shangjingwei\\',\\'i come from henan\\',\\'my hobby is swimming\\',hobby2=\\'eat\\')', '_i78': 'def testfunction(name, *args,age = 18,**kwargs):\\n    print(\"this is a self-introduction\")\\n    print(\"i am {0} , i {1} years old\".format(name,age))\\n    print(type(args))\\n    for i in args:\\n        print(i)\\n    print(type(kwargs))\\n    for k,v in kwargs.items():\\n        print(k,\\'-\\' * 10,v)\\n\\n\\ntestfunction(\\'shangjingwei\\',\\'i come from henan\\',\\'my hobby is swimming\\',hobby2=\\'eat\\')', '_i79': 'def dispack( *args):\\n    for i in args:\\n        print(i)', 'dispack': <function dispack at 0x1073f98c8>, '_i80': \"def dispack( *args):\\n    for i in args:\\n        print(i)\\n        \\n\\nl = ['zhangsan','lisi','wangwu','zhaoliu']\\n\\ndispack(l)\", 'l': ['zhangsan', 'lisi', 'wangwu', 'zhaoliu'], '_i81': \"def dispack( *args):\\n    for i in args:\\n        print(type(args))\\n        print(i)\\n        \\n\\nl = ['zhangsan','lisi','wangwu','zhaoliu']\\n\\ndispack(l)\", '_i82': \"def dispack( *args):\\n    for i in args:\\n        print(type(args))\\n        print(i)\\n        \\n\\nl = ['zhangsan','lisi','wangwu','zhaoliu']\\n\\ndispack(*l)\", '_i83': 'def defineGlobal( *args):\\n    global a\\n    a = 100\\n    \\n\\n    \\ndefineGlobal()\\nprint(a)', 'defineGlobal': <function defineGlobal at 0x1091b1730>, 'a': 100, '_i84': 'def defineGlobal( *args):\\n    global a\\n    a = 100\\n    \\n\\n    \\n#defineGlobal()\\nprint(a)', '_i85': 'b = 200\\ndef defineGlobal( *args):\\n    global a\\n    a = 100\\n    print(b)\\n    \\n\\n    \\n#defineGlobal()\\nprint(a)', 'b': 200, '_i86': 'b = 200\\ndef defineGlobal( *args):\\n    global a\\n    a = 100\\n    print(b)\\n    \\n\\n    \\ndefineGlobal()\\nprint(a)', '_i87': 'b = 200\\ndef defineGlobal( *args):\\n    global a\\n    a = 100\\n    print(b)\\n    \\n\\n    \\ndefineGlobal()\\nprint(globals())\\nprint(locals())', '_i88': 'b = 200\\ndef defineGlobal( *args):\\n    global a\\n    a = 100\\n    print(b)\\n    \\n\\n    \\ndefineGlobal()\\n#print(globals())\\nprint(locals())', '_i89': 'b = 200\\ndef defineGlobal( *args):\\n    global a\\n    a = 100\\n    print(b)\\n    \\n\\n    \\ndefineGlobal()\\n#print(globals())\\nprint(locals())'}\n"
     ]
    }
   ],
   "source": [
    "b = 200\n",
    "def defineGlobal( *args):\n",
    "    global a\n",
    "    a = 100\n",
    "    print(b)\n",
    "    \n",
    "\n",
    "    \n",
    "defineGlobal()\n",
    "#print(globals())\n",
    "print(locals())"
   ]
  },
  {
   "cell_type": "code",
   "execution_count": 4,
   "metadata": {},
   "outputs": [
    {
     "name": "stdout",
     "output_type": "stream",
     "text": [
      "['False', 'None', 'True', 'and', 'as', 'assert', 'async', 'await', 'break', 'class', 'continue', 'def', 'del', 'elif', 'else', 'except', 'finally', 'for', 'from', 'global', 'if', 'import', 'in', 'is', 'lambda', 'nonlocal', 'not', 'or', 'pass', 'raise', 'return', 'try', 'while', 'with', 'yield']\n"
     ]
    }
   ],
   "source": [
    "print(keyword.kwlist)"
   ]
  },
  {
   "cell_type": "code",
   "execution_count": 5,
   "metadata": {},
   "outputs": [
    {
     "name": "stdout",
     "output_type": "stream",
     "text": [
      "18\n"
     ]
    }
   ],
   "source": [
    "print(0o22)"
   ]
  },
  {
   "cell_type": "code",
   "execution_count": 1,
   "metadata": {},
   "outputs": [
    {
     "name": "stdout",
     "output_type": "stream",
     "text": [
      "1\n",
      "2\n",
      "3\n",
      "4\n",
      "5\n",
      "6\n",
      "7\n",
      "8\n",
      "9\n",
      "10\n"
     ]
    }
   ],
   "source": [
    "for i in range(1,11):\n",
    "    print(i)"
   ]
  },
  {
   "cell_type": "code",
   "execution_count": 11,
   "metadata": {},
   "outputs": [
    {
     "name": "stdout",
     "output_type": "stream",
     "text": [
      "please input your score:70\n",
      "your score is D\n"
     ]
    }
   ],
   "source": [
    "student_score = int(input(\"please input your score:\"))\n",
    "if student_score > 0:\n",
    "    if student_score > 90:\n",
    "        print(\"your score is A\")\n",
    "    elif student_score > 80 and student_score <= 90:\n",
    "        print(\"your score is B\")\n",
    "    elif student_score > 70 and student_score <= 80:\n",
    "        print(\"your score is C\")\n",
    "    elif student_score >= 60 and student_score <= 70:\n",
    "        print(\"your score is D\")\n",
    "    else:\n",
    "        print(\"your score not pass!\")"
   ]
  },
  {
   "cell_type": "code",
   "execution_count": null,
   "metadata": {},
   "outputs": [],
   "source": [
    "# 程序三大构造，首先第一个是嵌套，分支，循环。"
   ]
  },
  {
   "cell_type": "code",
   "execution_count": 17,
   "metadata": {},
   "outputs": [
    {
     "name": "stdout",
     "output_type": "stream",
     "text": [
      "yes, this is lisi!\n"
     ]
    }
   ],
   "source": [
    "person_list = ['zhangsan','lisi','wangwu','zhaoliu']\n",
    "for i in person_list:\n",
    "    pass\n",
    "    if i != 'lisi':\n",
    "        continue\n",
    "    else:\n",
    "        print('yes, this is lisi!')\n",
    "        break"
   ]
  },
  {
   "cell_type": "code",
   "execution_count": 43,
   "metadata": {},
   "outputs": [
    {
     "name": "stdout",
     "output_type": "stream",
     "text": [
      "1 \n",
      "2 4 \n",
      "3 6 9 \n",
      "4 8 12 16 \n",
      "5 10 15 20 25 \n",
      "6 12 18 24 30 36 \n",
      "7 14 21 28 35 42 49 \n",
      "8 16 24 32 40 48 56 64 \n",
      "9 18 27 36 45 54 63 72 81 \n"
     ]
    }
   ],
   "source": [
    "# make a 9 * 9 \n",
    "def calculate9(i):\n",
    "    for j in range(1,i+1):\n",
    "        print(i * j,end = ' ')\n",
    "    print('')\n",
    "for i in range(1,10):\n",
    "    calculate9(i)"
   ]
  },
  {
   "cell_type": "code",
   "execution_count": 78,
   "metadata": {},
   "outputs": [
    {
     "name": "stdout",
     "output_type": "stream",
     "text": [
      "this is a self-introduction\n",
      "i am shangjingwei , i 18 years old\n",
      "<class 'tuple'>\n",
      "i come from henan\n",
      "my hobby is swimming\n",
      "<class 'dict'>\n",
      "hobby2 ---------- eat\n"
     ]
    }
   ],
   "source": [
    "def testfunction(name, *args,age = 18,**kwargs):\n",
    "    print(\"this is a self-introduction\")\n",
    "    print(\"i am {0} , i {1} years old\".format(name,age))\n",
    "    print(type(args))\n",
    "    for i in args:\n",
    "        print(i)\n",
    "    print(type(kwargs))\n",
    "    for k,v in kwargs.items():\n",
    "        print(k,'-' * 10,v)\n",
    "\n",
    "\n",
    "testfunction('shangjingwei','i come from henan','my hobby is swimming',hobby2='eat')"
   ]
  },
  {
   "cell_type": "code",
   "execution_count": 82,
   "metadata": {},
   "outputs": [
    {
     "name": "stdout",
     "output_type": "stream",
     "text": [
      "<class 'tuple'>\n",
      "zhangsan\n",
      "<class 'tuple'>\n",
      "lisi\n",
      "<class 'tuple'>\n",
      "wangwu\n",
      "<class 'tuple'>\n",
      "zhaoliu\n"
     ]
    }
   ],
   "source": [
    "def dispack( *args):\n",
    "    for i in args:\n",
    "        print(type(args))\n",
    "        print(i)\n",
    "        \n",
    "\n",
    "l = ['zhangsan','lisi','wangwu','zhaoliu']\n",
    "\n",
    "dispack(*l)"
   ]
  },
  {
   "cell_type": "code",
   "execution_count": 91,
   "metadata": {},
   "outputs": [
    {
     "name": "stdout",
     "output_type": "stream",
     "text": [
      "200\n",
      "100\n"
     ]
    }
   ],
   "source": [
    "b = 200\n",
    "def defineGlobal( *args):\n",
    "    global a\n",
    "    a = 100\n",
    "    print(b)\n",
    "    \n",
    "\n",
    "    \n",
    "defineGlobal()\n",
    "print(a)\n",
    "#print(globals())\n",
    "#print(locals())"
   ]
  },
  {
   "cell_type": "code",
   "execution_count": 98,
   "metadata": {},
   "outputs": [
    {
     "name": "stdout",
     "output_type": "stream",
     "text": [
      "* \n",
      "* * \n",
      "* * * \n",
      "* * * * \n",
      "* * * * * \n",
      "* * * * * * \n",
      "* * * * * * * \n",
      "* * * * * * * * \n",
      "* * * * * * * * * \n",
      "* * * * * * * * * * \n"
     ]
    }
   ],
   "source": [
    "for i in range(1,11):\n",
    "    for j in range(1,i+1):\n",
    "        print('*',end = \" \")\n",
    "    print(\"\")"
   ]
  },
  {
   "cell_type": "code",
   "execution_count": 100,
   "metadata": {},
   "outputs": [
    {
     "name": "stdout",
     "output_type": "stream",
     "text": [
      "1\n",
      "3\n",
      "5\n",
      "7\n",
      "9\n",
      "11\n",
      "13\n",
      "15\n",
      "17\n",
      "19\n",
      "21\n",
      "23\n",
      "25\n",
      "27\n",
      "29\n",
      "31\n",
      "33\n",
      "35\n",
      "37\n",
      "39\n",
      "41\n",
      "43\n",
      "45\n",
      "47\n",
      "49\n",
      "51\n",
      "53\n",
      "55\n",
      "57\n",
      "59\n",
      "61\n",
      "63\n",
      "65\n",
      "67\n",
      "69\n",
      "71\n",
      "73\n",
      "75\n",
      "77\n",
      "79\n",
      "81\n",
      "83\n",
      "85\n",
      "87\n",
      "89\n",
      "91\n",
      "93\n",
      "95\n",
      "97\n",
      "99\n"
     ]
    }
   ],
   "source": [
    "# 打印100以内的所有的奇数\n",
    "for i in range(1,101):\n",
    "    if i % 2 == 0:\n",
    "        pass\n",
    "    else:\n",
    "        print(i)"
   ]
  },
  {
   "cell_type": "code",
   "execution_count": null,
   "metadata": {},
   "outputs": [],
   "source": [
    "# exec() and eval()函数 "
   ]
  },
  {
   "cell_type": "code",
   "execution_count": 113,
   "metadata": {},
   "outputs": [
    {
     "name": "stdout",
     "output_type": "stream",
     "text": [
      "the value c is : 6\n"
     ]
    }
   ],
   "source": [
    "a = 2\n",
    "b = 3\n",
    "exec('c = a * b')\n",
    "print('the value c is : {0}'.format(c))"
   ]
  },
  {
   "cell_type": "code",
   "execution_count": 114,
   "metadata": {},
   "outputs": [],
   "source": [
    "# list "
   ]
  },
  {
   "cell_type": "code",
   "execution_count": 127,
   "metadata": {},
   "outputs": [
    {
     "name": "stdout",
     "output_type": "stream",
     "text": [
      "[1, 2]\n",
      "[7, 6, 5, 4, 3, 2, 1]\n"
     ]
    }
   ],
   "source": [
    "l = [1,2,3,4,5,6,7]\n",
    "print(l[0:2])\n",
    "print(l[::-1])"
   ]
  },
  {
   "cell_type": "code",
   "execution_count": null,
   "metadata": {},
   "outputs": [],
   "source": [
    "# 关于迭代部分\n",
    "# 典型的例子, 比如, f(n)=f(n-2)+f(n-1)\n",
    "# 特殊情况, 当n=1和n=2时他们的值都为1.\n",
    "# list=[1,1,2,3,5,8,13,21,34,55,89]"
   ]
  },
  {
   "cell_type": "code",
   "execution_count": 135,
   "metadata": {},
   "outputs": [
    {
     "name": "stdout",
     "output_type": "stream",
     "text": [
      "1\n",
      "1\n",
      "2\n",
      "3\n",
      "5\n",
      "8\n",
      "13\n",
      "21\n",
      "34\n",
      "55\n",
      "89\n"
     ]
    }
   ],
   "source": [
    "def fun(n):\n",
    "    if n == 1:\n",
    "        return 1\n",
    "    if n == 2:\n",
    "        return 1\n",
    "    return fun(n-1) + fun(n-2)\n",
    "\n",
    "#fun(1)\n",
    "for i in range(1,12):\n",
    "    print(fun(int('{0}'.format(i))))"
   ]
  },
  {
   "cell_type": "code",
   "execution_count": 141,
   "metadata": {},
   "outputs": [
    {
     "name": "stdout",
     "output_type": "stream",
     "text": [
      "[1, 2, 4, 5, 6, 7, 8]\n"
     ]
    },
    {
     "ename": "NameError",
     "evalue": "name 'l' is not defined",
     "output_type": "error",
     "traceback": [
      "\u001b[0;31m---------------------------------------------------------------------------\u001b[0m",
      "\u001b[0;31mNameError\u001b[0m                                 Traceback (most recent call last)",
      "\u001b[0;32m<ipython-input-141-bc658890c9d6>\u001b[0m in \u001b[0;36m<module>\u001b[0;34m\u001b[0m\n\u001b[1;32m      3\u001b[0m \u001b[0mprint\u001b[0m\u001b[0;34m(\u001b[0m\u001b[0ml\u001b[0m\u001b[0;34m)\u001b[0m\u001b[0;34m\u001b[0m\u001b[0;34m\u001b[0m\u001b[0m\n\u001b[1;32m      4\u001b[0m \u001b[0;32mdel\u001b[0m \u001b[0ml\u001b[0m\u001b[0;34m\u001b[0m\u001b[0;34m\u001b[0m\u001b[0m\n\u001b[0;32m----> 5\u001b[0;31m \u001b[0mprint\u001b[0m\u001b[0;34m(\u001b[0m\u001b[0ml\u001b[0m\u001b[0;34m)\u001b[0m\u001b[0;34m\u001b[0m\u001b[0;34m\u001b[0m\u001b[0m\n\u001b[0m",
      "\u001b[0;31mNameError\u001b[0m: name 'l' is not defined"
     ]
    }
   ],
   "source": [
    "l = [1,2,3,4,5,6,7,8]\n",
    "del l[2]\n",
    "print(l)\n",
    "del l\n",
    "print(l)"
   ]
  },
  {
   "cell_type": "code",
   "execution_count": 140,
   "metadata": {},
   "outputs": [
    {
     "ename": "NameError",
     "evalue": "name 'l' is not defined",
     "output_type": "error",
     "traceback": [
      "\u001b[0;31m---------------------------------------------------------------------------\u001b[0m",
      "\u001b[0;31mNameError\u001b[0m                                 Traceback (most recent call last)",
      "\u001b[0;32m<ipython-input-140-3db29c61a670>\u001b[0m in \u001b[0;36m<module>\u001b[0;34m\u001b[0m\n\u001b[1;32m      1\u001b[0m \u001b[0;32mdel\u001b[0m \u001b[0ml\u001b[0m\u001b[0;34m\u001b[0m\u001b[0;34m\u001b[0m\u001b[0m\n\u001b[0;32m----> 2\u001b[0;31m \u001b[0mprint\u001b[0m\u001b[0;34m(\u001b[0m\u001b[0ml\u001b[0m\u001b[0;34m)\u001b[0m\u001b[0;34m\u001b[0m\u001b[0;34m\u001b[0m\u001b[0m\n\u001b[0m",
      "\u001b[0;31mNameError\u001b[0m: name 'l' is not defined"
     ]
    }
   ],
   "source": []
  },
  {
   "cell_type": "code",
   "execution_count": 1,
   "metadata": {},
   "outputs": [],
   "source": [
    "# list tuple set dict"
   ]
  },
  {
   "cell_type": "code",
   "execution_count": 11,
   "metadata": {},
   "outputs": [
    {
     "name": "stdout",
     "output_type": "stream",
     "text": [
      "<class 'list'>\n",
      "None\n"
     ]
    }
   ],
   "source": [
    "# first define a list\n",
    "l = []\n",
    "print(type(l))\n",
    "\n",
    "l = [1,2,3,4,5,6,7,8,9]\n",
    "print(l.reverse())"
   ]
  },
  {
   "cell_type": "code",
   "execution_count": 7,
   "metadata": {},
   "outputs": [
    {
     "name": "stdout",
     "output_type": "stream",
     "text": [
      "<class 'tuple'>\n"
     ]
    }
   ],
   "source": [
    "# define a tuple\n",
    "t = tuple()\n",
    "print(type(t))"
   ]
  },
  {
   "cell_type": "code",
   "execution_count": 8,
   "metadata": {},
   "outputs": [
    {
     "name": "stdout",
     "output_type": "stream",
     "text": [
      "<class 'set'>\n"
     ]
    }
   ],
   "source": [
    "# define a set\n",
    "s = set()\n",
    "print(type(s))"
   ]
  },
  {
   "cell_type": "code",
   "execution_count": 9,
   "metadata": {},
   "outputs": [
    {
     "name": "stdout",
     "output_type": "stream",
     "text": [
      "<class 'dict'>\n"
     ]
    }
   ],
   "source": [
    "# define a dict\n",
    "d = {}\n",
    "print(type(d))"
   ]
  },
  {
   "cell_type": "code",
   "execution_count": 30,
   "metadata": {},
   "outputs": [
    {
     "name": "stdout",
     "output_type": "stream",
     "text": [
      "A  ->  B\n",
      "A  ->  B\n",
      "B  ->  C\n",
      "B  ->  C\n",
      "None\n"
     ]
    }
   ],
   "source": [
    "# Hanoverian\n",
    "\n",
    "# 规则：\n",
    "# 每次移动一个盘子\n",
    "# 任何时候大盘子在下面，小盘子在上面\n",
    "\n",
    "# if n == 1:\n",
    "#     print('A - C')\n",
    "\n",
    "# elif n == 2:\n",
    "#     print('A - B')\n",
    "#     print('A - C')\n",
    "#     print('B - C')\n",
    "\n",
    "# elif n == 3:\n",
    "#     print('A - C')\n",
    "#     print('A - B')\n",
    "#     print('C - B')\n",
    "#     print('A - C')\n",
    "#     print('B - A')\n",
    "#     print('B - C')\n",
    "#     print('A - C')\n",
    "\n",
    "def Hanoverian_iteration(n,a,b,c):\n",
    "    if n == 1:\n",
    "        print(a, ' -> ', c)\n",
    "        return\n",
    "    # 如果不是一个盘子的汉诺塔,则由A通过C转到B\n",
    "    Hanoverian_iteration(n-1,a,c,b)\n",
    "    print(a, ' -> ', b)\n",
    "    #return(a, ' -> ', b)\n",
    "    \n",
    "    \n",
    "    # 再由B通过A转到C\n",
    "    Hanoverian_iteration(n-1,b,a,c)\n",
    "    print(b, ' -> ', c)\n",
    "        #return(b, ' -> ', c)\n",
    "\n",
    "print(Hanoverian_iteration(2,a = 'A', b = \"B\", c = 'C'))\n"
   ]
  },
  {
   "cell_type": "code",
   "execution_count": 35,
   "metadata": {},
   "outputs": [
    {
     "name": "stdout",
     "output_type": "stream",
     "text": [
      "Help on built-in function print in module builtins:\n",
      "\n",
      "print(...)\n",
      "    print(value, ..., sep=' ', end='\\n', file=sys.stdout, flush=False)\n",
      "    \n",
      "    Prints the values to a stream, or to sys.stdout by default.\n",
      "    Optional keyword arguments:\n",
      "    file:  a file-like object (stream); defaults to the current sys.stdout.\n",
      "    sep:   string inserted between values, default a space.\n",
      "    end:   string appended after the last value, default a newline.\n",
      "    flush: whether to forcibly flush the stream.\n",
      "\n"
     ]
    }
   ],
   "source": [
    "import file\n",
    "help(print)"
   ]
  },
  {
   "cell_type": "code",
   "execution_count": 38,
   "metadata": {},
   "outputs": [
    {
     "name": "stdout",
     "output_type": "stream",
     "text": [
      "/anaconda3/bin/python\n"
     ]
    }
   ],
   "source": [
    "import sys\n",
    "print(sys.executable)"
   ]
  },
  {
   "cell_type": "code",
   "execution_count": 39,
   "metadata": {},
   "outputs": [
    {
     "name": "stdout",
     "output_type": "stream",
     "text": [
      "/anaconda3/bin/python\n"
     ]
    }
   ],
   "source": [
    "import sys\n",
    "print(sys.executable)"
   ]
  },
  {
   "cell_type": "code",
   "execution_count": 40,
   "metadata": {},
   "outputs": [
    {
     "name": "stdout",
     "output_type": "stream",
     "text": [
      "Help on built-in function print in module builtins:\n",
      "\n",
      "print(...)\n",
      "    print(value, ..., sep=' ', end='\\n', file=sys.stdout, flush=False)\n",
      "    \n",
      "    Prints the values to a stream, or to sys.stdout by default.\n",
      "    Optional keyword arguments:\n",
      "    file:  a file-like object (stream); defaults to the current sys.stdout.\n",
      "    sep:   string inserted between values, default a space.\n",
      "    end:   string appended after the last value, default a newline.\n",
      "    flush: whether to forcibly flush the stream.\n",
      "\n",
      "None\n"
     ]
    }
   ],
   "source": [
    "print(help(print))"
   ]
  },
  {
   "cell_type": "code",
   "execution_count": 47,
   "metadata": {},
   "outputs": [
    {
     "data": {
      "text/plain": [
       "'/Users/shangjingwei/Desktop/Python/python_lesson'"
      ]
     },
     "execution_count": 47,
     "metadata": {},
     "output_type": "execute_result"
    }
   ],
   "source": [
    "import os\n",
    "os.getcwd()"
   ]
  },
  {
   "cell_type": "code",
   "execution_count": 50,
   "metadata": {},
   "outputs": [
    {
     "name": "stdout",
     "output_type": "stream",
     "text": [
      "123456\n",
      "\n",
      "This is a normal text!\n",
      "\n",
      "这是一个普通的txt文本文件.\n"
     ]
    }
   ],
   "source": [
    "with open(r'../shang.txt','r')as f:\n",
    "    for i in f:\n",
    "        print(i)"
   ]
  },
  {
   "cell_type": "code",
   "execution_count": 51,
   "metadata": {},
   "outputs": [
    {
     "name": "stdout",
     "output_type": "stream",
     "text": [
      "1\n",
      "2\n",
      "3\n",
      "4\n",
      "5\n",
      "6\n",
      "\n",
      "\n",
      "T\n",
      "h\n",
      "i\n",
      "s\n",
      " \n",
      "i\n",
      "s\n",
      " \n",
      "a\n",
      " \n",
      "n\n",
      "o\n",
      "r\n",
      "m\n",
      "a\n",
      "l\n",
      " \n",
      "t\n",
      "e\n",
      "x\n",
      "t\n",
      "!\n",
      "\n",
      "\n",
      "这\n",
      "是\n",
      "一\n",
      "个\n",
      "普\n",
      "通\n",
      "的\n",
      "t\n",
      "x\n",
      "t\n",
      "文\n",
      "本\n",
      "文\n",
      "件\n",
      ".\n",
      "Done....\n"
     ]
    }
   ],
   "source": [
    "with open(r'../shang.txt', 'r') as f:\n",
    "    # 1. 首先判断文件是否读取完毕,如果没有读取完毕,则一直进行读取操作.\n",
    "    while f.readable:\n",
    "        n = f.read(1)\n",
    "        if n != '':\n",
    "            print(n)\n",
    "        else:\n",
    "            break\n",
    "print('Done....')"
   ]
  },
  {
   "cell_type": "code",
   "execution_count": 52,
   "metadata": {},
   "outputs": [
    {
     "name": "stdout",
     "output_type": "stream",
     "text": [
      "\n",
      "\n",
      "\n",
      "\n",
      "\n",
      "\n",
      "\n",
      "\n",
      "\n",
      "\n",
      "\n",
      "\n",
      "\n",
      "\n",
      "\n",
      "\n",
      "\n",
      "\n",
      "\n",
      "\n",
      "\n",
      "\n",
      "\n",
      "\n",
      "\n",
      "\n",
      "\n",
      "\n",
      "\n",
      "\n",
      "\n",
      "\n",
      "\n",
      "\n",
      "\n",
      "\n",
      "\n",
      "\n",
      "\n",
      "\n",
      "\n",
      "\n",
      "\n",
      "\n",
      "\n",
      "\n",
      "\n",
      "\n",
      "\n",
      "\n",
      "\n",
      "\n",
      "\n",
      "\n",
      "\n",
      "\n",
      "\n",
      "\n",
      "\n",
      "\n",
      "\n",
      "\n",
      "\n",
      "\n",
      "\n",
      "\n",
      "\n",
      "Done......\n"
     ]
    }
   ],
   "source": [
    "with open(r'../shang.txt', 'r') as f:\n",
    "    n, i = f.seek(0,2), 0\n",
    "    while i < n:\n",
    "        f.read(1)\n",
    "        print(f.read(1))\n",
    "        i += 1\n",
    "print('Done......')"
   ]
  },
  {
   "cell_type": "code",
   "execution_count": 5,
   "metadata": {},
   "outputs": [
    {
     "name": "stdout",
     "output_type": "stream",
     "text": [
      "i am shangjingwei and this system version is darwin\n"
     ]
    }
   ],
   "source": [
    "import sys\n",
    "print('i am {1[name]} and this system version is {0.platform}'.format(sys,{'name':'shangjingwei'}))"
   ]
  },
  {
   "cell_type": "code",
   "execution_count": 11,
   "metadata": {},
   "outputs": [
    {
     "name": "stdout",
     "output_type": "stream",
     "text": [
      "999,999,999\n"
     ]
    }
   ],
   "source": [
    "print('{:,d}'.format(999999999))"
   ]
  },
  {
   "cell_type": "code",
   "execution_count": 13,
   "metadata": {},
   "outputs": [
    {
     "name": "stdout",
     "output_type": "stream",
     "text": [
      "[97, 65]\n"
     ]
    }
   ],
   "source": [
    "print(list(map(ord,'aA')))"
   ]
  },
  {
   "cell_type": "code",
   "execution_count": 17,
   "metadata": {},
   "outputs": [
    {
     "name": "stdout",
     "output_type": "stream",
     "text": [
      "{'one': 1, 'two': 2, 'three': 3}\n"
     ]
    }
   ],
   "source": [
    "L1 = ['one','two','three']\n",
    "L2 = [1,2,3]\n",
    "print(dict(zip(L1,L2)))"
   ]
  },
  {
   "cell_type": "code",
   "execution_count": 19,
   "metadata": {},
   "outputs": [
    {
     "name": "stdout",
     "output_type": "stream",
     "text": [
      "Help on class enumerate in module builtins:\n",
      "\n",
      "class enumerate(object)\n",
      " |  enumerate(iterable, start=0)\n",
      " |  \n",
      " |  Return an enumerate object.\n",
      " |  \n",
      " |    iterable\n",
      " |      an object supporting iteration\n",
      " |  \n",
      " |  The enumerate object yields pairs containing a count (from start, which\n",
      " |  defaults to zero) and a value yielded by the iterable argument.\n",
      " |  \n",
      " |  enumerate is useful for obtaining an indexed list:\n",
      " |      (0, seq[0]), (1, seq[1]), (2, seq[2]), ...\n",
      " |  \n",
      " |  Methods defined here:\n",
      " |  \n",
      " |  __getattribute__(self, name, /)\n",
      " |      Return getattr(self, name).\n",
      " |  \n",
      " |  __iter__(self, /)\n",
      " |      Implement iter(self).\n",
      " |  \n",
      " |  __next__(self, /)\n",
      " |      Implement next(self).\n",
      " |  \n",
      " |  __reduce__(...)\n",
      " |      Return state information for pickling.\n",
      " |  \n",
      " |  ----------------------------------------------------------------------\n",
      " |  Static methods defined here:\n",
      " |  \n",
      " |  __new__(*args, **kwargs) from builtins.type\n",
      " |      Create and return a new object.  See help(type) for accurate signature.\n",
      "\n"
     ]
    }
   ],
   "source": [
    "help(enumerate)"
   ]
  },
  {
   "cell_type": "code",
   "execution_count": 23,
   "metadata": {},
   "outputs": [
    {
     "name": "stdout",
     "output_type": "stream",
     "text": [
      "{0: 'one', 1: 'two', 2: 'three'}\n"
     ]
    }
   ],
   "source": [
    "l1 = ['one','two','three']\n",
    "print(dict(enumerate(l1)))"
   ]
  },
  {
   "cell_type": "code",
   "execution_count": 25,
   "metadata": {},
   "outputs": [
    {
     "name": "stdout",
     "output_type": "stream",
     "text": [
      "the number 1 is s\n",
      "the number 2 is h\n",
      "the number 3 is a\n",
      "the number 4 is n\n",
      "the number 5 is g\n"
     ]
    }
   ],
   "source": [
    "S = 'shang'\n",
    "for (o,i) in enumerate(S,1):\n",
    "    print('the number', o ,'is', i)"
   ]
  },
  {
   "cell_type": "code",
   "execution_count": 29,
   "metadata": {},
   "outputs": [
    {
     "data": {
      "text/plain": [
       "'/Users/shangjingwei/Desktop/Python/python_lesson/jupyter'"
      ]
     },
     "execution_count": 29,
     "metadata": {},
     "output_type": "execute_result"
    }
   ],
   "source": [
    "import os\n",
    "os.getcwd()"
   ]
  },
  {
   "cell_type": "code",
   "execution_count": 43,
   "metadata": {},
   "outputs": [
    {
     "name": "stdout",
     "output_type": "stream",
     "text": [
      "['2222\\n', '2222\\n']\n"
     ]
    }
   ],
   "source": [
    "with open('shang.txt','r') as f:\n",
    "    print(f.readlines())\n",
    "    pass"
   ]
  },
  {
   "cell_type": "code",
   "execution_count": 44,
   "metadata": {},
   "outputs": [
    {
     "name": "stdout",
     "output_type": "stream",
     "text": [
      "['/Users/shangjingwei/Desktop/Python/python_lesson/jupyter', '/anaconda3/envs/Python371/lib/python37.zip', '/anaconda3/envs/Python371/lib/python3.7', '/anaconda3/envs/Python371/lib/python3.7/lib-dynload', '', '/anaconda3/envs/Python371/lib/python3.7/site-packages', '/anaconda3/envs/Python371/lib/python3.7/site-packages/IPython/extensions', '/Users/shangjingwei/.ipython']\n"
     ]
    }
   ],
   "source": [
    "import sys\n",
    "print(sys.path)"
   ]
  },
  {
   "cell_type": "code",
   "execution_count": 65,
   "metadata": {},
   "outputs": [
    {
     "name": "stdout",
     "output_type": "stream",
     "text": [
      "1 2 3\n",
      "1 2 4\n",
      "1 3 2\n",
      "1 3 4\n",
      "1 4 2\n",
      "1 4 3\n",
      "2 1 3\n",
      "2 1 4\n",
      "2 3 1\n",
      "2 3 4\n",
      "2 4 1\n",
      "2 4 3\n",
      "3 1 2\n",
      "3 1 4\n",
      "3 2 1\n",
      "3 2 4\n",
      "3 4 1\n",
      "3 4 2\n",
      "4 1 2\n",
      "4 1 3\n",
      "4 2 1\n",
      "4 2 3\n",
      "4 3 1\n",
      "4 3 2\n",
      "the count print is 24 numbers\n"
     ]
    }
   ],
   "source": [
    "# 01. 有四个数字：1、2、3、4，能组成多少个互不相同且无重复数字的三位数？各是多少？\n",
    "n = 0\n",
    "for i in range(1,5):\n",
    "    for j in range(1,5):\n",
    "        for k in range(1,5):\n",
    "            if i!=j and i!=k and j!=k:\n",
    "                print(i,j,k)\n",
    "                n += 1\n",
    "print('the count print is {0} numbers'.format(n))"
   ]
  },
  {
   "cell_type": "code",
   "execution_count": 34,
   "metadata": {},
   "outputs": [
    {
     "name": "stdout",
     "output_type": "stream",
     "text": [
      "please input income:120000\n",
      "1000000\n",
      "0.01\n",
      "600000\n",
      "0.015\n",
      "400000\n",
      "0.03\n",
      "200000\n",
      "0.05\n",
      "100000\n",
      "0.075\n",
      "0\n",
      "0.1\n",
      "3500.0\n"
     ]
    }
   ],
   "source": [
    "# 02. 企业发放的奖金根据利润提成。利润(I)低于或等于10万元时，奖金可提10%；\n",
    "# 利润高于10万元，低于20万元时，低于10万元的部分按10%提成，高于10万元的部分，可提成7.5%；\n",
    "# 20万到40万之间时，高于20万元的部分，可提成5%；\n",
    "# 40万到60万之间时高于40万元的部分，可提成3%；\n",
    "# 60万到100万之间时，高于60万元的部分，可提成1.5%，\n",
    "# 高于100万元时，超过100万元的部分按1%提成，从键盘输入当月利润I，求应发放奖金总数？\n",
    "\n",
    "# I = int(input('please input profits:'))\n",
    "# x = 0\n",
    "# if 100 < I:\n",
    "#     x += (I - 100) * 0.01\n",
    "#     I -= 100\n",
    "# if 60 < I <= 100:\n",
    "#     x += (I - 60) * 0.015\n",
    "#     I -= 60\n",
    "# if 40 < I <= 60:\n",
    "#     x += (I - 40) * 0.03\n",
    "#     I -= 40\n",
    "# if 20 < I <= 40:\n",
    "#     x += (I - 20) * 0.05\n",
    "#     I -= 20\n",
    "# if 10 < I <= 20:\n",
    "#     x += (I - 10) * 0.075\n",
    "#     I -= 10\n",
    "# if 0 < I <= 10:\n",
    "#     x += I * 0.1\n",
    "# print(x)\n",
    "\n",
    "# 优化解决方案\n",
    "I = int(input('please input income:'))\n",
    "x,j = 0,0\n",
    "income = [0, 100000, 200000, 400000, 600000, 1000000]\n",
    "rate = [0.1, 0.075, 0.05, 0.03, 0.015, 0.01]\n",
    "income.reverse()\n",
    "rate.reverse()\n",
    "for i in range(6):\n",
    "    print(income[i])\n",
    "    print(rate[i])\n",
    "    if I > income[i]:\n",
    "        x += (I - income[i]) * rate[i]\n",
    "        I -= income[i] \n",
    "print(x)"
   ]
  },
  {
   "cell_type": "code",
   "execution_count": 41,
   "metadata": {},
   "outputs": [
    {
     "ename": "TypeError",
     "evalue": "sqrt() takes exactly one argument (2 given)",
     "output_type": "error",
     "traceback": [
      "\u001b[0;31m---------------------------------------------------------------------------\u001b[0m",
      "\u001b[0;31mTypeError\u001b[0m                                 Traceback (most recent call last)",
      "\u001b[0;32m<ipython-input-41-34584f1519e8>\u001b[0m in \u001b[0;36m<module>\u001b[0;34m\u001b[0m\n\u001b[1;32m      2\u001b[0m \u001b[0;32mimport\u001b[0m \u001b[0mmath\u001b[0m\u001b[0;34m\u001b[0m\u001b[0;34m\u001b[0m\u001b[0m\n\u001b[1;32m      3\u001b[0m \u001b[0;32mfor\u001b[0m \u001b[0mx\u001b[0m \u001b[0;32min\u001b[0m \u001b[0mrange\u001b[0m\u001b[0;34m(\u001b[0m\u001b[0;34m-\u001b[0m\u001b[0;36m100\u001b[0m\u001b[0;34m,\u001b[0m \u001b[0;36m99999\u001b[0m\u001b[0;34m)\u001b[0m\u001b[0;34m:\u001b[0m\u001b[0;34m\u001b[0m\u001b[0;34m\u001b[0m\u001b[0m\n\u001b[0;32m----> 4\u001b[0;31m     \u001b[0my\u001b[0m \u001b[0;34m=\u001b[0m \u001b[0misinstance\u001b[0m\u001b[0;34m(\u001b[0m\u001b[0mmath\u001b[0m\u001b[0;34m.\u001b[0m\u001b[0msqrt\u001b[0m\u001b[0;34m(\u001b[0m\u001b[0mx\u001b[0m \u001b[0;34m+\u001b[0m \u001b[0;36m100\u001b[0m\u001b[0;34m,\u001b[0m \u001b[0mint\u001b[0m\u001b[0;34m)\u001b[0m\u001b[0;34m,\u001b[0m \u001b[0mint\u001b[0m\u001b[0;34m)\u001b[0m\u001b[0;34m\u001b[0m\u001b[0;34m\u001b[0m\u001b[0m\n\u001b[0m\u001b[1;32m      5\u001b[0m     \u001b[0mz\u001b[0m \u001b[0;34m=\u001b[0m \u001b[0misinstance\u001b[0m\u001b[0;34m(\u001b[0m\u001b[0mmath\u001b[0m\u001b[0;34m.\u001b[0m\u001b[0msqrt\u001b[0m\u001b[0;34m(\u001b[0m\u001b[0mx\u001b[0m \u001b[0;34m+\u001b[0m \u001b[0;36m100\u001b[0m \u001b[0;34m+\u001b[0m \u001b[0;36m168\u001b[0m\u001b[0;34m,\u001b[0m \u001b[0mint\u001b[0m\u001b[0;34m)\u001b[0m\u001b[0;34m,\u001b[0m \u001b[0mint\u001b[0m\u001b[0;34m)\u001b[0m\u001b[0;34m\u001b[0m\u001b[0;34m\u001b[0m\u001b[0m\n\u001b[1;32m      6\u001b[0m     \u001b[0;32mif\u001b[0m \u001b[0my\u001b[0m \u001b[0;32mand\u001b[0m \u001b[0mz\u001b[0m\u001b[0;34m:\u001b[0m\u001b[0;34m\u001b[0m\u001b[0;34m\u001b[0m\u001b[0m\n",
      "\u001b[0;31mTypeError\u001b[0m: sqrt() takes exactly one argument (2 given)"
     ]
    }
   ],
   "source": [
    "# 03. 一个整数，它加上100后是一个完全平方数，再加上168又是一个完全平方数，请问该数是多少？\n",
    "import math\n",
    "for x in range(-100, 99999):\n",
    "    y = isinstance(math.sqrt(x + 100), int)\n",
    "    z = isinstance(math.sqrt(x + 100 + 168), int)\n",
    "    if y and z:\n",
    "        print(x)"
   ]
  },
  {
   "cell_type": "code",
   "execution_count": 49,
   "metadata": {},
   "outputs": [
    {
     "name": "stdout",
     "output_type": "stream",
     "text": [
      "year:2015\n",
      "month:6\n",
      "day:7\n",
      "158\n"
     ]
    }
   ],
   "source": [
    "# 04. 输入某年某月某日，判断这一天是这一年的第几天？\n",
    "# 解析：输入时最重要的是先判断这一年是否是闰年，如果是2月将会是几天，\n",
    "# 接下来需要知道30天和31天的月份。\n",
    "import time\n",
    "year = int(input('year:'))\n",
    "month = int(input('month:'))\n",
    "day = int(input('day:'))\n",
    "d = 0\n",
    "month_list = [31,28,31,30,31,30,31,31,30,31,30,31]\n",
    "# 闰年，能被4整除，不能被100整除，能被400整除\n",
    "if year % 4 ==0 and year % 100 != 0 or year % 400 == 0:\n",
    "    month_list[1] = 29\n",
    "for i in range(month-1):\n",
    "    d += month_list[i]\n",
    "print(d+day)\n",
    "    \n",
    "    "
   ]
  },
  {
   "cell_type": "code",
   "execution_count": 60,
   "metadata": {},
   "outputs": [
    {
     "name": "stdout",
     "output_type": "stream",
     "text": [
      "please input number 1:2\n",
      "please input number 2:7\n",
      "please input number 3:6\n",
      "2\n",
      "6\n",
      "7\n"
     ]
    }
   ],
   "source": [
    "# 05. 输入三个整数x,y,z，请把这三个数由小到大输出。\n",
    "i = int(input('please input number 1:'))\n",
    "j = int(input('please input number 2:'))\n",
    "k = int(input('please input number 3:'))\n",
    "l = [i,j,k]\n",
    "l.sort()\n",
    "for a in l:\n",
    "    print(a)\n"
   ]
  },
  {
   "cell_type": "code",
   "execution_count": 87,
   "metadata": {},
   "outputs": [
    {
     "data": {
      "text/plain": [
       "13"
      ]
     },
     "execution_count": 87,
     "metadata": {},
     "output_type": "execute_result"
    }
   ],
   "source": [
    "# 06. 斐波那契数列\n",
    "# 斐波那契数列（Fibonacci sequence），又称黄金分割数列，指的是这样一个数列：0、1、1、2、3、5、8、13、21、34、……。\n",
    "# f0=0 f1=1 f2=f1+f0 f3=f2+f1\n",
    "\n",
    "def fib(n):\n",
    "    if n == 0:\n",
    "        return 0\n",
    "    if n == 1:\n",
    "        return 1\n",
    "    return fib(n-1) + fib(n-2)\n",
    "fib(7)\n",
    "\n",
    "#f6+f5\n",
    "#f5+f4+f4+f3\n",
    "#f4+f3+f3+f2+f3+f2+f2+f1\n",
    "#f3+f2+f2+f1+f2+f1+f1+f0+f2+f1+f1+f0+f1+f0+f1\n",
    "#f2+f1+f1+f0+f1+f1+f0+f1+f1+f0+f1+f0+f1+f1+f0+f1+f0+f1\n",
    "#f1+f0"
   ]
  },
  {
   "cell_type": "code",
   "execution_count": 90,
   "metadata": {},
   "outputs": [
    {
     "name": "stdout",
     "output_type": "stream",
     "text": [
      "[1, 2, 3, 4, 5]\n",
      "[1, 2, 3]\n"
     ]
    }
   ],
   "source": [
    "# 07. 将一个列表的数据复制到另一个列表中。\n",
    "l1 = [1,2,3,4,5]\n",
    "l2 = l1\n",
    "print(l2)\n",
    "\n",
    "l3 = [1,2,3]\n",
    "l4 = l3[:]\n",
    "print(l4)"
   ]
  },
  {
   "cell_type": "code",
   "execution_count": 158,
   "metadata": {},
   "outputs": [
    {
     "name": "stdout",
     "output_type": "stream",
     "text": [
      "1 x 1 = 1  \n",
      "2 x 1 = 2  2 x 2 = 4  \n",
      "3 x 1 = 3  3 x 2 = 6  3 x 3 = 9  \n",
      "4 x 1 = 4  4 x 2 = 8  4 x 3 = 12  4 x 4 = 16  \n",
      "5 x 1 = 5  5 x 2 = 10  5 x 3 = 15  5 x 4 = 20  5 x 5 = 25  \n",
      "6 x 1 = 6  6 x 2 = 12  6 x 3 = 18  6 x 4 = 24  6 x 5 = 30  6 x 6 = 36  \n",
      "7 x 1 = 7  7 x 2 = 14  7 x 3 = 21  7 x 4 = 28  7 x 5 = 35  7 x 6 = 42  7 x 7 = 49  \n",
      "8 x 1 = 8  8 x 2 = 16  8 x 3 = 24  8 x 4 = 32  8 x 5 = 40  8 x 6 = 48  8 x 7 = 56  8 x 8 = 64  \n",
      "9 x 1 = 9  9 x 2 = 18  9 x 3 = 27  9 x 4 = 36  9 x 5 = 45  9 x 6 = 54  9 x 7 = 63  9 x 8 = 72  9 x 9 = 81  \n"
     ]
    }
   ],
   "source": [
    "# 08. 输出 9*9 乘法口诀表。\n",
    "# 1*1\n",
    "# 2*1 2*2\n",
    "# 3*1 3*2 3*3\n",
    "for i in range(1,10):\n",
    "    for j in range(1,i + 1):\n",
    "        print(i, 'x', j, '=', i * j, end = '  ')\n",
    "    print('', end = '\\n')"
   ]
  },
  {
   "cell_type": "code",
   "execution_count": 1,
   "metadata": {},
   "outputs": [
    {
     "name": "stdout",
     "output_type": "stream",
     "text": [
      "1553742385.314989\n",
      "1553742386.315168\n",
      "1553742387.316685\n",
      "1553742388.319273\n",
      "1553742389.322026\n",
      "1553742390.324573\n",
      "1553742391.327115\n",
      "1553742392.3297338\n",
      "1553742393.332383\n",
      "1553742394.337311\n",
      "1553742395.338047\n",
      "1553742396.340534\n",
      "1553742397.345817\n",
      "1553742398.3510778\n",
      "1553742399.352879\n",
      "1553742400.3579981\n",
      "1553742401.363301\n",
      "1553742402.366823\n",
      "1553742403.369374\n",
      "1553742404.371962\n",
      "1553742405.377267\n",
      "1553742406.37753\n",
      "1553742407.3798678\n",
      "1553742408.382565\n",
      "1553742409.385056\n",
      "1553742410.387577\n",
      "1553742411.390191\n",
      "1553742412.3927732\n",
      "1553742413.3953779\n",
      "1553742414.398491\n",
      "1553742415.4009879\n",
      "1553742416.403579\n",
      "1553742417.4078562\n",
      "1553742418.408911\n",
      "1553742419.4096498\n",
      "1553742420.4140742\n",
      "1553742421.416641\n",
      "1553742422.419292\n",
      "1553742423.42179\n",
      "1553742424.424361\n",
      "1553742425.4284642\n",
      "1553742426.42968\n",
      "1553742427.432224\n",
      "1553742428.434855\n",
      "1553742429.4374468\n",
      "1553742430.442702\n",
      "1553742431.446935\n",
      "1553742432.448073\n",
      "1553742433.453268\n",
      "1553742434.454668\n",
      "1553742435.460489\n",
      "1553742436.4608471\n",
      "1553742437.462519\n",
      "1553742438.4678102\n",
      "1553742439.470593\n",
      "1553742440.475494\n",
      "1553742441.4760451\n",
      "1553742442.481205\n",
      "1553742443.4839082\n",
      "1553742444.487474\n",
      "1553742445.4902039\n",
      "1553742446.492764\n",
      "1553742447.4962041\n",
      "1553742448.49792\n",
      "1553742449.501089\n",
      "1553742450.5030951\n",
      "1553742451.5056808\n",
      "1553742452.5071511\n",
      "1553742453.5113301\n",
      "1553742454.513365\n",
      "1553742455.5161972\n",
      "1553742456.5192142\n",
      "1553742457.522938\n",
      "1553742458.524471\n",
      "1553742459.5269399\n",
      "1553742460.5274801\n",
      "1553742461.5299149\n",
      "1553742462.5301352\n",
      "1553742463.530902\n",
      "1553742464.533678\n",
      "1553742465.538732\n",
      "1553742466.539136\n",
      "1553742467.539671\n",
      "1553742468.540488\n",
      "1553742469.5422468\n",
      "1553742470.5471842\n",
      "1553742471.5521548\n",
      "1553742472.554353\n",
      "1553742473.554622\n",
      "1553742474.557782\n",
      "1553742475.5582578\n",
      "1553742476.560971\n",
      "1553742477.563602\n",
      "1553742478.5681999\n",
      "1553742479.568743\n",
      "1553742480.571299\n",
      "1553742481.573815\n",
      "1553742482.574542\n",
      "1553742483.57922\n",
      "1553742484.580925\n",
      "1553742485.5844438\n",
      "1553742486.586934\n",
      "1553742487.589509\n",
      "1553742488.592095\n",
      "1553742489.594624\n",
      "1553742490.5977721\n",
      "1553742491.599997\n",
      "1553742492.602596\n",
      "1553742493.6056142\n",
      "1553742494.608277\n",
      "1553742495.613215\n",
      "1553742496.617384\n",
      "1553742497.6220212\n",
      "1553742498.6268091\n",
      "1553742499.6317172\n",
      "1553742500.634367\n",
      "1553742501.6371279\n",
      "1553742502.6414678\n",
      "1553742503.64518\n",
      "1553742504.64766\n",
      "1553742505.6517591\n",
      "1553742506.6558652\n",
      "1553742507.6605399\n",
      "1553742508.660773\n",
      "1553742509.66097\n",
      "1553742510.661427\n",
      "1553742511.663079\n",
      "1553742512.6659079\n",
      "1553742513.668458\n",
      "1553742514.671298\n",
      "1553742515.6738749\n",
      "1553742516.676437\n",
      "1553742517.679052\n",
      "1553742518.6815932\n",
      "1553742519.684747\n",
      "1553742520.6869938\n",
      "1553742521.6896052\n",
      "1553742522.69211\n",
      "1553742523.694776\n",
      "1553742524.697282\n",
      "1553742525.7022269\n",
      "1553742526.702539\n",
      "1553742527.70516\n",
      "1553742528.7077508\n",
      "1553742529.7092931\n",
      "1553742530.712906\n",
      "1553742531.71783\n",
      "1553742532.718561\n",
      "1553742533.7238872\n",
      "1553742534.7291572\n",
      "1553742535.729461\n",
      "1553742536.734184\n",
      "1553742537.734484\n",
      "1553742538.737183\n",
      "1553742539.739721\n",
      "1553742540.744776\n",
      "1553742541.7450721\n",
      "1553742542.7479758\n",
      "1553742543.7505689\n",
      "1553742544.753141\n",
      "1553742545.755903\n",
      "1553742546.75845\n",
      "1553742547.761075\n",
      "1553742548.765281\n",
      "1553742549.766453\n",
      "1553742550.77182\n",
      "1553742551.7770722\n",
      "1553742552.782327\n",
      "1553742553.7829351\n",
      "1553742554.787198\n",
      "1553742555.7924612\n",
      "1553742556.7951622\n",
      "1553742557.800422\n",
      "1553742558.805758\n",
      "1553742559.8110452\n",
      "1553742560.816305\n",
      "1553742561.819165\n",
      "1553742562.8218088\n",
      "1553742563.8243809\n",
      "1553742564.827091\n",
      "1553742565.829918\n",
      "1553742566.832246\n",
      "1553742567.834809\n",
      "1553742568.837549\n",
      "1553742569.8387358\n",
      "1553742570.8408241\n",
      "1553742571.845698\n",
      "1553742572.846899\n",
      "1553742573.8504598\n",
      "1553742574.853039\n",
      "1553742575.855788\n",
      "1553742576.858182\n",
      "1553742577.860744\n",
      "1553742578.865587\n",
      "1553742579.866428\n",
      "1553742580.8668978\n",
      "1553742581.871562\n",
      "1553742582.874141\n",
      "1553742583.876906\n",
      "1553742584.881794\n"
     ]
    }
   ],
   "source": [
    "# 09. 暂停一秒输出。\n",
    "import time\n",
    "i = 0\n",
    "while(i < 100):\n",
    "    print(time.time())\n",
    "    time.sleep(1)\n",
    "    print(time.time())\n",
    "    time.sleep(1)\n",
    "    i += 1"
   ]
  },
  {
   "cell_type": "code",
   "execution_count": 6,
   "metadata": {},
   "outputs": [
    {
     "name": "stdout",
     "output_type": "stream",
     "text": [
      "2019-03-28 11:19:44\n",
      "time.struct_time(tm_year=2019, tm_mon=3, tm_mday=28, tm_hour=11, tm_min=19, tm_sec=45, tm_wday=3, tm_yday=87, tm_isdst=0)\n",
      "2019-03-28 11:19:46\n",
      "time.struct_time(tm_year=2019, tm_mon=3, tm_mday=28, tm_hour=11, tm_min=19, tm_sec=47, tm_wday=3, tm_yday=87, tm_isdst=0)\n",
      "2019-03-28 11:19:48\n",
      "time.struct_time(tm_year=2019, tm_mon=3, tm_mday=28, tm_hour=11, tm_min=19, tm_sec=49, tm_wday=3, tm_yday=87, tm_isdst=0)\n"
     ]
    }
   ],
   "source": [
    "# 10. 暂停一秒输出，并格式化当前时间。\n",
    "import time\n",
    "i = 0\n",
    "while(i < 3):\n",
    "    print(time.strftime('%Y-%m-%d %H:%M:%S', time.localtime()))\n",
    "    time.sleep(1)\n",
    "    print(time.localtime(time.time()))\n",
    "    time.sleep(1)\n",
    "    i += 1"
   ]
  },
  {
   "cell_type": "code",
   "execution_count": 42,
   "metadata": {},
   "outputs": [
    {
     "data": {
      "text/plain": [
       "5"
      ]
     },
     "execution_count": 42,
     "metadata": {},
     "output_type": "execute_result"
    }
   ],
   "source": [
    "# 11. 古典问题：有一对兔子，从出生后第3个月起每个月都生一对兔子，\n",
    "# 小兔子长到第三个月后每个月又生一对兔子，假如兔子都不死，问每个月的兔子总数为多少？\n",
    "# 问题分析：兔子的规律为，1,1,2,3,5,8,13,21,34,55 典型的迭代\n",
    "\n",
    "def iter(n):\n",
    "    if n == 1:\n",
    "        return 1\n",
    "    if n == 2:\n",
    "        return 2\n",
    "    return iter(n - 1) + iter(n - 2)\n",
    "\n",
    "iter(5-1)\n",
    "\n",
    "\n",
    "        \n"
   ]
  },
  {
   "cell_type": "code",
   "execution_count": 66,
   "metadata": {},
   "outputs": [
    {
     "name": "stdout",
     "output_type": "stream",
     "text": [
      "101\n",
      "103\n",
      "107\n",
      "109\n",
      "113\n",
      "127\n",
      "131\n",
      "137\n",
      "139\n",
      "149\n",
      "151\n",
      "157\n",
      "163\n",
      "167\n",
      "173\n",
      "179\n",
      "181\n",
      "191\n",
      "193\n",
      "197\n",
      "199\n",
      "21\n"
     ]
    }
   ],
   "source": [
    "# 12. 判断101-200之间有多少个素数，并输出所有素数。\n",
    "# 分析：\n",
    "# 1.从2开始遍历到当前数，如果遇到可以整除的数就直接返回执行下一个数的遍历\n",
    "# 2.如果不可以整除就执行判断是否遍历结束，如果结束就输出\n",
    "# 3.如果没有结束就继续进行遍历\n",
    "x = 0\n",
    "for i in range(101, 200):\n",
    "    for j in range(2, i + 1):\n",
    "        if i % j == 0 and i != j:\n",
    "            break\n",
    "        if i == j:\n",
    "            print(i)\n",
    "            x += 1\n",
    "            break\n",
    "        else:\n",
    "            continue\n",
    "print(x)"
   ]
  },
  {
   "cell_type": "code",
   "execution_count": 74,
   "metadata": {},
   "outputs": [
    {
     "name": "stdout",
     "output_type": "stream",
     "text": [
      "153\n",
      "370\n",
      "371\n",
      "407\n"
     ]
    }
   ],
   "source": [
    "# 13. 打印出所有的\"水仙花数\"，所谓\"水仙花数\"是指一个三位数，\n",
    "# 其各位数字立方和等于该数本身。例如：153是一个\"水仙花数\"，\n",
    "# 因为153=1的三次方＋5的三次方＋3的三次方。\n",
    "# 分析：\n",
    "# 1.所有三位数是从100循环到999，然后拿出个十百分别立方之后相加\n",
    "for i in range(100,1000):\n",
    "    x = i // 100\n",
    "    y = i // 10 % 10\n",
    "    z = i % 10\n",
    "    if x ** 3 + y ** 3 + z ** 3 == i:\n",
    "        print(i)"
   ]
  },
  {
   "cell_type": "code",
   "execution_count": 23,
   "metadata": {},
   "outputs": [
    {
     "name": "stdout",
     "output_type": "stream",
     "text": [
      "please input num:50\n",
      "x = 2* 5* 5"
     ]
    }
   ],
   "source": [
    "# 14. 将一个正整数分解质因数。例如：输入90,打印出90=2*3*3*5。\n",
    "# 解析：\n",
    "# 1.首先确定质数有哪些\n",
    "# 2.然后将给定数字分解，如果可以除尽，则保留继续循环除\n",
    "x = int(input('please input num:'))\n",
    "l, a = [], []\n",
    "for i in range(200):\n",
    "    for j in range(2, i + 1):\n",
    "        if i % j == 0 and i != j:\n",
    "            break\n",
    "        if i == j:\n",
    "            l.append(i)\n",
    "            break\n",
    "        else:\n",
    "            continue\n",
    "for z in l:\n",
    "    if x % z == 0:\n",
    "        a.append(z)\n",
    "        x = x // z\n",
    "\n",
    "    if z == l[-1]:\n",
    "        print('x', end=' ')\n",
    "        for t in a:\n",
    "            if t == a[0]:\n",
    "                print('=', t, end='')\n",
    "            else:\n",
    "                print('*', t, end='')\n",
    "        print('*', x, end='')\n",
    "        break"
   ]
  },
  {
   "cell_type": "code",
   "execution_count": 33,
   "metadata": {},
   "outputs": [
    {
     "name": "stdout",
     "output_type": "stream",
     "text": [
      "please input your score:90\n",
      "A\n"
     ]
    }
   ],
   "source": [
    "# 15. 利用条件运算符的嵌套来完成此题：学习成绩>=90分的同学用A表示，60-89分之间的用B表示，60分以下的用C表示。\n",
    "student_score = int(input('please input your score:'))\n",
    "\n",
    "if student_score >= 90:\n",
    "    print('A')\n",
    "elif 80 > student_score >= 60:\n",
    "    print('B')\n",
    "else:\n",
    "    print('C')\n"
   ]
  },
  {
   "cell_type": "code",
   "execution_count": 36,
   "metadata": {},
   "outputs": [
    {
     "name": "stdout",
     "output_type": "stream",
     "text": [
      "2019-03-30 15:07:50\n"
     ]
    }
   ],
   "source": [
    "# 16. 输出指定格式的日期。\n",
    "import time\n",
    "print(time.strftime('%Y-%m-%d %H:%M:%S', time.localtime()))"
   ]
  },
  {
   "cell_type": "code",
   "execution_count": 46,
   "metadata": {},
   "outputs": [
    {
     "name": "stdout",
     "output_type": "stream",
     "text": [
      "asfkasg;  jiqjr234235 2\n",
      "{'a': 2, 's': 2, 'f': 1, 'k': 1, 'g': 1, ';': 1, ' ': 3, 'j': 2, 'i': 1, 'q': 1, 'r': 1, '2': 3, '3': 2, '4': 1, '5': 1}\n"
     ]
    }
   ],
   "source": [
    "# 17. 输入一行字符，分别统计出其中英文字母、空格、数字和其它字符的个数。\n",
    "\n",
    "a = input()\n",
    "a = list(a)\n",
    "adic = {}\n",
    "for i in a:\n",
    "    adic[i] = a.count(i)\n",
    "print(adic)"
   ]
  },
  {
   "cell_type": "code",
   "execution_count": 50,
   "metadata": {},
   "outputs": [
    {
     "name": "stdout",
     "output_type": "stream",
     "text": [
      "请输入要相加的数字2\n",
      "请输入要相加几次2\n",
      "2\n",
      "22\n",
      "24\n"
     ]
    }
   ],
   "source": [
    "# 18. 求s=a+aa+aaa+aaaa+aa...a的值，其中a是一个数字。\n",
    "# 例如2+22+222+2222+22222(此时共有5个数相加)，几个数相加由键盘控制。\n",
    "x = input('请输入要相加的数字')\n",
    "i = int(input('请输入要相加几次'))\n",
    "z = 0\n",
    "for j in range(1, i + 1):\n",
    "    print(x * j)\n",
    "    z += int(x * j)\n",
    "print(z)\n",
    "    "
   ]
  },
  {
   "cell_type": "code",
   "execution_count": 53,
   "metadata": {},
   "outputs": [],
   "source": [
    "# 19. 一个数如果恰好等于它的因子之和，这个数就称为\"完数\"。\n",
    "# 例如6=1＋2＋3.编程找出1000以内的所有完数。\n",
    "\n",
    "for i in range(2, 1001):\n",
    "    x = 0\n",
    "    for j in range(2, i + 1):\n",
    "        if i % j == 0:\n",
    "            x += i // j\n",
    "    if x == i:\n",
    "        print(i)"
   ]
  },
  {
   "cell_type": "code",
   "execution_count": 54,
   "metadata": {},
   "outputs": [
    {
     "name": "stdout",
     "output_type": "stream",
     "text": [
      "共经历了299.609375,第10次反弹高度为0.09765625\n"
     ]
    }
   ],
   "source": [
    "# 20. 一球从100米高度自由落下，每次落地后反跳回原高度的一半；\n",
    "# 再落下，求它在第10次落地时，共经过多少米？第10次反弹多高？\n",
    "x = 0\n",
    "high = 100\n",
    "z = 0\n",
    "while x < 10:\n",
    "    z += high\n",
    "    high = high / 2\n",
    "    z += high\n",
    "    x += 1\n",
    "z -= high\n",
    "print('共经历了{0},第10次反弹高度为{1}'.format(z, high))"
   ]
  },
  {
   "cell_type": "code",
   "execution_count": 55,
   "metadata": {},
   "outputs": [
    {
     "name": "stdout",
     "output_type": "stream",
     "text": [
      "8\n",
      "7\n",
      "6\n",
      "5\n",
      "4\n",
      "3\n",
      "2\n",
      "1\n",
      "0\n",
      "1534\n"
     ]
    }
   ],
   "source": [
    "# 21. 猴子吃桃问题：猴子第一天摘下若干个桃子，当即吃了一半，\n",
    "# 又多吃了一个第二天早上又将剩下的桃子吃掉一半，又多吃了一个。\n",
    "# 以后每天早上都吃了前一天剩下的一半零一个。\n",
    "# 到第10天早上想再吃时，见只剩下一个桃子了。求第一天共摘了多少。\n",
    "x = 9\n",
    "y = 1\n",
    "while x > 0:\n",
    "    y = (y + 1) * 2\n",
    "    x -= 1\n",
    "    print(x)\n",
    "print(y)"
   ]
  },
  {
   "cell_type": "code",
   "execution_count": 56,
   "metadata": {},
   "outputs": [
    {
     "name": "stdout",
     "output_type": "stream",
     "text": [
      "Help on class combinations in module itertools:\n",
      "\n",
      "class combinations(builtins.object)\n",
      " |  combinations(iterable, r) --> combinations object\n",
      " |  \n",
      " |  Return successive r-length combinations of elements in the iterable.\n",
      " |  \n",
      " |  combinations(range(4), 3) --> (0,1,2), (0,1,3), (0,2,3), (1,2,3)\n",
      " |  \n",
      " |  Methods defined here:\n",
      " |  \n",
      " |  __getattribute__(self, name, /)\n",
      " |      Return getattr(self, name).\n",
      " |  \n",
      " |  __iter__(self, /)\n",
      " |      Implement iter(self).\n",
      " |  \n",
      " |  __next__(self, /)\n",
      " |      Implement next(self).\n",
      " |  \n",
      " |  __reduce__(...)\n",
      " |      Return state information for pickling.\n",
      " |  \n",
      " |  __setstate__(...)\n",
      " |      Set state information for unpickling.\n",
      " |  \n",
      " |  __sizeof__(...)\n",
      " |      Returns size in memory, in bytes.\n",
      " |  \n",
      " |  ----------------------------------------------------------------------\n",
      " |  Static methods defined here:\n",
      " |  \n",
      " |  __new__(*args, **kwargs) from builtins.type\n",
      " |      Create and return a new object.  See help(type) for accurate signature.\n",
      "\n"
     ]
    }
   ],
   "source": [
    "import itertools as it\n",
    "help(it.combinations)"
   ]
  },
  {
   "cell_type": "code",
   "execution_count": 23,
   "metadata": {},
   "outputs": [
    {
     "name": "stdout",
     "output_type": "stream",
     "text": [
      "1 \n",
      "1 1 \n",
      "1 0 - ( 3 ) 1 \n",
      "1 0 - ( 4 ) 0 - ( 4 ) 1 \n",
      "1 0 - ( 5 ) 0 - ( 5 ) 0 - ( 5 ) 1 \n",
      "1 0 - ( 6 ) 0 - ( 6 ) 0 - ( 6 ) 0 - ( 6 ) 1 \n",
      "1 0 - ( 7 ) 0 - ( 7 ) 0 - ( 7 ) 0 - ( 7 ) 0 - ( 7 ) 1 \n",
      "1 0 - ( 8 ) 0 - ( 8 ) 0 - ( 8 ) 0 - ( 8 ) 0 - ( 8 ) 0 - ( 8 ) 1 \n",
      "1 0 - ( 9 ) 0 - ( 9 ) 0 - ( 9 ) 0 - ( 9 ) 0 - ( 9 ) 0 - ( 9 ) 0 - ( 9 ) 1 \n",
      "1 2 - ( 10 ) 2 - ( 10 ) 2 - ( 10 ) 2 - ( 10 ) 2 - ( 10 ) 2 - ( 10 ) 2 - ( 10 ) 2 - ( 10 ) 1 \n"
     ]
    }
   ],
   "source": [
    "l1 = [[0 for i in range(10)] for i in range(10)]\n",
    "# l1 = [[], [], [], [], [], [], [], [], [], []]\n",
    "for i in range(1, 11):\n",
    "    for j in range(1, i + 1):\n",
    "        if j == i or j == 1:\n",
    "            print(1, end=' ')\n",
    "            l1[i - 1].append(1)\n",
    "            continue\n",
    "        if i > 2:\n",
    "            y = l1[i-2][i] +l1[i-2][i]\n",
    "            print(y,'-','(',i,')' ,end=' ')\n",
    "            l1[i - 2].append(y)\n",
    "    print('', end='\\n')"
   ]
  },
  {
   "cell_type": "code",
   "execution_count": null,
   "metadata": {},
   "outputs": [],
   "source": []
  }
 ],
 "metadata": {
  "kernelspec": {
   "display_name": "Python 3",
   "language": "python",
   "name": "python3"
  },
  "language_info": {
   "codemirror_mode": {
    "name": "ipython",
    "version": 3
   },
   "file_extension": ".py",
   "mimetype": "text/x-python",
   "name": "python",
   "nbconvert_exporter": "python",
   "pygments_lexer": "ipython3",
   "version": "3.7.2"
  }
 },
 "nbformat": 4,
 "nbformat_minor": 2
}
