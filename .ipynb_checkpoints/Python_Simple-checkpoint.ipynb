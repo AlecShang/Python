{
 "cells": [
  {
   "cell_type": "code",
   "execution_count": 89,
   "metadata": {},
   "outputs": [
    {
     "name": "stdout",
     "output_type": "stream",
     "text": [
      "200\n",
      "{'__name__': '__main__', '__doc__': 'Automatically created module for IPython interactive environment', '__package__': None, '__loader__': None, '__spec__': None, '__builtin__': <module 'builtins' (built-in)>, '__builtins__': <module 'builtins' (built-in)>, '_ih': ['', 'for i in range(1,11):\\n    print(i)', 'student_score = input(\"please input your score:\")\\nif studnet_score > 0:\\n    if studnet_score > 90:\\n        print(\"your score is A\")\\n    elif studnet_score > 80 and studnet_score <= 90\\n        print(\"your score is B\")\\n    elif studnet_score > 70 and studnet_score <= 80\\n        print(\"your score is C\")\\n    elif studnet_score > 60 and studnet_score <= 70\\n        print(\"your score is D\")\\n    else\\n        print(\"your score not pass!\")', 'student_score = input(\"please input your score:\")\\nif studnet_score > 0:\\n    if studnet_score > 90:\\n        print(\"your score is A\")\\n    elif studnet_score > 80 and studnet_score < 90\\n        print(\"your score is B\")\\n    elif studnet_score > 70 and studnet_score < 80\\n        print(\"your score is C\")\\n    elif studnet_score > 60 and studnet_score < 70\\n        print(\"your score is D\")\\n    else\\n        print(\"your score not pass!\")', 'student_score = input(\"please input your score:\")\\nif studnet_score > 0:\\n    if studnet_score > 90:\\n        print(\"your score is A\")\\n    elif studnet_score > 80 and studnet_score <= 90:\\n        print(\"your score is B\")\\n    elif studnet_score > 70 and studnet_score <= 80:\\n        print(\"your score is C\")\\n    elif studnet_score > 60 and studnet_score <= 70:\\n        print(\"your score is D\")\\n    else:\\n        print(\"your score not pass!\")', 'student_score = input(\"please input your score:\")\\nif studnet_score > 0:\\n    if student_score > 90:\\n        print(\"your score is A\")\\n    elif student_score > 80 and student_score <= 90:\\n        print(\"your score is B\")\\n    elif student_score > 70 and student_score <= 80:\\n        print(\"your score is C\")\\n    elif student_score > 60 and student_score <= 70:\\n        print(\"your score is D\")\\n    else:\\n        print(\"your score not pass!\")', 'student_score = input(\"please input your score:\")\\nif student_score > 0:\\n    if student_score > 90:\\n        print(\"your score is A\")\\n    elif student_score > 80 and student_score <= 90:\\n        print(\"your score is B\")\\n    elif student_score > 70 and student_score <= 80:\\n        print(\"your score is C\")\\n    elif student_score > 60 and student_score <= 70:\\n        print(\"your score is D\")\\n    else:\\n        print(\"your score not pass!\")', 'student_score = int(input(\"please input your score:\"))\\nif student_score > 0:\\n    if student_score > 90:\\n        print(\"your score is A\")\\n    elif student_score > 80 and student_score <= 90:\\n        print(\"your score is B\")\\n    elif student_score > 70 and student_score <= 80:\\n        print(\"your score is C\")\\n    elif student_score > 60 and student_score <= 70:\\n        print(\"your score is D\")\\n    else:\\n        print(\"your score not pass!\")', 'student_score = int(input(\"please input your score:\"))\\nif student_score > 0:\\n    if student_score > 90:\\n        print(\"your score is A\")\\n    elif student_score > 80 and student_score <= 90:\\n        print(\"your score is B\")\\n    elif student_score > 70 and student_score <= 80:\\n        print(\"your score is C\")\\n    elif student_score > 60 and student_score <= 70:\\n        print(\"your score is D\")\\n    else:\\n        print(\"your score not pass!\")', 'student_score = int(input(\"please input your score:\"))\\nif student_score > 0:\\n    if student_score > 90:\\n        print(\"your score is A\")\\n    elif student_score > 80 and student_score <= 90:\\n        print(\"your score is B\")\\n    elif student_score > 70 and student_score <= 80:\\n        print(\"your score is C\")\\n    elif student_score > 60 and student_score <= 70:\\n        print(\"your score is D\")\\n    else:\\n        print(\"your score not pass!\")', 'student_score = int(input(\"please input your score:\"))\\nif student_score > 0:\\n    if student_score > 90:\\n        print(\"your score is A\")\\n    elif student_score > 80 and student_score <= 90:\\n        print(\"your score is B\")\\n    elif student_score > 70 and student_score <= 80:\\n        print(\"your score is C\")\\n    elif student_score >= 60 and student_score <= 70:\\n        print(\"your score is D\")\\n    else:\\n        print(\"your score not pass!\")', 'student_score = int(input(\"please input your score:\"))\\nif student_score > 0:\\n    if student_score > 90:\\n        print(\"your score is A\")\\n    elif student_score > 80 and student_score <= 90:\\n        print(\"your score is B\")\\n    elif student_score > 70 and student_score <= 80:\\n        print(\"your score is C\")\\n    elif student_score >= 60 and student_score <= 70:\\n        print(\"your score is D\")\\n    else:\\n        print(\"your score not pass!\")', \"person_list = ['zhangsan','lisi','wangwu','zhaoliu']\\nfor _ in person_list:\\n    print('1')\", \"person_list = ['zhangsan','lisi','wangwu','zhaoliu']\\nfor i in person_list:\\n    print(i)\", \"person_list = ['zhangsan','lisi','wangwu','zhaoliu']\\nfor i in person_list:\\n    if i != 'lisi':\\n        print('this is not lisi')\\n    else:\\n        print('yes, this is lisi!')\", \"person_list = ['zhangsan','lisi','wangwu','zhaoliu']\\nfor i in person_list:\\n    if i != 'lisi':\\n        print('this is not lisi')\\n    else:\\n        print('yes, this is lisi!')\\n        break\", \"person_list = ['zhangsan','lisi','wangwu','zhaoliu']\\nfor i in person_list:\\n    if i != 'lisi':\\n        continue\\n    else:\\n        print('yes, this is lisi!')\\n        break\", \"person_list = ['zhangsan','lisi','wangwu','zhaoliu']\\nfor i in person_list:\\n    pass\\n    if i != 'lisi':\\n        continue\\n    else:\\n        print('yes, this is lisi!')\\n        break\", '# make a 9 * 9 \\n\\nfor i in range(1,10)', \"# make a 9 * 9 \\n\\nfor i in range(1,10):\\n    print('----')\", \"# make a 9 * 9 \\n\\nfor i in range(1,10):\\n    print('i')\", '# make a 9 * 9 \\n\\nfor i in range(1,10):\\n    print(i)', '# make a 9 * 9 \\n\\nfor i in range(1,10):\\n    for j in range(1,i):\\n        print(i)', '# make a 9 * 9 \\n\\nfor i in range(1,10):\\n    for j in range(1,i):\\n        print(\"i\")', '# make a 9 * 9 \\n\\nfor i in range(1,10):\\n    for j in range(1,i):\\n        print(j)', \"# make a 9 * 9 \\n\\nfor i in range(1,10):\\n    for j in range(1,i):\\n        print(j,end='')\", '# make a 9 * 9 \\n\\nfor i in range(1,10):\\n    for j in range(1,i):\\n        print(j)', '# make a 9 * 9 \\n\\nfor i in range(1,10):\\n    print(i)\\n    for j in range(1,i):\\n        print(j)', '# make a 9 * 9 \\n\\nfor i in range(1,10):\\n    print(i)\\n    for j in range(1,i):\\n        pass', '# make a 9 * 9 \\n\\nfor i in range(1,10):\\n    for j in range(1,i):\\n        pass', \"# make a 9 * 9 \\n\\nfor i in range(1,10):\\n    for j in range(1,i):\\n        print('i')\", '# make a 9 * 9 \\n\\nfor i in range(1,10):\\n    for j in range(1,i):\\n        print(i * j)', '# make a 9 * 9 \\n\\nfor i in range(1,10):\\n    for j in range(1,i+1):\\n        print(i * j)', \"# make a 9 * 9 \\n\\nfor i in range(1,10):\\n    for j in range(1,i+1):\\n        print(i * j)\\n    print('')\", \"# make a 9 * 9 \\n\\nfor i in range(1,10):\\n    for j in range(1,i+1):\\n        print(i * j)\\n    print('---')\", \"# make a 9 * 9 \\n\\nfor i in range(1,10):\\n    for j in range(1,i+1):\\n        print(i * j)\\n    print('',end = '')\", \"# make a 9 * 9 \\n\\nfor i in range(1,10):\\n    for j in range(1,i+1):\\n        print(i * j)\\n    print('')\", \"# make a 9 * 9 \\n\\nfor i in range(1,10):\\n    for j in range(1,i+1):\\n        print(i * j,end = '')\\n    print('')\", \"# make a 9 * 9 \\n\\nfor i in range(1,10):\\n    for j in range(1,i+1):\\n        print(i * j,end = '')\\n    print(' ')\", \"# make a 9 * 9 \\n\\nfor i in range(1,10):\\n    for j in range(1,i+1):\\n        print(i * j,end = '')\\n    print(' ')\", \"# make a 9 * 9 \\n\\nfor i in range(1,10):\\n    for j in range(1,i+1):\\n        print(i * j,end = ' ')\\n    print(' ')\", \"# make a 9 * 9 \\n\\nfor i in range(1,10):\\n    for j in range(1,i+1):\\n        print(i * j,end = ' ')\\n    print('')\", \"# make a 9 * 9 \\ndef calculate9(i):\\n    for j in range(1,i+1):\\n        print(i * j,end = ' ')\\n    print('')\\nfor i in range(1,10):\\n    calculate9(i)\", \"# make a 9 * 9 \\ndef calculate9(i):\\n    for j in range(1,i+1):\\n        print(i * j,end = ' ')\\n    print('')\\nfor i in range(1,10):\\n    calculate9(i)\", 'help(numpy)', 'help(sys)', 'help(input)', 'def testfunction(name,age = 18, *args):\\n    print(\"this is a self-introduction\")\\n    print(\"i am {0} , i {1} years old\".format(name,age))\\n\\n\\ntestfunction(\\'shangjingwei\\')', 'def testfunction(name,age = 18, *args):\\n    print(\"this is a self-introduction\")\\n    print(\"i am {0} , i {1} years old\".format(name,age))\\n\\n\\ntestfunction(\\'shangjingwei\\',\\'i come from henan\\')', 'def testfunction(name, *args,age = 18):\\n    print(\"this is a self-introduction\")\\n    print(\"i am {0} , i {1} years old\".format(name,age))\\n\\n\\ntestfunction(\\'shangjingwei\\',\\'i come from henan\\')', 'def testfunction(name, *args,age = 18):\\n    print(\"this is a self-introduction\")\\n    print(\"i am {0} , i {1} years old\".format(name,age))\\n    for i in args:\\n        print(i)\\n\\n\\ntestfunction(\\'shangjingwei\\',\\'i come from henan\\')', 'def testfunction(name, *args,age = 18):\\n    print(\"this is a self-introduction\")\\n    print(\"i am {0} , i {1} years old\".format(name,age))\\n    for i in args:\\n        print(i)\\n\\n\\ntestfunction(\\'shangjingwei\\',\\'i come from henan\\',\\'my hobby is swimming\\')', 'def testfunction(name, *args,age = 18,**args):\\n    print(\"this is a self-introduction\")\\n    print(\"i am {0} , i {1} years old\".format(name,age))\\n    for i in args:\\n        type(agrs)\\n        print(i)\\n\\n\\ntestfunction(\\'shangjingwei\\',\\'i come from henan\\',\\'my hobby is swimming\\')', 'def testfunction(name, *args,age = 18,**args):\\n    print(\"this is a self-introduction\")\\n    print(\"i am {0} , i {1} years old\".format(name,age))\\n    for i in args:\\n        type(args)\\n        print(i)\\n\\n\\ntestfunction(\\'shangjingwei\\',\\'i come from henan\\',\\'my hobby is swimming\\')', 'def testfunction(name, *args,age = 18,**args):\\n    print(\"this is a self-introduction\")\\n    print(\"i am {0} , i {1} years old\".format(name,age))\\n    for i in args:\\n        type(i)\\n        print(i)\\n\\n\\ntestfunction(\\'shangjingwei\\',\\'i come from henan\\',\\'my hobby is swimming\\')', 'def testfunction(name, *args,age = 18,**args):\\n    print(\"this is a self-introduction\")\\n    print(\"i am {0} , i {1} years old\".format(name,age))\\n    for i in args:\\n        type(args())\\n        print(i)\\n\\n\\ntestfunction(\\'shangjingwei\\',\\'i come from henan\\',\\'my hobby is swimming\\')', 'def testfunction(name, *args,age = 18,**args):\\n    print(\"this is a self-introduction\")\\n    print(\"i am {0} , i {1} years old\".format(name,age))\\n    for i in args:\\n        args.type()\\n        print(i)\\n\\n\\ntestfunction(\\'shangjingwei\\',\\'i come from henan\\',\\'my hobby is swimming\\')', 'def testfunction(name, *args,age = 18,**args):\\n    print(\"this is a self-introduction\")\\n    print(\"i am {0} , i {1} years old\".format(name,age))\\n    for i in args:\\n        type(*args)\\n        print(i)\\n\\n\\ntestfunction(\\'shangjingwei\\',\\'i come from henan\\',\\'my hobby is swimming\\')', 'def testfunction(name, *args,age = 18,**args):\\n    print(\"this is a self-introduction\")\\n    print(\"i am {0} , i {1} years old\".format(name,age))\\n    type(args)\\n    for i in args:\\n        print(i)\\n\\n\\ntestfunction(\\'shangjingwei\\',\\'i come from henan\\',\\'my hobby is swimming\\')', 'def testfunction(name, *args,age = 18,**args):\\n    print(\"this is a self-introduction\")\\n    print(\"i am {0} , i {1} years old\".format(name,age))\\n    for i in args:\\n        print(i)\\n\\n\\ntestfunction(\\'shangjingwei\\',\\'i come from henan\\',\\'my hobby is swimming\\')', 'def testfunction(name, *args,age = 18,**kwargs):\\n    print(\"this is a self-introduction\")\\n    print(\"i am {0} , i {1} years old\".format(name,age))\\n    for i in args:\\n        type(args)\\n        print(i)\\n\\n\\ntestfunction(\\'shangjingwei\\',\\'i come from henan\\',\\'my hobby is swimming\\')', 'def testfunction(name, *args,age = 18,**kwargs):\\n    print(\"this is a self-introduction\")\\n    print(\"i am {0} , i {1} years old\".format(name,age))\\n    for i in args:\\n        type(*args)\\n        print(i)\\n\\n\\ntestfunction(\\'shangjingwei\\',\\'i come from henan\\',\\'my hobby is swimming\\')', 'def testfunction(name, *args,age = 18,**kwargs):\\n    print(\"this is a self-introduction\")\\n    print(\"i am {0} , i {1} years old\".format(name,age))\\n    for i in args:\\n        type(args)\\n        print(i)\\n\\n\\ntestfunction(\\'shangjingwei\\',\\'i come from henan\\',\\'my hobby is swimming\\')', 'def testfunction(name, *args,age = 18,**kwargs):\\n    print(\"this is a self-introduction\")\\n    print(\"i am {0} , i {1} years old\".format(name,age))\\n    type(args)\\n    for i in args:\\n\\n        print(i)\\n\\n\\ntestfunction(\\'shangjingwei\\',\\'i come from henan\\',\\'my hobby is swimming\\')', 'def testfunction(name, *args,age = 18,**kwargs):\\n    print(\"this is a self-introduction\")\\n    print(\"i am {0} , i {1} years old\".format(name,age))\\n    type(args())\\n    for i in args:\\n\\n        print(i)\\n\\n\\ntestfunction(\\'shangjingwei\\',\\'i come from henan\\',\\'my hobby is swimming\\')', 'def testfunction(name, *args,age = 18,**kwargs):\\n    print(\"this is a self-introduction\")\\n    print(\"i am {0} , i {1} years old\".format(name,age))\\n    type(args\\n    for i in args:\\n\\n        print(i)\\n\\n\\ntestfunction(\\'shangjingwei\\',\\'i come from henan\\',\\'my hobby is swimming\\')', 'def testfunction(name, *args,age = 18,**kwargs):\\n    print(\"this is a self-introduction\")\\n    print(\"i am {0} , i {1} years old\".format(name,age))\\n    type(args)\\n    for i in args:\\n\\n        print(i)\\n\\n\\ntestfunction(\\'shangjingwei\\',\\'i come from henan\\',\\'my hobby is swimming\\')', 'def testfunction(name, *args,age = 18,**kwargs):\\n    print(\"this is a self-introduction\")\\n    print(\"i am {0} , i {1} years old\".format(name,age))\\n    print(type(args))\\n    for i in args:\\n        print(i)\\n\\n\\ntestfunction(\\'shangjingwei\\',\\'i come from henan\\',\\'my hobby is swimming\\')', 'def testfunction(name, *args,age = 18,**kwargs):\\n    print(\"this is a self-introduction\")\\n    print(\"i am {0} , i {1} years old\".format(name,age))\\n    print(type(args))\\n    for i in args:\\n        print(i)\\n    print(type(kwargs))\\n    for j in kwargs.items:\\n        print(j)\\n\\n\\ntestfunction(\\'shangjingwei\\',\\'i come from henan\\',\\'my hobby is swimming\\')', 'def testfunction(name, *args,age = 18,**kwargs):\\n    print(\"this is a self-introduction\")\\n    print(\"i am {0} , i {1} years old\".format(name,age))\\n    print(type(args))\\n    for i in args:\\n        print(i)\\n    print(type(kwargs))\\n    for j in kwargs.item:\\n        print(j)\\n\\n\\ntestfunction(\\'shangjingwei\\',\\'i come from henan\\',\\'my hobby is swimming\\')', 'def testfunction(name, *args,age = 18,**kwargs):\\n    print(\"this is a self-introduction\")\\n    print(\"i am {0} , i {1} years old\".format(name,age))\\n    print(type(args))\\n    for i in args:\\n        print(i)\\n    print(type(kwargs))\\n    for j in kwargs:\\n        print(j)\\n\\n\\ntestfunction(\\'shangjingwei\\',\\'i come from henan\\',\\'my hobby is swimming\\')', 'def testfunction(name, *args,age = 18,**kwargs):\\n    print(\"this is a self-introduction\")\\n    print(\"i am {0} , i {1} years old\".format(name,age))\\n    print(type(args))\\n    for i in args:\\n        print(i)\\n    print(type(kwargs))\\n    for j in kwargs:\\n        print(j)\\n\\n\\ntestfunction(\\'shangjingwei\\',\\'i come from henan\\',\\'my hobby is swimming\\',hobby2=\\'eat\\')', 'def testfunction(name, *args,age = 18,**kwargs):\\n    print(\"this is a self-introduction\")\\n    print(\"i am {0} , i {1} years old\".format(name,age))\\n    print(type(args))\\n    for i in args:\\n        print(i)\\n    print(type(kwargs))\\n    for k,v in kwargs.items:\\n        print(j)\\n\\n\\ntestfunction(\\'shangjingwei\\',\\'i come from henan\\',\\'my hobby is swimming\\',hobby2=\\'eat\\')', 'def testfunction(name, *args,age = 18,**kwargs):\\n    print(\"this is a self-introduction\")\\n    print(\"i am {0} , i {1} years old\".format(name,age))\\n    print(type(args))\\n    for i in args:\\n        print(i)\\n    print(type(kwargs))\\n    for k,v in kwargs.item:\\n        print(j)\\n\\n\\ntestfunction(\\'shangjingwei\\',\\'i come from henan\\',\\'my hobby is swimming\\',hobby2=\\'eat\\')', 'def testfunction(name, *args,age = 18,**kwargs):\\n    print(\"this is a self-introduction\")\\n    print(\"i am {0} , i {1} years old\".format(name,age))\\n    print(type(args))\\n    for i in args:\\n        print(i)\\n    print(type(kwargs))\\n    for k,v in kwargs.items:\\n        print(j)\\n\\n\\ntestfunction(\\'shangjingwei\\',\\'i come from henan\\',\\'my hobby is swimming\\',hobby2=\\'eat\\')', 'def testfunction(name, *args,age = 18,**kwargs):\\n    print(\"this is a self-introduction\")\\n    print(\"i am {0} , i {1} years old\".format(name,age))\\n    print(type(args))\\n    for i in args:\\n        print(i)\\n    print(type(kwargs))\\n    for k,v in kwargs,items:\\n        print(j)\\n\\n\\ntestfunction(\\'shangjingwei\\',\\'i come from henan\\',\\'my hobby is swimming\\',hobby2=\\'eat\\')', 'def testfunction(name, *args,age = 18,**kwargs):\\n    print(\"this is a self-introduction\")\\n    print(\"i am {0} , i {1} years old\".format(name,age))\\n    print(type(args))\\n    for i in args:\\n        print(i)\\n    print(type(kwargs))\\n    for k,v in kwargs.items():\\n        print(j)\\n\\n\\ntestfunction(\\'shangjingwei\\',\\'i come from henan\\',\\'my hobby is swimming\\',hobby2=\\'eat\\')', 'def testfunction(name, *args,age = 18,**kwargs):\\n    print(\"this is a self-introduction\")\\n    print(\"i am {0} , i {1} years old\".format(name,age))\\n    print(type(args))\\n    for i in args:\\n        print(i)\\n    print(type(kwargs))\\n    for k,v in kwargs.items():\\n        print(k,v)\\n\\n\\ntestfunction(\\'shangjingwei\\',\\'i come from henan\\',\\'my hobby is swimming\\',hobby2=\\'eat\\')', 'def testfunction(name, *args,age = 18,**kwargs):\\n    print(\"this is a self-introduction\")\\n    print(\"i am {0} , i {1} years old\".format(name,age))\\n    print(type(args))\\n    for i in args:\\n        print(i)\\n    print(type(kwargs))\\n    for k,v in kwargs.items():\\n        print(k,\\'-\\' * 10,v)\\n\\n\\ntestfunction(\\'shangjingwei\\',\\'i come from henan\\',\\'my hobby is swimming\\',hobby2=\\'eat\\')', 'def dispack( *args):\\n    for i in args:\\n        print(i)', \"def dispack( *args):\\n    for i in args:\\n        print(i)\\n        \\n\\nl = ['zhangsan','lisi','wangwu','zhaoliu']\\n\\ndispack(l)\", \"def dispack( *args):\\n    for i in args:\\n        print(type(args))\\n        print(i)\\n        \\n\\nl = ['zhangsan','lisi','wangwu','zhaoliu']\\n\\ndispack(l)\", \"def dispack( *args):\\n    for i in args:\\n        print(type(args))\\n        print(i)\\n        \\n\\nl = ['zhangsan','lisi','wangwu','zhaoliu']\\n\\ndispack(*l)\", 'def defineGlobal( *args):\\n    global a\\n    a = 100\\n    \\n\\n    \\ndefineGlobal()\\nprint(a)', 'def defineGlobal( *args):\\n    global a\\n    a = 100\\n    \\n\\n    \\n#defineGlobal()\\nprint(a)', 'b = 200\\ndef defineGlobal( *args):\\n    global a\\n    a = 100\\n    print(b)\\n    \\n\\n    \\n#defineGlobal()\\nprint(a)', 'b = 200\\ndef defineGlobal( *args):\\n    global a\\n    a = 100\\n    print(b)\\n    \\n\\n    \\ndefineGlobal()\\nprint(a)', 'b = 200\\ndef defineGlobal( *args):\\n    global a\\n    a = 100\\n    print(b)\\n    \\n\\n    \\ndefineGlobal()\\nprint(globals())\\nprint(locals())', 'b = 200\\ndef defineGlobal( *args):\\n    global a\\n    a = 100\\n    print(b)\\n    \\n\\n    \\ndefineGlobal()\\n#print(globals())\\nprint(locals())', 'b = 200\\ndef defineGlobal( *args):\\n    global a\\n    a = 100\\n    print(b)\\n    \\n\\n    \\ndefineGlobal()\\n#print(globals())\\nprint(locals())'], '_oh': {}, '_dh': ['/Users/shangjingwei/Desktop/Python/Lesson'], 'In': ['', 'for i in range(1,11):\\n    print(i)', 'student_score = input(\"please input your score:\")\\nif studnet_score > 0:\\n    if studnet_score > 90:\\n        print(\"your score is A\")\\n    elif studnet_score > 80 and studnet_score <= 90\\n        print(\"your score is B\")\\n    elif studnet_score > 70 and studnet_score <= 80\\n        print(\"your score is C\")\\n    elif studnet_score > 60 and studnet_score <= 70\\n        print(\"your score is D\")\\n    else\\n        print(\"your score not pass!\")', 'student_score = input(\"please input your score:\")\\nif studnet_score > 0:\\n    if studnet_score > 90:\\n        print(\"your score is A\")\\n    elif studnet_score > 80 and studnet_score < 90\\n        print(\"your score is B\")\\n    elif studnet_score > 70 and studnet_score < 80\\n        print(\"your score is C\")\\n    elif studnet_score > 60 and studnet_score < 70\\n        print(\"your score is D\")\\n    else\\n        print(\"your score not pass!\")', 'student_score = input(\"please input your score:\")\\nif studnet_score > 0:\\n    if studnet_score > 90:\\n        print(\"your score is A\")\\n    elif studnet_score > 80 and studnet_score <= 90:\\n        print(\"your score is B\")\\n    elif studnet_score > 70 and studnet_score <= 80:\\n        print(\"your score is C\")\\n    elif studnet_score > 60 and studnet_score <= 70:\\n        print(\"your score is D\")\\n    else:\\n        print(\"your score not pass!\")', 'student_score = input(\"please input your score:\")\\nif studnet_score > 0:\\n    if student_score > 90:\\n        print(\"your score is A\")\\n    elif student_score > 80 and student_score <= 90:\\n        print(\"your score is B\")\\n    elif student_score > 70 and student_score <= 80:\\n        print(\"your score is C\")\\n    elif student_score > 60 and student_score <= 70:\\n        print(\"your score is D\")\\n    else:\\n        print(\"your score not pass!\")', 'student_score = input(\"please input your score:\")\\nif student_score > 0:\\n    if student_score > 90:\\n        print(\"your score is A\")\\n    elif student_score > 80 and student_score <= 90:\\n        print(\"your score is B\")\\n    elif student_score > 70 and student_score <= 80:\\n        print(\"your score is C\")\\n    elif student_score > 60 and student_score <= 70:\\n        print(\"your score is D\")\\n    else:\\n        print(\"your score not pass!\")', 'student_score = int(input(\"please input your score:\"))\\nif student_score > 0:\\n    if student_score > 90:\\n        print(\"your score is A\")\\n    elif student_score > 80 and student_score <= 90:\\n        print(\"your score is B\")\\n    elif student_score > 70 and student_score <= 80:\\n        print(\"your score is C\")\\n    elif student_score > 60 and student_score <= 70:\\n        print(\"your score is D\")\\n    else:\\n        print(\"your score not pass!\")', 'student_score = int(input(\"please input your score:\"))\\nif student_score > 0:\\n    if student_score > 90:\\n        print(\"your score is A\")\\n    elif student_score > 80 and student_score <= 90:\\n        print(\"your score is B\")\\n    elif student_score > 70 and student_score <= 80:\\n        print(\"your score is C\")\\n    elif student_score > 60 and student_score <= 70:\\n        print(\"your score is D\")\\n    else:\\n        print(\"your score not pass!\")', 'student_score = int(input(\"please input your score:\"))\\nif student_score > 0:\\n    if student_score > 90:\\n        print(\"your score is A\")\\n    elif student_score > 80 and student_score <= 90:\\n        print(\"your score is B\")\\n    elif student_score > 70 and student_score <= 80:\\n        print(\"your score is C\")\\n    elif student_score > 60 and student_score <= 70:\\n        print(\"your score is D\")\\n    else:\\n        print(\"your score not pass!\")', 'student_score = int(input(\"please input your score:\"))\\nif student_score > 0:\\n    if student_score > 90:\\n        print(\"your score is A\")\\n    elif student_score > 80 and student_score <= 90:\\n        print(\"your score is B\")\\n    elif student_score > 70 and student_score <= 80:\\n        print(\"your score is C\")\\n    elif student_score >= 60 and student_score <= 70:\\n        print(\"your score is D\")\\n    else:\\n        print(\"your score not pass!\")', 'student_score = int(input(\"please input your score:\"))\\nif student_score > 0:\\n    if student_score > 90:\\n        print(\"your score is A\")\\n    elif student_score > 80 and student_score <= 90:\\n        print(\"your score is B\")\\n    elif student_score > 70 and student_score <= 80:\\n        print(\"your score is C\")\\n    elif student_score >= 60 and student_score <= 70:\\n        print(\"your score is D\")\\n    else:\\n        print(\"your score not pass!\")', \"person_list = ['zhangsan','lisi','wangwu','zhaoliu']\\nfor _ in person_list:\\n    print('1')\", \"person_list = ['zhangsan','lisi','wangwu','zhaoliu']\\nfor i in person_list:\\n    print(i)\", \"person_list = ['zhangsan','lisi','wangwu','zhaoliu']\\nfor i in person_list:\\n    if i != 'lisi':\\n        print('this is not lisi')\\n    else:\\n        print('yes, this is lisi!')\", \"person_list = ['zhangsan','lisi','wangwu','zhaoliu']\\nfor i in person_list:\\n    if i != 'lisi':\\n        print('this is not lisi')\\n    else:\\n        print('yes, this is lisi!')\\n        break\", \"person_list = ['zhangsan','lisi','wangwu','zhaoliu']\\nfor i in person_list:\\n    if i != 'lisi':\\n        continue\\n    else:\\n        print('yes, this is lisi!')\\n        break\", \"person_list = ['zhangsan','lisi','wangwu','zhaoliu']\\nfor i in person_list:\\n    pass\\n    if i != 'lisi':\\n        continue\\n    else:\\n        print('yes, this is lisi!')\\n        break\", '# make a 9 * 9 \\n\\nfor i in range(1,10)', \"# make a 9 * 9 \\n\\nfor i in range(1,10):\\n    print('----')\", \"# make a 9 * 9 \\n\\nfor i in range(1,10):\\n    print('i')\", '# make a 9 * 9 \\n\\nfor i in range(1,10):\\n    print(i)', '# make a 9 * 9 \\n\\nfor i in range(1,10):\\n    for j in range(1,i):\\n        print(i)', '# make a 9 * 9 \\n\\nfor i in range(1,10):\\n    for j in range(1,i):\\n        print(\"i\")', '# make a 9 * 9 \\n\\nfor i in range(1,10):\\n    for j in range(1,i):\\n        print(j)', \"# make a 9 * 9 \\n\\nfor i in range(1,10):\\n    for j in range(1,i):\\n        print(j,end='')\", '# make a 9 * 9 \\n\\nfor i in range(1,10):\\n    for j in range(1,i):\\n        print(j)', '# make a 9 * 9 \\n\\nfor i in range(1,10):\\n    print(i)\\n    for j in range(1,i):\\n        print(j)', '# make a 9 * 9 \\n\\nfor i in range(1,10):\\n    print(i)\\n    for j in range(1,i):\\n        pass', '# make a 9 * 9 \\n\\nfor i in range(1,10):\\n    for j in range(1,i):\\n        pass', \"# make a 9 * 9 \\n\\nfor i in range(1,10):\\n    for j in range(1,i):\\n        print('i')\", '# make a 9 * 9 \\n\\nfor i in range(1,10):\\n    for j in range(1,i):\\n        print(i * j)', '# make a 9 * 9 \\n\\nfor i in range(1,10):\\n    for j in range(1,i+1):\\n        print(i * j)', \"# make a 9 * 9 \\n\\nfor i in range(1,10):\\n    for j in range(1,i+1):\\n        print(i * j)\\n    print('')\", \"# make a 9 * 9 \\n\\nfor i in range(1,10):\\n    for j in range(1,i+1):\\n        print(i * j)\\n    print('---')\", \"# make a 9 * 9 \\n\\nfor i in range(1,10):\\n    for j in range(1,i+1):\\n        print(i * j)\\n    print('',end = '')\", \"# make a 9 * 9 \\n\\nfor i in range(1,10):\\n    for j in range(1,i+1):\\n        print(i * j)\\n    print('')\", \"# make a 9 * 9 \\n\\nfor i in range(1,10):\\n    for j in range(1,i+1):\\n        print(i * j,end = '')\\n    print('')\", \"# make a 9 * 9 \\n\\nfor i in range(1,10):\\n    for j in range(1,i+1):\\n        print(i * j,end = '')\\n    print(' ')\", \"# make a 9 * 9 \\n\\nfor i in range(1,10):\\n    for j in range(1,i+1):\\n        print(i * j,end = '')\\n    print(' ')\", \"# make a 9 * 9 \\n\\nfor i in range(1,10):\\n    for j in range(1,i+1):\\n        print(i * j,end = ' ')\\n    print(' ')\", \"# make a 9 * 9 \\n\\nfor i in range(1,10):\\n    for j in range(1,i+1):\\n        print(i * j,end = ' ')\\n    print('')\", \"# make a 9 * 9 \\ndef calculate9(i):\\n    for j in range(1,i+1):\\n        print(i * j,end = ' ')\\n    print('')\\nfor i in range(1,10):\\n    calculate9(i)\", \"# make a 9 * 9 \\ndef calculate9(i):\\n    for j in range(1,i+1):\\n        print(i * j,end = ' ')\\n    print('')\\nfor i in range(1,10):\\n    calculate9(i)\", 'help(numpy)', 'help(sys)', 'help(input)', 'def testfunction(name,age = 18, *args):\\n    print(\"this is a self-introduction\")\\n    print(\"i am {0} , i {1} years old\".format(name,age))\\n\\n\\ntestfunction(\\'shangjingwei\\')', 'def testfunction(name,age = 18, *args):\\n    print(\"this is a self-introduction\")\\n    print(\"i am {0} , i {1} years old\".format(name,age))\\n\\n\\ntestfunction(\\'shangjingwei\\',\\'i come from henan\\')', 'def testfunction(name, *args,age = 18):\\n    print(\"this is a self-introduction\")\\n    print(\"i am {0} , i {1} years old\".format(name,age))\\n\\n\\ntestfunction(\\'shangjingwei\\',\\'i come from henan\\')', 'def testfunction(name, *args,age = 18):\\n    print(\"this is a self-introduction\")\\n    print(\"i am {0} , i {1} years old\".format(name,age))\\n    for i in args:\\n        print(i)\\n\\n\\ntestfunction(\\'shangjingwei\\',\\'i come from henan\\')', 'def testfunction(name, *args,age = 18):\\n    print(\"this is a self-introduction\")\\n    print(\"i am {0} , i {1} years old\".format(name,age))\\n    for i in args:\\n        print(i)\\n\\n\\ntestfunction(\\'shangjingwei\\',\\'i come from henan\\',\\'my hobby is swimming\\')', 'def testfunction(name, *args,age = 18,**args):\\n    print(\"this is a self-introduction\")\\n    print(\"i am {0} , i {1} years old\".format(name,age))\\n    for i in args:\\n        type(agrs)\\n        print(i)\\n\\n\\ntestfunction(\\'shangjingwei\\',\\'i come from henan\\',\\'my hobby is swimming\\')', 'def testfunction(name, *args,age = 18,**args):\\n    print(\"this is a self-introduction\")\\n    print(\"i am {0} , i {1} years old\".format(name,age))\\n    for i in args:\\n        type(args)\\n        print(i)\\n\\n\\ntestfunction(\\'shangjingwei\\',\\'i come from henan\\',\\'my hobby is swimming\\')', 'def testfunction(name, *args,age = 18,**args):\\n    print(\"this is a self-introduction\")\\n    print(\"i am {0} , i {1} years old\".format(name,age))\\n    for i in args:\\n        type(i)\\n        print(i)\\n\\n\\ntestfunction(\\'shangjingwei\\',\\'i come from henan\\',\\'my hobby is swimming\\')', 'def testfunction(name, *args,age = 18,**args):\\n    print(\"this is a self-introduction\")\\n    print(\"i am {0} , i {1} years old\".format(name,age))\\n    for i in args:\\n        type(args())\\n        print(i)\\n\\n\\ntestfunction(\\'shangjingwei\\',\\'i come from henan\\',\\'my hobby is swimming\\')', 'def testfunction(name, *args,age = 18,**args):\\n    print(\"this is a self-introduction\")\\n    print(\"i am {0} , i {1} years old\".format(name,age))\\n    for i in args:\\n        args.type()\\n        print(i)\\n\\n\\ntestfunction(\\'shangjingwei\\',\\'i come from henan\\',\\'my hobby is swimming\\')', 'def testfunction(name, *args,age = 18,**args):\\n    print(\"this is a self-introduction\")\\n    print(\"i am {0} , i {1} years old\".format(name,age))\\n    for i in args:\\n        type(*args)\\n        print(i)\\n\\n\\ntestfunction(\\'shangjingwei\\',\\'i come from henan\\',\\'my hobby is swimming\\')', 'def testfunction(name, *args,age = 18,**args):\\n    print(\"this is a self-introduction\")\\n    print(\"i am {0} , i {1} years old\".format(name,age))\\n    type(args)\\n    for i in args:\\n        print(i)\\n\\n\\ntestfunction(\\'shangjingwei\\',\\'i come from henan\\',\\'my hobby is swimming\\')', 'def testfunction(name, *args,age = 18,**args):\\n    print(\"this is a self-introduction\")\\n    print(\"i am {0} , i {1} years old\".format(name,age))\\n    for i in args:\\n        print(i)\\n\\n\\ntestfunction(\\'shangjingwei\\',\\'i come from henan\\',\\'my hobby is swimming\\')', 'def testfunction(name, *args,age = 18,**kwargs):\\n    print(\"this is a self-introduction\")\\n    print(\"i am {0} , i {1} years old\".format(name,age))\\n    for i in args:\\n        type(args)\\n        print(i)\\n\\n\\ntestfunction(\\'shangjingwei\\',\\'i come from henan\\',\\'my hobby is swimming\\')', 'def testfunction(name, *args,age = 18,**kwargs):\\n    print(\"this is a self-introduction\")\\n    print(\"i am {0} , i {1} years old\".format(name,age))\\n    for i in args:\\n        type(*args)\\n        print(i)\\n\\n\\ntestfunction(\\'shangjingwei\\',\\'i come from henan\\',\\'my hobby is swimming\\')', 'def testfunction(name, *args,age = 18,**kwargs):\\n    print(\"this is a self-introduction\")\\n    print(\"i am {0} , i {1} years old\".format(name,age))\\n    for i in args:\\n        type(args)\\n        print(i)\\n\\n\\ntestfunction(\\'shangjingwei\\',\\'i come from henan\\',\\'my hobby is swimming\\')', 'def testfunction(name, *args,age = 18,**kwargs):\\n    print(\"this is a self-introduction\")\\n    print(\"i am {0} , i {1} years old\".format(name,age))\\n    type(args)\\n    for i in args:\\n\\n        print(i)\\n\\n\\ntestfunction(\\'shangjingwei\\',\\'i come from henan\\',\\'my hobby is swimming\\')', 'def testfunction(name, *args,age = 18,**kwargs):\\n    print(\"this is a self-introduction\")\\n    print(\"i am {0} , i {1} years old\".format(name,age))\\n    type(args())\\n    for i in args:\\n\\n        print(i)\\n\\n\\ntestfunction(\\'shangjingwei\\',\\'i come from henan\\',\\'my hobby is swimming\\')', 'def testfunction(name, *args,age = 18,**kwargs):\\n    print(\"this is a self-introduction\")\\n    print(\"i am {0} , i {1} years old\".format(name,age))\\n    type(args\\n    for i in args:\\n\\n        print(i)\\n\\n\\ntestfunction(\\'shangjingwei\\',\\'i come from henan\\',\\'my hobby is swimming\\')', 'def testfunction(name, *args,age = 18,**kwargs):\\n    print(\"this is a self-introduction\")\\n    print(\"i am {0} , i {1} years old\".format(name,age))\\n    type(args)\\n    for i in args:\\n\\n        print(i)\\n\\n\\ntestfunction(\\'shangjingwei\\',\\'i come from henan\\',\\'my hobby is swimming\\')', 'def testfunction(name, *args,age = 18,**kwargs):\\n    print(\"this is a self-introduction\")\\n    print(\"i am {0} , i {1} years old\".format(name,age))\\n    print(type(args))\\n    for i in args:\\n        print(i)\\n\\n\\ntestfunction(\\'shangjingwei\\',\\'i come from henan\\',\\'my hobby is swimming\\')', 'def testfunction(name, *args,age = 18,**kwargs):\\n    print(\"this is a self-introduction\")\\n    print(\"i am {0} , i {1} years old\".format(name,age))\\n    print(type(args))\\n    for i in args:\\n        print(i)\\n    print(type(kwargs))\\n    for j in kwargs.items:\\n        print(j)\\n\\n\\ntestfunction(\\'shangjingwei\\',\\'i come from henan\\',\\'my hobby is swimming\\')', 'def testfunction(name, *args,age = 18,**kwargs):\\n    print(\"this is a self-introduction\")\\n    print(\"i am {0} , i {1} years old\".format(name,age))\\n    print(type(args))\\n    for i in args:\\n        print(i)\\n    print(type(kwargs))\\n    for j in kwargs.item:\\n        print(j)\\n\\n\\ntestfunction(\\'shangjingwei\\',\\'i come from henan\\',\\'my hobby is swimming\\')', 'def testfunction(name, *args,age = 18,**kwargs):\\n    print(\"this is a self-introduction\")\\n    print(\"i am {0} , i {1} years old\".format(name,age))\\n    print(type(args))\\n    for i in args:\\n        print(i)\\n    print(type(kwargs))\\n    for j in kwargs:\\n        print(j)\\n\\n\\ntestfunction(\\'shangjingwei\\',\\'i come from henan\\',\\'my hobby is swimming\\')', 'def testfunction(name, *args,age = 18,**kwargs):\\n    print(\"this is a self-introduction\")\\n    print(\"i am {0} , i {1} years old\".format(name,age))\\n    print(type(args))\\n    for i in args:\\n        print(i)\\n    print(type(kwargs))\\n    for j in kwargs:\\n        print(j)\\n\\n\\ntestfunction(\\'shangjingwei\\',\\'i come from henan\\',\\'my hobby is swimming\\',hobby2=\\'eat\\')', 'def testfunction(name, *args,age = 18,**kwargs):\\n    print(\"this is a self-introduction\")\\n    print(\"i am {0} , i {1} years old\".format(name,age))\\n    print(type(args))\\n    for i in args:\\n        print(i)\\n    print(type(kwargs))\\n    for k,v in kwargs.items:\\n        print(j)\\n\\n\\ntestfunction(\\'shangjingwei\\',\\'i come from henan\\',\\'my hobby is swimming\\',hobby2=\\'eat\\')', 'def testfunction(name, *args,age = 18,**kwargs):\\n    print(\"this is a self-introduction\")\\n    print(\"i am {0} , i {1} years old\".format(name,age))\\n    print(type(args))\\n    for i in args:\\n        print(i)\\n    print(type(kwargs))\\n    for k,v in kwargs.item:\\n        print(j)\\n\\n\\ntestfunction(\\'shangjingwei\\',\\'i come from henan\\',\\'my hobby is swimming\\',hobby2=\\'eat\\')', 'def testfunction(name, *args,age = 18,**kwargs):\\n    print(\"this is a self-introduction\")\\n    print(\"i am {0} , i {1} years old\".format(name,age))\\n    print(type(args))\\n    for i in args:\\n        print(i)\\n    print(type(kwargs))\\n    for k,v in kwargs.items:\\n        print(j)\\n\\n\\ntestfunction(\\'shangjingwei\\',\\'i come from henan\\',\\'my hobby is swimming\\',hobby2=\\'eat\\')', 'def testfunction(name, *args,age = 18,**kwargs):\\n    print(\"this is a self-introduction\")\\n    print(\"i am {0} , i {1} years old\".format(name,age))\\n    print(type(args))\\n    for i in args:\\n        print(i)\\n    print(type(kwargs))\\n    for k,v in kwargs,items:\\n        print(j)\\n\\n\\ntestfunction(\\'shangjingwei\\',\\'i come from henan\\',\\'my hobby is swimming\\',hobby2=\\'eat\\')', 'def testfunction(name, *args,age = 18,**kwargs):\\n    print(\"this is a self-introduction\")\\n    print(\"i am {0} , i {1} years old\".format(name,age))\\n    print(type(args))\\n    for i in args:\\n        print(i)\\n    print(type(kwargs))\\n    for k,v in kwargs.items():\\n        print(j)\\n\\n\\ntestfunction(\\'shangjingwei\\',\\'i come from henan\\',\\'my hobby is swimming\\',hobby2=\\'eat\\')', 'def testfunction(name, *args,age = 18,**kwargs):\\n    print(\"this is a self-introduction\")\\n    print(\"i am {0} , i {1} years old\".format(name,age))\\n    print(type(args))\\n    for i in args:\\n        print(i)\\n    print(type(kwargs))\\n    for k,v in kwargs.items():\\n        print(k,v)\\n\\n\\ntestfunction(\\'shangjingwei\\',\\'i come from henan\\',\\'my hobby is swimming\\',hobby2=\\'eat\\')', 'def testfunction(name, *args,age = 18,**kwargs):\\n    print(\"this is a self-introduction\")\\n    print(\"i am {0} , i {1} years old\".format(name,age))\\n    print(type(args))\\n    for i in args:\\n        print(i)\\n    print(type(kwargs))\\n    for k,v in kwargs.items():\\n        print(k,\\'-\\' * 10,v)\\n\\n\\ntestfunction(\\'shangjingwei\\',\\'i come from henan\\',\\'my hobby is swimming\\',hobby2=\\'eat\\')', 'def dispack( *args):\\n    for i in args:\\n        print(i)', \"def dispack( *args):\\n    for i in args:\\n        print(i)\\n        \\n\\nl = ['zhangsan','lisi','wangwu','zhaoliu']\\n\\ndispack(l)\", \"def dispack( *args):\\n    for i in args:\\n        print(type(args))\\n        print(i)\\n        \\n\\nl = ['zhangsan','lisi','wangwu','zhaoliu']\\n\\ndispack(l)\", \"def dispack( *args):\\n    for i in args:\\n        print(type(args))\\n        print(i)\\n        \\n\\nl = ['zhangsan','lisi','wangwu','zhaoliu']\\n\\ndispack(*l)\", 'def defineGlobal( *args):\\n    global a\\n    a = 100\\n    \\n\\n    \\ndefineGlobal()\\nprint(a)', 'def defineGlobal( *args):\\n    global a\\n    a = 100\\n    \\n\\n    \\n#defineGlobal()\\nprint(a)', 'b = 200\\ndef defineGlobal( *args):\\n    global a\\n    a = 100\\n    print(b)\\n    \\n\\n    \\n#defineGlobal()\\nprint(a)', 'b = 200\\ndef defineGlobal( *args):\\n    global a\\n    a = 100\\n    print(b)\\n    \\n\\n    \\ndefineGlobal()\\nprint(a)', 'b = 200\\ndef defineGlobal( *args):\\n    global a\\n    a = 100\\n    print(b)\\n    \\n\\n    \\ndefineGlobal()\\nprint(globals())\\nprint(locals())', 'b = 200\\ndef defineGlobal( *args):\\n    global a\\n    a = 100\\n    print(b)\\n    \\n\\n    \\ndefineGlobal()\\n#print(globals())\\nprint(locals())', 'b = 200\\ndef defineGlobal( *args):\\n    global a\\n    a = 100\\n    print(b)\\n    \\n\\n    \\ndefineGlobal()\\n#print(globals())\\nprint(locals())'], 'Out': {}, 'get_ipython': <bound method InteractiveShell.get_ipython of <ipykernel.zmqshell.ZMQInteractiveShell object at 0x10813fe10>>, 'exit': <IPython.core.autocall.ZMQExitAutocall object at 0x108c07898>, 'quit': <IPython.core.autocall.ZMQExitAutocall object at 0x108c07898>, '_': 'zhaoliu', '__': '', '___': '', '_i': 'b = 200\\ndef defineGlobal( *args):\\n    global a\\n    a = 100\\n    print(b)\\n    \\n\\n    \\ndefineGlobal()\\n#print(globals())\\nprint(locals())', '_ii': 'b = 200\\ndef defineGlobal( *args):\\n    global a\\n    a = 100\\n    print(b)\\n    \\n\\n    \\ndefineGlobal()\\nprint(globals())\\nprint(locals())', '_iii': 'b = 200\\ndef defineGlobal( *args):\\n    global a\\n    a = 100\\n    print(b)\\n    \\n\\n    \\ndefineGlobal()\\nprint(a)', '_i1': 'for i in range(1,11):\\n    print(i)', 'i': 9, '_i2': 'student_score = input(\"please input your score:\")\\nif studnet_score > 0:\\n    if studnet_score > 90:\\n        print(\"your score is A\")\\n    elif studnet_score > 80 and studnet_score <= 90\\n        print(\"your score is B\")\\n    elif studnet_score > 70 and studnet_score <= 80\\n        print(\"your score is C\")\\n    elif studnet_score > 60 and studnet_score <= 70\\n        print(\"your score is D\")\\n    else\\n        print(\"your score not pass!\")', '_i3': 'student_score = input(\"please input your score:\")\\nif studnet_score > 0:\\n    if studnet_score > 90:\\n        print(\"your score is A\")\\n    elif studnet_score > 80 and studnet_score < 90\\n        print(\"your score is B\")\\n    elif studnet_score > 70 and studnet_score < 80\\n        print(\"your score is C\")\\n    elif studnet_score > 60 and studnet_score < 70\\n        print(\"your score is D\")\\n    else\\n        print(\"your score not pass!\")', '_i4': 'student_score = input(\"please input your score:\")\\nif studnet_score > 0:\\n    if studnet_score > 90:\\n        print(\"your score is A\")\\n    elif studnet_score > 80 and studnet_score <= 90:\\n        print(\"your score is B\")\\n    elif studnet_score > 70 and studnet_score <= 80:\\n        print(\"your score is C\")\\n    elif studnet_score > 60 and studnet_score <= 70:\\n        print(\"your score is D\")\\n    else:\\n        print(\"your score not pass!\")', 'student_score': 70, '_i5': 'student_score = input(\"please input your score:\")\\nif studnet_score > 0:\\n    if student_score > 90:\\n        print(\"your score is A\")\\n    elif student_score > 80 and student_score <= 90:\\n        print(\"your score is B\")\\n    elif student_score > 70 and student_score <= 80:\\n        print(\"your score is C\")\\n    elif student_score > 60 and student_score <= 70:\\n        print(\"your score is D\")\\n    else:\\n        print(\"your score not pass!\")', '_i6': 'student_score = input(\"please input your score:\")\\nif student_score > 0:\\n    if student_score > 90:\\n        print(\"your score is A\")\\n    elif student_score > 80 and student_score <= 90:\\n        print(\"your score is B\")\\n    elif student_score > 70 and student_score <= 80:\\n        print(\"your score is C\")\\n    elif student_score > 60 and student_score <= 70:\\n        print(\"your score is D\")\\n    else:\\n        print(\"your score not pass!\")', '_i7': 'student_score = int(input(\"please input your score:\"))\\nif student_score > 0:\\n    if student_score > 90:\\n        print(\"your score is A\")\\n    elif student_score > 80 and student_score <= 90:\\n        print(\"your score is B\")\\n    elif student_score > 70 and student_score <= 80:\\n        print(\"your score is C\")\\n    elif student_score > 60 and student_score <= 70:\\n        print(\"your score is D\")\\n    else:\\n        print(\"your score not pass!\")', '_i8': 'student_score = int(input(\"please input your score:\"))\\nif student_score > 0:\\n    if student_score > 90:\\n        print(\"your score is A\")\\n    elif student_score > 80 and student_score <= 90:\\n        print(\"your score is B\")\\n    elif student_score > 70 and student_score <= 80:\\n        print(\"your score is C\")\\n    elif student_score > 60 and student_score <= 70:\\n        print(\"your score is D\")\\n    else:\\n        print(\"your score not pass!\")', '_i9': 'student_score = int(input(\"please input your score:\"))\\nif student_score > 0:\\n    if student_score > 90:\\n        print(\"your score is A\")\\n    elif student_score > 80 and student_score <= 90:\\n        print(\"your score is B\")\\n    elif student_score > 70 and student_score <= 80:\\n        print(\"your score is C\")\\n    elif student_score > 60 and student_score <= 70:\\n        print(\"your score is D\")\\n    else:\\n        print(\"your score not pass!\")', '_i10': 'student_score = int(input(\"please input your score:\"))\\nif student_score > 0:\\n    if student_score > 90:\\n        print(\"your score is A\")\\n    elif student_score > 80 and student_score <= 90:\\n        print(\"your score is B\")\\n    elif student_score > 70 and student_score <= 80:\\n        print(\"your score is C\")\\n    elif student_score >= 60 and student_score <= 70:\\n        print(\"your score is D\")\\n    else:\\n        print(\"your score not pass!\")', '_i11': 'student_score = int(input(\"please input your score:\"))\\nif student_score > 0:\\n    if student_score > 90:\\n        print(\"your score is A\")\\n    elif student_score > 80 and student_score <= 90:\\n        print(\"your score is B\")\\n    elif student_score > 70 and student_score <= 80:\\n        print(\"your score is C\")\\n    elif student_score >= 60 and student_score <= 70:\\n        print(\"your score is D\")\\n    else:\\n        print(\"your score not pass!\")', '_i12': \"person_list = ['zhangsan','lisi','wangwu','zhaoliu']\\nfor _ in person_list:\\n    print('1')\", 'person_list': ['zhangsan', 'lisi', 'wangwu', 'zhaoliu'], '_i13': \"person_list = ['zhangsan','lisi','wangwu','zhaoliu']\\nfor i in person_list:\\n    print(i)\", '_i14': \"person_list = ['zhangsan','lisi','wangwu','zhaoliu']\\nfor i in person_list:\\n    if i != 'lisi':\\n        print('this is not lisi')\\n    else:\\n        print('yes, this is lisi!')\", '_i15': \"person_list = ['zhangsan','lisi','wangwu','zhaoliu']\\nfor i in person_list:\\n    if i != 'lisi':\\n        print('this is not lisi')\\n    else:\\n        print('yes, this is lisi!')\\n        break\", '_i16': \"person_list = ['zhangsan','lisi','wangwu','zhaoliu']\\nfor i in person_list:\\n    if i != 'lisi':\\n        continue\\n    else:\\n        print('yes, this is lisi!')\\n        break\", '_i17': \"person_list = ['zhangsan','lisi','wangwu','zhaoliu']\\nfor i in person_list:\\n    pass\\n    if i != 'lisi':\\n        continue\\n    else:\\n        print('yes, this is lisi!')\\n        break\", '_i18': '# make a 9 * 9 \\n\\nfor i in range(1,10)', '_i19': \"# make a 9 * 9 \\n\\nfor i in range(1,10):\\n    print('----')\", '_i20': \"# make a 9 * 9 \\n\\nfor i in range(1,10):\\n    print('i')\", '_i21': '# make a 9 * 9 \\n\\nfor i in range(1,10):\\n    print(i)', '_i22': '# make a 9 * 9 \\n\\nfor i in range(1,10):\\n    for j in range(1,i):\\n        print(i)', 'j': 9, '_i23': '# make a 9 * 9 \\n\\nfor i in range(1,10):\\n    for j in range(1,i):\\n        print(\"i\")', '_i24': '# make a 9 * 9 \\n\\nfor i in range(1,10):\\n    for j in range(1,i):\\n        print(j)', '_i25': \"# make a 9 * 9 \\n\\nfor i in range(1,10):\\n    for j in range(1,i):\\n        print(j,end='')\", '_i26': '# make a 9 * 9 \\n\\nfor i in range(1,10):\\n    for j in range(1,i):\\n        print(j)', '_i27': '# make a 9 * 9 \\n\\nfor i in range(1,10):\\n    print(i)\\n    for j in range(1,i):\\n        print(j)', '_i28': '# make a 9 * 9 \\n\\nfor i in range(1,10):\\n    print(i)\\n    for j in range(1,i):\\n        pass', '_i29': '# make a 9 * 9 \\n\\nfor i in range(1,10):\\n    for j in range(1,i):\\n        pass', '_i30': \"# make a 9 * 9 \\n\\nfor i in range(1,10):\\n    for j in range(1,i):\\n        print('i')\", '_i31': '# make a 9 * 9 \\n\\nfor i in range(1,10):\\n    for j in range(1,i):\\n        print(i * j)', '_i32': '# make a 9 * 9 \\n\\nfor i in range(1,10):\\n    for j in range(1,i+1):\\n        print(i * j)', '_i33': \"# make a 9 * 9 \\n\\nfor i in range(1,10):\\n    for j in range(1,i+1):\\n        print(i * j)\\n    print('')\", '_i34': \"# make a 9 * 9 \\n\\nfor i in range(1,10):\\n    for j in range(1,i+1):\\n        print(i * j)\\n    print('---')\", '_i35': \"# make a 9 * 9 \\n\\nfor i in range(1,10):\\n    for j in range(1,i+1):\\n        print(i * j)\\n    print('',end = '')\", '_i36': \"# make a 9 * 9 \\n\\nfor i in range(1,10):\\n    for j in range(1,i+1):\\n        print(i * j)\\n    print('')\", '_i37': \"# make a 9 * 9 \\n\\nfor i in range(1,10):\\n    for j in range(1,i+1):\\n        print(i * j,end = '')\\n    print('')\", '_i38': \"# make a 9 * 9 \\n\\nfor i in range(1,10):\\n    for j in range(1,i+1):\\n        print(i * j,end = '')\\n    print(' ')\", '_i39': \"# make a 9 * 9 \\n\\nfor i in range(1,10):\\n    for j in range(1,i+1):\\n        print(i * j,end = '')\\n    print(' ')\", '_i40': \"# make a 9 * 9 \\n\\nfor i in range(1,10):\\n    for j in range(1,i+1):\\n        print(i * j,end = ' ')\\n    print(' ')\", '_i41': \"# make a 9 * 9 \\n\\nfor i in range(1,10):\\n    for j in range(1,i+1):\\n        print(i * j,end = ' ')\\n    print('')\", '_i42': \"# make a 9 * 9 \\ndef calculate9(i):\\n    for j in range(1,i+1):\\n        print(i * j,end = ' ')\\n    print('')\\nfor i in range(1,10):\\n    calculate9(i)\", 'calculate9': <function calculate9 at 0x1091b1378>, '_i43': \"# make a 9 * 9 \\ndef calculate9(i):\\n    for j in range(1,i+1):\\n        print(i * j,end = ' ')\\n    print('')\\nfor i in range(1,10):\\n    calculate9(i)\", '_i44': 'help(numpy)', '_i45': 'help(sys)', '_i46': 'help(input)', '_i47': 'def testfunction(name,age = 18, *args):\\n    print(\"this is a self-introduction\")\\n    print(\"i am {0} , i {1} years old\".format(name,age))\\n\\n\\ntestfunction(\\'shangjingwei\\')', 'testfunction': <function testfunction at 0x1091b1510>, '_i48': 'def testfunction(name,age = 18, *args):\\n    print(\"this is a self-introduction\")\\n    print(\"i am {0} , i {1} years old\".format(name,age))\\n\\n\\ntestfunction(\\'shangjingwei\\',\\'i come from henan\\')', '_i49': 'def testfunction(name, *args,age = 18):\\n    print(\"this is a self-introduction\")\\n    print(\"i am {0} , i {1} years old\".format(name,age))\\n\\n\\ntestfunction(\\'shangjingwei\\',\\'i come from henan\\')', '_i50': 'def testfunction(name, *args,age = 18):\\n    print(\"this is a self-introduction\")\\n    print(\"i am {0} , i {1} years old\".format(name,age))\\n    for i in args:\\n        print(i)\\n\\n\\ntestfunction(\\'shangjingwei\\',\\'i come from henan\\')', '_i51': 'def testfunction(name, *args,age = 18):\\n    print(\"this is a self-introduction\")\\n    print(\"i am {0} , i {1} years old\".format(name,age))\\n    for i in args:\\n        print(i)\\n\\n\\ntestfunction(\\'shangjingwei\\',\\'i come from henan\\',\\'my hobby is swimming\\')', '_i52': 'def testfunction(name, *args,age = 18,**args):\\n    print(\"this is a self-introduction\")\\n    print(\"i am {0} , i {1} years old\".format(name,age))\\n    for i in args:\\n        type(agrs)\\n        print(i)\\n\\n\\ntestfunction(\\'shangjingwei\\',\\'i come from henan\\',\\'my hobby is swimming\\')', '_i53': 'def testfunction(name, *args,age = 18,**args):\\n    print(\"this is a self-introduction\")\\n    print(\"i am {0} , i {1} years old\".format(name,age))\\n    for i in args:\\n        type(args)\\n        print(i)\\n\\n\\ntestfunction(\\'shangjingwei\\',\\'i come from henan\\',\\'my hobby is swimming\\')', '_i54': 'def testfunction(name, *args,age = 18,**args):\\n    print(\"this is a self-introduction\")\\n    print(\"i am {0} , i {1} years old\".format(name,age))\\n    for i in args:\\n        type(i)\\n        print(i)\\n\\n\\ntestfunction(\\'shangjingwei\\',\\'i come from henan\\',\\'my hobby is swimming\\')', '_i55': 'def testfunction(name, *args,age = 18,**args):\\n    print(\"this is a self-introduction\")\\n    print(\"i am {0} , i {1} years old\".format(name,age))\\n    for i in args:\\n        type(args())\\n        print(i)\\n\\n\\ntestfunction(\\'shangjingwei\\',\\'i come from henan\\',\\'my hobby is swimming\\')', '_i56': 'def testfunction(name, *args,age = 18,**args):\\n    print(\"this is a self-introduction\")\\n    print(\"i am {0} , i {1} years old\".format(name,age))\\n    for i in args:\\n        args.type()\\n        print(i)\\n\\n\\ntestfunction(\\'shangjingwei\\',\\'i come from henan\\',\\'my hobby is swimming\\')', '_i57': 'def testfunction(name, *args,age = 18,**args):\\n    print(\"this is a self-introduction\")\\n    print(\"i am {0} , i {1} years old\".format(name,age))\\n    for i in args:\\n        type(*args)\\n        print(i)\\n\\n\\ntestfunction(\\'shangjingwei\\',\\'i come from henan\\',\\'my hobby is swimming\\')', '_i58': 'def testfunction(name, *args,age = 18,**args):\\n    print(\"this is a self-introduction\")\\n    print(\"i am {0} , i {1} years old\".format(name,age))\\n    type(args)\\n    for i in args:\\n        print(i)\\n\\n\\ntestfunction(\\'shangjingwei\\',\\'i come from henan\\',\\'my hobby is swimming\\')', '_i59': 'def testfunction(name, *args,age = 18,**args):\\n    print(\"this is a self-introduction\")\\n    print(\"i am {0} , i {1} years old\".format(name,age))\\n    for i in args:\\n        print(i)\\n\\n\\ntestfunction(\\'shangjingwei\\',\\'i come from henan\\',\\'my hobby is swimming\\')', '_i60': 'def testfunction(name, *args,age = 18,**kwargs):\\n    print(\"this is a self-introduction\")\\n    print(\"i am {0} , i {1} years old\".format(name,age))\\n    for i in args:\\n        type(args)\\n        print(i)\\n\\n\\ntestfunction(\\'shangjingwei\\',\\'i come from henan\\',\\'my hobby is swimming\\')', '_i61': 'def testfunction(name, *args,age = 18,**kwargs):\\n    print(\"this is a self-introduction\")\\n    print(\"i am {0} , i {1} years old\".format(name,age))\\n    for i in args:\\n        type(*args)\\n        print(i)\\n\\n\\ntestfunction(\\'shangjingwei\\',\\'i come from henan\\',\\'my hobby is swimming\\')', '_i62': 'def testfunction(name, *args,age = 18,**kwargs):\\n    print(\"this is a self-introduction\")\\n    print(\"i am {0} , i {1} years old\".format(name,age))\\n    for i in args:\\n        type(args)\\n        print(i)\\n\\n\\ntestfunction(\\'shangjingwei\\',\\'i come from henan\\',\\'my hobby is swimming\\')', '_i63': 'def testfunction(name, *args,age = 18,**kwargs):\\n    print(\"this is a self-introduction\")\\n    print(\"i am {0} , i {1} years old\".format(name,age))\\n    type(args)\\n    for i in args:\\n\\n        print(i)\\n\\n\\ntestfunction(\\'shangjingwei\\',\\'i come from henan\\',\\'my hobby is swimming\\')', '_i64': 'def testfunction(name, *args,age = 18,**kwargs):\\n    print(\"this is a self-introduction\")\\n    print(\"i am {0} , i {1} years old\".format(name,age))\\n    type(args())\\n    for i in args:\\n\\n        print(i)\\n\\n\\ntestfunction(\\'shangjingwei\\',\\'i come from henan\\',\\'my hobby is swimming\\')', '_i65': 'def testfunction(name, *args,age = 18,**kwargs):\\n    print(\"this is a self-introduction\")\\n    print(\"i am {0} , i {1} years old\".format(name,age))\\n    type(args\\n    for i in args:\\n\\n        print(i)\\n\\n\\ntestfunction(\\'shangjingwei\\',\\'i come from henan\\',\\'my hobby is swimming\\')', '_i66': 'def testfunction(name, *args,age = 18,**kwargs):\\n    print(\"this is a self-introduction\")\\n    print(\"i am {0} , i {1} years old\".format(name,age))\\n    type(args)\\n    for i in args:\\n\\n        print(i)\\n\\n\\ntestfunction(\\'shangjingwei\\',\\'i come from henan\\',\\'my hobby is swimming\\')', '_i67': 'def testfunction(name, *args,age = 18,**kwargs):\\n    print(\"this is a self-introduction\")\\n    print(\"i am {0} , i {1} years old\".format(name,age))\\n    print(type(args))\\n    for i in args:\\n        print(i)\\n\\n\\ntestfunction(\\'shangjingwei\\',\\'i come from henan\\',\\'my hobby is swimming\\')', '_i68': 'def testfunction(name, *args,age = 18,**kwargs):\\n    print(\"this is a self-introduction\")\\n    print(\"i am {0} , i {1} years old\".format(name,age))\\n    print(type(args))\\n    for i in args:\\n        print(i)\\n    print(type(kwargs))\\n    for j in kwargs.items:\\n        print(j)\\n\\n\\ntestfunction(\\'shangjingwei\\',\\'i come from henan\\',\\'my hobby is swimming\\')', '_i69': 'def testfunction(name, *args,age = 18,**kwargs):\\n    print(\"this is a self-introduction\")\\n    print(\"i am {0} , i {1} years old\".format(name,age))\\n    print(type(args))\\n    for i in args:\\n        print(i)\\n    print(type(kwargs))\\n    for j in kwargs.item:\\n        print(j)\\n\\n\\ntestfunction(\\'shangjingwei\\',\\'i come from henan\\',\\'my hobby is swimming\\')', '_i70': 'def testfunction(name, *args,age = 18,**kwargs):\\n    print(\"this is a self-introduction\")\\n    print(\"i am {0} , i {1} years old\".format(name,age))\\n    print(type(args))\\n    for i in args:\\n        print(i)\\n    print(type(kwargs))\\n    for j in kwargs:\\n        print(j)\\n\\n\\ntestfunction(\\'shangjingwei\\',\\'i come from henan\\',\\'my hobby is swimming\\')', '_i71': 'def testfunction(name, *args,age = 18,**kwargs):\\n    print(\"this is a self-introduction\")\\n    print(\"i am {0} , i {1} years old\".format(name,age))\\n    print(type(args))\\n    for i in args:\\n        print(i)\\n    print(type(kwargs))\\n    for j in kwargs:\\n        print(j)\\n\\n\\ntestfunction(\\'shangjingwei\\',\\'i come from henan\\',\\'my hobby is swimming\\',hobby2=\\'eat\\')', '_i72': 'def testfunction(name, *args,age = 18,**kwargs):\\n    print(\"this is a self-introduction\")\\n    print(\"i am {0} , i {1} years old\".format(name,age))\\n    print(type(args))\\n    for i in args:\\n        print(i)\\n    print(type(kwargs))\\n    for k,v in kwargs.items:\\n        print(j)\\n\\n\\ntestfunction(\\'shangjingwei\\',\\'i come from henan\\',\\'my hobby is swimming\\',hobby2=\\'eat\\')', '_i73': 'def testfunction(name, *args,age = 18,**kwargs):\\n    print(\"this is a self-introduction\")\\n    print(\"i am {0} , i {1} years old\".format(name,age))\\n    print(type(args))\\n    for i in args:\\n        print(i)\\n    print(type(kwargs))\\n    for k,v in kwargs.item:\\n        print(j)\\n\\n\\ntestfunction(\\'shangjingwei\\',\\'i come from henan\\',\\'my hobby is swimming\\',hobby2=\\'eat\\')', '_i74': 'def testfunction(name, *args,age = 18,**kwargs):\\n    print(\"this is a self-introduction\")\\n    print(\"i am {0} , i {1} years old\".format(name,age))\\n    print(type(args))\\n    for i in args:\\n        print(i)\\n    print(type(kwargs))\\n    for k,v in kwargs.items:\\n        print(j)\\n\\n\\ntestfunction(\\'shangjingwei\\',\\'i come from henan\\',\\'my hobby is swimming\\',hobby2=\\'eat\\')', '_i75': 'def testfunction(name, *args,age = 18,**kwargs):\\n    print(\"this is a self-introduction\")\\n    print(\"i am {0} , i {1} years old\".format(name,age))\\n    print(type(args))\\n    for i in args:\\n        print(i)\\n    print(type(kwargs))\\n    for k,v in kwargs,items:\\n        print(j)\\n\\n\\ntestfunction(\\'shangjingwei\\',\\'i come from henan\\',\\'my hobby is swimming\\',hobby2=\\'eat\\')', '_i76': 'def testfunction(name, *args,age = 18,**kwargs):\\n    print(\"this is a self-introduction\")\\n    print(\"i am {0} , i {1} years old\".format(name,age))\\n    print(type(args))\\n    for i in args:\\n        print(i)\\n    print(type(kwargs))\\n    for k,v in kwargs.items():\\n        print(j)\\n\\n\\ntestfunction(\\'shangjingwei\\',\\'i come from henan\\',\\'my hobby is swimming\\',hobby2=\\'eat\\')', '_i77': 'def testfunction(name, *args,age = 18,**kwargs):\\n    print(\"this is a self-introduction\")\\n    print(\"i am {0} , i {1} years old\".format(name,age))\\n    print(type(args))\\n    for i in args:\\n        print(i)\\n    print(type(kwargs))\\n    for k,v in kwargs.items():\\n        print(k,v)\\n\\n\\ntestfunction(\\'shangjingwei\\',\\'i come from henan\\',\\'my hobby is swimming\\',hobby2=\\'eat\\')', '_i78': 'def testfunction(name, *args,age = 18,**kwargs):\\n    print(\"this is a self-introduction\")\\n    print(\"i am {0} , i {1} years old\".format(name,age))\\n    print(type(args))\\n    for i in args:\\n        print(i)\\n    print(type(kwargs))\\n    for k,v in kwargs.items():\\n        print(k,\\'-\\' * 10,v)\\n\\n\\ntestfunction(\\'shangjingwei\\',\\'i come from henan\\',\\'my hobby is swimming\\',hobby2=\\'eat\\')', '_i79': 'def dispack( *args):\\n    for i in args:\\n        print(i)', 'dispack': <function dispack at 0x1073f98c8>, '_i80': \"def dispack( *args):\\n    for i in args:\\n        print(i)\\n        \\n\\nl = ['zhangsan','lisi','wangwu','zhaoliu']\\n\\ndispack(l)\", 'l': ['zhangsan', 'lisi', 'wangwu', 'zhaoliu'], '_i81': \"def dispack( *args):\\n    for i in args:\\n        print(type(args))\\n        print(i)\\n        \\n\\nl = ['zhangsan','lisi','wangwu','zhaoliu']\\n\\ndispack(l)\", '_i82': \"def dispack( *args):\\n    for i in args:\\n        print(type(args))\\n        print(i)\\n        \\n\\nl = ['zhangsan','lisi','wangwu','zhaoliu']\\n\\ndispack(*l)\", '_i83': 'def defineGlobal( *args):\\n    global a\\n    a = 100\\n    \\n\\n    \\ndefineGlobal()\\nprint(a)', 'defineGlobal': <function defineGlobal at 0x1091b1730>, 'a': 100, '_i84': 'def defineGlobal( *args):\\n    global a\\n    a = 100\\n    \\n\\n    \\n#defineGlobal()\\nprint(a)', '_i85': 'b = 200\\ndef defineGlobal( *args):\\n    global a\\n    a = 100\\n    print(b)\\n    \\n\\n    \\n#defineGlobal()\\nprint(a)', 'b': 200, '_i86': 'b = 200\\ndef defineGlobal( *args):\\n    global a\\n    a = 100\\n    print(b)\\n    \\n\\n    \\ndefineGlobal()\\nprint(a)', '_i87': 'b = 200\\ndef defineGlobal( *args):\\n    global a\\n    a = 100\\n    print(b)\\n    \\n\\n    \\ndefineGlobal()\\nprint(globals())\\nprint(locals())', '_i88': 'b = 200\\ndef defineGlobal( *args):\\n    global a\\n    a = 100\\n    print(b)\\n    \\n\\n    \\ndefineGlobal()\\n#print(globals())\\nprint(locals())', '_i89': 'b = 200\\ndef defineGlobal( *args):\\n    global a\\n    a = 100\\n    print(b)\\n    \\n\\n    \\ndefineGlobal()\\n#print(globals())\\nprint(locals())'}\n"
     ]
    }
   ],
   "source": [
    "b = 200\n",
    "def defineGlobal( *args):\n",
    "    global a\n",
    "    a = 100\n",
    "    print(b)\n",
    "    \n",
    "\n",
    "    \n",
    "defineGlobal()\n",
    "#print(globals())\n",
    "print(locals())"
   ]
  },
  {
   "cell_type": "code",
   "execution_count": 4,
   "metadata": {},
   "outputs": [
    {
     "name": "stdout",
     "output_type": "stream",
     "text": [
      "['False', 'None', 'True', 'and', 'as', 'assert', 'async', 'await', 'break', 'class', 'continue', 'def', 'del', 'elif', 'else', 'except', 'finally', 'for', 'from', 'global', 'if', 'import', 'in', 'is', 'lambda', 'nonlocal', 'not', 'or', 'pass', 'raise', 'return', 'try', 'while', 'with', 'yield']\n"
     ]
    }
   ],
   "source": [
    "print(keyword.kwlist)"
   ]
  },
  {
   "cell_type": "code",
   "execution_count": 5,
   "metadata": {},
   "outputs": [
    {
     "name": "stdout",
     "output_type": "stream",
     "text": [
      "18\n"
     ]
    }
   ],
   "source": [
    "print(0o22)"
   ]
  },
  {
   "cell_type": "code",
   "execution_count": 1,
   "metadata": {},
   "outputs": [
    {
     "name": "stdout",
     "output_type": "stream",
     "text": [
      "1\n",
      "2\n",
      "3\n",
      "4\n",
      "5\n",
      "6\n",
      "7\n",
      "8\n",
      "9\n",
      "10\n"
     ]
    }
   ],
   "source": [
    "for i in range(1,11):\n",
    "    print(i)"
   ]
  },
  {
   "cell_type": "code",
   "execution_count": 11,
   "metadata": {},
   "outputs": [
    {
     "name": "stdout",
     "output_type": "stream",
     "text": [
      "please input your score:70\n",
      "your score is D\n"
     ]
    }
   ],
   "source": [
    "student_score = int(input(\"please input your score:\"))\n",
    "if student_score > 0:\n",
    "    if student_score > 90:\n",
    "        print(\"your score is A\")\n",
    "    elif student_score > 80 and student_score <= 90:\n",
    "        print(\"your score is B\")\n",
    "    elif student_score > 70 and student_score <= 80:\n",
    "        print(\"your score is C\")\n",
    "    elif student_score >= 60 and student_score <= 70:\n",
    "        print(\"your score is D\")\n",
    "    else:\n",
    "        print(\"your score not pass!\")"
   ]
  },
  {
   "cell_type": "code",
   "execution_count": null,
   "metadata": {},
   "outputs": [],
   "source": [
    "# 程序三大构造，首先第一个是嵌套，分支，循环。"
   ]
  },
  {
   "cell_type": "code",
   "execution_count": 17,
   "metadata": {},
   "outputs": [
    {
     "name": "stdout",
     "output_type": "stream",
     "text": [
      "yes, this is lisi!\n"
     ]
    }
   ],
   "source": [
    "person_list = ['zhangsan','lisi','wangwu','zhaoliu']\n",
    "for i in person_list:\n",
    "    pass\n",
    "    if i != 'lisi':\n",
    "        continue\n",
    "    else:\n",
    "        print('yes, this is lisi!')\n",
    "        break"
   ]
  },
  {
   "cell_type": "code",
   "execution_count": 43,
   "metadata": {},
   "outputs": [
    {
     "name": "stdout",
     "output_type": "stream",
     "text": [
      "1 \n",
      "2 4 \n",
      "3 6 9 \n",
      "4 8 12 16 \n",
      "5 10 15 20 25 \n",
      "6 12 18 24 30 36 \n",
      "7 14 21 28 35 42 49 \n",
      "8 16 24 32 40 48 56 64 \n",
      "9 18 27 36 45 54 63 72 81 \n"
     ]
    }
   ],
   "source": [
    "# make a 9 * 9 \n",
    "def calculate9(i):\n",
    "    for j in range(1,i+1):\n",
    "        print(i * j,end = ' ')\n",
    "    print('')\n",
    "for i in range(1,10):\n",
    "    calculate9(i)"
   ]
  },
  {
   "cell_type": "code",
   "execution_count": 78,
   "metadata": {},
   "outputs": [
    {
     "name": "stdout",
     "output_type": "stream",
     "text": [
      "this is a self-introduction\n",
      "i am shangjingwei , i 18 years old\n",
      "<class 'tuple'>\n",
      "i come from henan\n",
      "my hobby is swimming\n",
      "<class 'dict'>\n",
      "hobby2 ---------- eat\n"
     ]
    }
   ],
   "source": [
    "def testfunction(name, *args,age = 18,**kwargs):\n",
    "    print(\"this is a self-introduction\")\n",
    "    print(\"i am {0} , i {1} years old\".format(name,age))\n",
    "    print(type(args))\n",
    "    for i in args:\n",
    "        print(i)\n",
    "    print(type(kwargs))\n",
    "    for k,v in kwargs.items():\n",
    "        print(k,'-' * 10,v)\n",
    "\n",
    "\n",
    "testfunction('shangjingwei','i come from henan','my hobby is swimming',hobby2='eat')"
   ]
  },
  {
   "cell_type": "code",
   "execution_count": 82,
   "metadata": {},
   "outputs": [
    {
     "name": "stdout",
     "output_type": "stream",
     "text": [
      "<class 'tuple'>\n",
      "zhangsan\n",
      "<class 'tuple'>\n",
      "lisi\n",
      "<class 'tuple'>\n",
      "wangwu\n",
      "<class 'tuple'>\n",
      "zhaoliu\n"
     ]
    }
   ],
   "source": [
    "def dispack( *args):\n",
    "    for i in args:\n",
    "        print(type(args))\n",
    "        print(i)\n",
    "        \n",
    "\n",
    "l = ['zhangsan','lisi','wangwu','zhaoliu']\n",
    "\n",
    "dispack(*l)"
   ]
  },
  {
   "cell_type": "code",
   "execution_count": 91,
   "metadata": {},
   "outputs": [
    {
     "name": "stdout",
     "output_type": "stream",
     "text": [
      "200\n",
      "100\n"
     ]
    }
   ],
   "source": [
    "b = 200\n",
    "def defineGlobal( *args):\n",
    "    global a\n",
    "    a = 100\n",
    "    print(b)\n",
    "    \n",
    "\n",
    "    \n",
    "defineGlobal()\n",
    "print(a)\n",
    "#print(globals())\n",
    "#print(locals())"
   ]
  },
  {
   "cell_type": "code",
   "execution_count": 98,
   "metadata": {},
   "outputs": [
    {
     "name": "stdout",
     "output_type": "stream",
     "text": [
      "* \n",
      "* * \n",
      "* * * \n",
      "* * * * \n",
      "* * * * * \n",
      "* * * * * * \n",
      "* * * * * * * \n",
      "* * * * * * * * \n",
      "* * * * * * * * * \n",
      "* * * * * * * * * * \n"
     ]
    }
   ],
   "source": [
    "for i in range(1,11):\n",
    "    for j in range(1,i+1):\n",
    "        print('*',end = \" \")\n",
    "    print(\"\")"
   ]
  },
  {
   "cell_type": "code",
   "execution_count": 100,
   "metadata": {},
   "outputs": [
    {
     "name": "stdout",
     "output_type": "stream",
     "text": [
      "1\n",
      "3\n",
      "5\n",
      "7\n",
      "9\n",
      "11\n",
      "13\n",
      "15\n",
      "17\n",
      "19\n",
      "21\n",
      "23\n",
      "25\n",
      "27\n",
      "29\n",
      "31\n",
      "33\n",
      "35\n",
      "37\n",
      "39\n",
      "41\n",
      "43\n",
      "45\n",
      "47\n",
      "49\n",
      "51\n",
      "53\n",
      "55\n",
      "57\n",
      "59\n",
      "61\n",
      "63\n",
      "65\n",
      "67\n",
      "69\n",
      "71\n",
      "73\n",
      "75\n",
      "77\n",
      "79\n",
      "81\n",
      "83\n",
      "85\n",
      "87\n",
      "89\n",
      "91\n",
      "93\n",
      "95\n",
      "97\n",
      "99\n"
     ]
    }
   ],
   "source": [
    "# 打印100以内的所有的奇数\n",
    "for i in range(1,101):\n",
    "    if i % 2 == 0:\n",
    "        pass\n",
    "    else:\n",
    "        print(i)"
   ]
  },
  {
   "cell_type": "code",
   "execution_count": null,
   "metadata": {},
   "outputs": [],
   "source": [
    "# exec() and eval()函数 "
   ]
  },
  {
   "cell_type": "code",
   "execution_count": 113,
   "metadata": {},
   "outputs": [
    {
     "name": "stdout",
     "output_type": "stream",
     "text": [
      "the value c is : 6\n"
     ]
    }
   ],
   "source": [
    "a = 2\n",
    "b = 3\n",
    "exec('c = a * b')\n",
    "print('the value c is : {0}'.format(c))"
   ]
  },
  {
   "cell_type": "code",
   "execution_count": 114,
   "metadata": {},
   "outputs": [],
   "source": [
    "# list "
   ]
  },
  {
   "cell_type": "code",
   "execution_count": 127,
   "metadata": {},
   "outputs": [
    {
     "name": "stdout",
     "output_type": "stream",
     "text": [
      "[1, 2]\n",
      "[7, 6, 5, 4, 3, 2, 1]\n"
     ]
    }
   ],
   "source": [
    "l = [1,2,3,4,5,6,7]\n",
    "print(l[0:2])\n",
    "print(l[::-1])"
   ]
  },
  {
   "cell_type": "code",
   "execution_count": null,
   "metadata": {},
   "outputs": [],
   "source": [
    "# 关于迭代部分\n",
    "# 典型的例子, 比如, f(n)=f(n-2)+f(n-1)\n",
    "# 特殊情况, 当n=1和n=2时他们的值都为1.\n",
    "# list=[1,1,2,3,5,8,13,21,34,55,89]"
   ]
  },
  {
   "cell_type": "code",
   "execution_count": 135,
   "metadata": {},
   "outputs": [
    {
     "name": "stdout",
     "output_type": "stream",
     "text": [
      "1\n",
      "1\n",
      "2\n",
      "3\n",
      "5\n",
      "8\n",
      "13\n",
      "21\n",
      "34\n",
      "55\n",
      "89\n"
     ]
    }
   ],
   "source": [
    "def fun(n):\n",
    "    if n == 1:\n",
    "        return 1\n",
    "    if n == 2:\n",
    "        return 1\n",
    "    return fun(n-1) + fun(n-2)\n",
    "\n",
    "#fun(1)\n",
    "for i in range(1,12):\n",
    "    print(fun(int('{0}'.format(i))))"
   ]
  },
  {
   "cell_type": "code",
   "execution_count": 141,
   "metadata": {},
   "outputs": [
    {
     "name": "stdout",
     "output_type": "stream",
     "text": [
      "[1, 2, 4, 5, 6, 7, 8]\n"
     ]
    },
    {
     "ename": "NameError",
     "evalue": "name 'l' is not defined",
     "output_type": "error",
     "traceback": [
      "\u001b[0;31m---------------------------------------------------------------------------\u001b[0m",
      "\u001b[0;31mNameError\u001b[0m                                 Traceback (most recent call last)",
      "\u001b[0;32m<ipython-input-141-bc658890c9d6>\u001b[0m in \u001b[0;36m<module>\u001b[0;34m\u001b[0m\n\u001b[1;32m      3\u001b[0m \u001b[0mprint\u001b[0m\u001b[0;34m(\u001b[0m\u001b[0ml\u001b[0m\u001b[0;34m)\u001b[0m\u001b[0;34m\u001b[0m\u001b[0;34m\u001b[0m\u001b[0m\n\u001b[1;32m      4\u001b[0m \u001b[0;32mdel\u001b[0m \u001b[0ml\u001b[0m\u001b[0;34m\u001b[0m\u001b[0;34m\u001b[0m\u001b[0m\n\u001b[0;32m----> 5\u001b[0;31m \u001b[0mprint\u001b[0m\u001b[0;34m(\u001b[0m\u001b[0ml\u001b[0m\u001b[0;34m)\u001b[0m\u001b[0;34m\u001b[0m\u001b[0;34m\u001b[0m\u001b[0m\n\u001b[0m",
      "\u001b[0;31mNameError\u001b[0m: name 'l' is not defined"
     ]
    }
   ],
   "source": [
    "l = [1,2,3,4,5,6,7,8]\n",
    "del l[2]\n",
    "print(l)\n",
    "del l\n",
    "print(l)"
   ]
  },
  {
   "cell_type": "code",
   "execution_count": 140,
   "metadata": {},
   "outputs": [
    {
     "ename": "NameError",
     "evalue": "name 'l' is not defined",
     "output_type": "error",
     "traceback": [
      "\u001b[0;31m---------------------------------------------------------------------------\u001b[0m",
      "\u001b[0;31mNameError\u001b[0m                                 Traceback (most recent call last)",
      "\u001b[0;32m<ipython-input-140-3db29c61a670>\u001b[0m in \u001b[0;36m<module>\u001b[0;34m\u001b[0m\n\u001b[1;32m      1\u001b[0m \u001b[0;32mdel\u001b[0m \u001b[0ml\u001b[0m\u001b[0;34m\u001b[0m\u001b[0;34m\u001b[0m\u001b[0m\n\u001b[0;32m----> 2\u001b[0;31m \u001b[0mprint\u001b[0m\u001b[0;34m(\u001b[0m\u001b[0ml\u001b[0m\u001b[0;34m)\u001b[0m\u001b[0;34m\u001b[0m\u001b[0;34m\u001b[0m\u001b[0m\n\u001b[0m",
      "\u001b[0;31mNameError\u001b[0m: name 'l' is not defined"
     ]
    }
   ],
   "source": []
  },
  {
   "cell_type": "code",
   "execution_count": 1,
   "metadata": {},
   "outputs": [],
   "source": [
    "# list tuple set dict"
   ]
  },
  {
   "cell_type": "code",
   "execution_count": 4,
   "metadata": {},
   "outputs": [
    {
     "name": "stdout",
     "output_type": "stream",
     "text": [
      "<class 'tuple'>\n"
     ]
    }
   ],
   "source": [
    "# first define a list\n",
    "l = ()\n",
    "print(type(l))"
   ]
  },
  {
   "cell_type": "code",
   "execution_count": null,
   "metadata": {},
   "outputs": [],
   "source": []
  }
 ],
 "metadata": {
  "kernelspec": {
   "display_name": "Python 3",
   "language": "python",
   "name": "python3"
  },
  "language_info": {
   "codemirror_mode": {
    "name": "ipython",
    "version": 3
   },
   "file_extension": ".py",
   "mimetype": "text/x-python",
   "name": "python",
   "nbconvert_exporter": "python",
   "pygments_lexer": "ipython3",
   "version": "3.7.1"
  }
 },
 "nbformat": 4,
 "nbformat_minor": 2
}
